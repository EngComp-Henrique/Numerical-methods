{
  "nbformat": 4,
  "nbformat_minor": 0,
  "metadata": {
    "colab": {
      "provenance": [],
      "collapsed_sections": [],
      "authorship_tag": "ABX9TyMo3/vFOTMYcym7G1VBEtXe",
      "include_colab_link": true
    },
    "kernelspec": {
      "name": "python3",
      "display_name": "Python 3"
    },
    "language_info": {
      "name": "python"
    }
  },
  "cells": [
    {
      "cell_type": "markdown",
      "metadata": {
        "id": "view-in-github",
        "colab_type": "text"
      },
      "source": [
        "<a href=\"https://colab.research.google.com/github/EngComp-Henrique/Numerical-methods/blob/main/Exercise_list_the_bisection_method.ipynb\" target=\"_parent\"><img src=\"https://colab.research.google.com/assets/colab-badge.svg\" alt=\"Open In Colab\"/></a>"
      ]
    },
    {
      "cell_type": "markdown",
      "source": [
        "<div align='center'>\n",
        "    <h1><u>Métodos numéricos</u></h1>\n",
        "</div>"
      ],
      "metadata": {
        "id": "YcF3EouCHR_T"
      }
    },
    {
      "cell_type": "markdown",
      "source": [
        "## Descrição\n",
        "\n",
        "Lista de exercícios referente ao conteúdo de *Solução de Equações Não Lineares Univariadas* (semana 4)\n",
        "\n",
        "## Conteúdos\n",
        "1. Erros e tipos de erros\n",
        "2. Método da Bisseção\n",
        "3. Método da Falsa Posição"
      ],
      "metadata": {
        "id": "2Khsfi9AkwO8"
      }
    },
    {
      "cell_type": "markdown",
      "source": [
        "### Algoritmos e bibliotecas para as soluções"
      ],
      "metadata": {
        "id": "nEvybdOpHdtG"
      }
    },
    {
      "cell_type": "code",
      "source": [
        "import numpy as np\n",
        "import matplotlib.pyplot as plt"
      ],
      "metadata": {
        "id": "PueNLEq6fTUN"
      },
      "execution_count": 1,
      "outputs": []
    },
    {
      "cell_type": "markdown",
      "source": [
        "### Definição de algoritmos que serão utilizados ao longo da resolução dos exercícios"
      ],
      "metadata": {
        "id": "LIXaYigllLjC"
      }
    },
    {
      "cell_type": "code",
      "execution_count": 2,
      "metadata": {
        "id": "ISCm9CkLeIsn"
      },
      "outputs": [],
      "source": [
        "def abs_error(x1, x2):\n",
        "    \"\"\"Método que calcula o erro relativo entre dois valores\"\"\"\n",
        "    return (x1 - x2) / x1\n",
        "\n",
        "\n",
        "class BisectionMethod:\n",
        "    \"\"\"\n",
        "    Class que encontra as raízes de funções, usando como critério de parada tanto o erro como quando n° de iterações\n",
        "    \"\"\"\n",
        "\n",
        "    def error(self, function, a, b, tol=0.0001):\n",
        "        \"\"\"\n",
        "        Realiza o algoritmo de bisseção, considerando como critério de parada uma tolerância\n",
        "        Quando o valor do erro for menor que a tolerância, então podemos parar\n",
        "        \"\"\"\n",
        "        interval = [a, b]\n",
        "        x = []\n",
        "        errors = [float('inf')]\n",
        "        if np.sign(function(a)) * np.sign(function(b)) != -1:\n",
        "            return None\n",
        "        while True: \n",
        "            if abs(errors[-1]) < tol:\n",
        "                break\n",
        "            xi = (interval[0] + interval[1]) / 2\n",
        "            x.append(xi)\n",
        "            if len(x) > 1:\n",
        "                error = abs_error(x[-2], x[-1])\n",
        "                errors.append(error)\n",
        "            if function(xi) == 0:\n",
        "                return xi\n",
        "            else:\n",
        "                if np.sign(function(interval[0])) * np.sign(function(xi)) == -1:\n",
        "                    interval[1] = xi\n",
        "                else:\n",
        "                    interval[0] = xi\n",
        "        return x[-1]\n",
        "\n",
        "    def iter(self, function, a, b, n=10):\n",
        "        \"\"\"\n",
        "        Realiza o algoritmo de bisseção, considerando como critério de parada o número de iterações\n",
        "        \"\"\"\n",
        "        interval = [a, b]\n",
        "        x = []\n",
        "        if np.sign(function(a)) * np.sign(function(b)) != -1:\n",
        "            return None\n",
        "        for i in range(n):\n",
        "            xi = (interval[0] + interval[1]) / 2\n",
        "            x.append(xi)\n",
        "            if function(xi) == 0:\n",
        "                return xi\n",
        "            else:\n",
        "                if np.sign(function(interval[0])) * np.sign(function(xi)) == -1:\n",
        "                    interval[1] = xi\n",
        "                else:\n",
        "                    interval[0] = xi\n",
        "        return x[-1]"
      ]
    },
    {
      "cell_type": "markdown",
      "source": [
        "### Questão 1\n",
        "\n",
        "**Solução 1**: Usando tolerância como critério de parada"
      ],
      "metadata": {
        "id": "JuY2oqkfeLcc"
      }
    },
    {
      "cell_type": "markdown",
      "source": [
        "- Definindo funções a serem utilizadas e instanciando classe `BisectionMethod()`"
      ],
      "metadata": {
        "id": "WjyAvHkqrwrT"
      }
    },
    {
      "cell_type": "code",
      "source": [
        "bisection_method = BisectionMethod()"
      ],
      "metadata": {
        "id": "F7ZHk_L_Hk8A"
      },
      "execution_count": 3,
      "outputs": []
    },
    {
      "cell_type": "code",
      "source": [
        "g = lambda x: (x - 2) ** 2 - 4\n",
        "h = lambda x: 2 - np.exp(x)"
      ],
      "metadata": {
        "id": "h2Muan0XjYiq"
      },
      "execution_count": 4,
      "outputs": []
    },
    {
      "cell_type": "code",
      "source": [
        "ans= bisection_method.error(function=h, a=0, b=1)\n",
        "if ans is not None:\n",
        "    print(ans)\n",
        "else:\n",
        "    print(\"Não há raizes no intervalo solicitado\")"
      ],
      "metadata": {
        "colab": {
          "base_uri": "https://localhost:8080/"
        },
        "id": "Qtgp_85flm48",
        "outputId": "d59325e3-61b1-432e-c249-86cde506f0fd"
      },
      "execution_count": 5,
      "outputs": [
        {
          "output_type": "stream",
          "name": "stdout",
          "text": [
            "0.69317626953125\n"
          ]
        }
      ]
    },
    {
      "cell_type": "code",
      "source": [
        "ans= bisection_method.error(g, 3, 6)\n",
        "if ans is not None:\n",
        "    print(ans)\n",
        "else:\n",
        "    print(\"Não há raizes no intervalo solicitado\")"
      ],
      "metadata": {
        "colab": {
          "base_uri": "https://localhost:8080/"
        },
        "id": "6p8q_hrQrdMn",
        "outputId": "a1b8b9bc-139a-4378-8ed8-ae3cf87208bd"
      },
      "execution_count": 6,
      "outputs": [
        {
          "output_type": "stream",
          "name": "stdout",
          "text": [
            "4.0001220703125\n"
          ]
        }
      ]
    },
    {
      "cell_type": "markdown",
      "source": [
        "### Questão 2"
      ],
      "metadata": {
        "id": "LrrtsBKcrsMJ"
      }
    },
    {
      "cell_type": "markdown",
      "source": [
        "**Definindo função**"
      ],
      "metadata": {
        "id": "sD1uA-jFCCBa"
      }
    },
    {
      "cell_type": "code",
      "source": [
        "f = lambda x: -0.5 * x ** 2 + 2.5 * x + 4.5"
      ],
      "metadata": {
        "id": "wjzGxSMkpE7b"
      },
      "execution_count": 7,
      "outputs": []
    },
    {
      "cell_type": "markdown",
      "source": [
        "**Solução letra A)**\n",
        "\n",
        "Solução utilizando matplotlib para visualizar as raízes"
      ],
      "metadata": {
        "id": "1qdd82ETCEue"
      }
    },
    {
      "cell_type": "code",
      "source": [
        "x = np.linspace(5 * -np.pi, 5 * np.pi, 100)\n",
        "fx = np.array([f(x) for x in np.linspace(5 * -np.pi, 5 * np.pi, len(x))])"
      ],
      "metadata": {
        "id": "tw_0Agvwsh5H"
      },
      "execution_count": 8,
      "outputs": []
    },
    {
      "cell_type": "code",
      "source": [
        "def plot_roots(root1, root2):\n",
        "    plt.figure(figsize=(10, 8))\n",
        "    plt.plot(x, fx, color='black')\n",
        "    plt.scatter(root1, [0], color='red', label=f'Root 1: {root1:.5f}', s=10*4*2, alpha=1)\n",
        "    plt.scatter(root2, [0], color='blue', label=f'Root 2: {root2:.5f}', s=10*4*2, alpha=1)\n",
        "    plt.xlim([-10, 10])\n",
        "    plt.ylim([-5, 10])\n",
        "    plt.legend()\n",
        "    plt.grid()\n",
        "    plt.show()\n",
        "\n",
        "plot_roots(bisection_method.error(f, -20, 0), bisection_method.error(f, 0, 30))"
      ],
      "metadata": {
        "colab": {
          "base_uri": "https://localhost:8080/",
          "height": 487
        },
        "id": "xL-pJvgDtKi_",
        "outputId": "79c71810-8caa-4636-dbc2-0bb7cb2832d4"
      },
      "execution_count": 9,
      "outputs": [
        {
          "output_type": "display_data",
          "data": {
            "text/plain": [
              "<Figure size 720x576 with 1 Axes>"
            ],
            "image/png": "[encoded data removed]"
          },
          "metadata": {
            "needs_background": "light"
          }
        }
      ]
    },
    {
      "cell_type": "markdown",
      "source": [
        "**Solução letra B)**\n",
        "\n",
        "Consiste em utilizar a fórmula:\n",
        "\n",
        "$$\n",
        "\\dfrac{-b \\pm\\sqrt{b^{2}-4.a.c}}{2.a}\n",
        "$$"
      ],
      "metadata": {
        "id": "ZI2ChdM4CHUu"
      }
    },
    {
      "cell_type": "code",
      "source": [
        "def delta(a, b, c):\n",
        "    return (b ** 2) - (4 * a * c)\n",
        "\n",
        "def quadratic_formula(a, b, c):\n",
        "    delta_value = delta(a, b, c)\n",
        "    root1 = (-b + np.sqrt(delta_value)) / (2 * a)\n",
        "    root2 = (-b - np.sqrt(delta_value)) / (2 * a)\n",
        "    return root1, root2"
      ],
      "metadata": {
        "id": "XUebHrcFBNP1"
      },
      "execution_count": 10,
      "outputs": []
    },
    {
      "cell_type": "code",
      "source": [
        "root1, root2 = quadratic_formula(-0.5, 2.5, 4.5)\n",
        "print(f\"Root1 = {root1}      Root2 = {root2}\")"
      ],
      "metadata": {
        "colab": {
          "base_uri": "https://localhost:8080/"
        },
        "id": "jL0EstXaCzYw",
        "outputId": "950e3545-8292-473c-fe45-ba71d75743b3"
      },
      "execution_count": 11,
      "outputs": [
        {
          "output_type": "stream",
          "name": "stdout",
          "text": [
            "Root1 = -1.405124837953327      Root2 = 6.405124837953327\n"
          ]
        }
      ]
    },
    {
      "cell_type": "markdown",
      "source": [
        "**Solução letra C)**"
      ],
      "metadata": {
        "id": "pO6QFPK6K1H4"
      }
    },
    {
      "cell_type": "code",
      "source": [
        "def iter_bm(function, a, b, n=10):\n",
        "    interval = [a, b]\n",
        "    x = []\n",
        "    errors = []\n",
        "    print()\n",
        "    if np.sign(function(a)) * np.sign(function(b)) != -1:\n",
        "        return None\n",
        "    for i in range(n):\n",
        "        xi = (interval[0] + interval[1]) / 2\n",
        "        x.append(xi)\n",
        "        if len(x) > 1:\n",
        "            error = abs_error(interval[-2], interval[-1])\n",
        "            errors.append(error)\n",
        "            print(f\"x1 = {interval[-2]:<8}x2 = {interval[-1]:<8}Erro relativo entre x1 e x2 = {error}\")\n",
        "        if function(xi) == 0:\n",
        "            return xi\n",
        "        else:\n",
        "            if np.sign(function(interval[0])) * np.sign(function(xi)) == -1:\n",
        "                interval[1] = xi\n",
        "            else:\n",
        "                interval[0] = xi\n",
        "    return x[-1]"
      ],
      "metadata": {
        "id": "FQGRuvpzLHzO"
      },
      "execution_count": 12,
      "outputs": []
    },
    {
      "cell_type": "code",
      "source": [
        "print(f\"{'-' * 50}\\nRaízes de f: [5, 10] -> R = {iter_bm(f, 5, 10, 3)}\")"
      ],
      "metadata": {
        "colab": {
          "base_uri": "https://localhost:8080/"
        },
        "id": "IDcAz3ZWDE1Q",
        "outputId": "fc69ac91-7ca3-4e5e-e87b-82062328d9c7"
      },
      "execution_count": 13,
      "outputs": [
        {
          "output_type": "stream",
          "name": "stdout",
          "text": [
            "\n",
            "x1 = 5       x2 = 7.5     Erro relativo entre x1 e x2 = -0.5\n",
            "x1 = 6.25    x2 = 7.5     Erro relativo entre x1 e x2 = -0.2\n",
            "--------------------------------------------------\n",
            "Raízes de f: [5, 10] -> R = 6.875\n"
          ]
        }
      ]
    },
    {
      "cell_type": "code",
      "source": [
        "print(f\"Erro = {root2 - bisection_method.iter(f, 5, 10, 3)}\")"
      ],
      "metadata": {
        "colab": {
          "base_uri": "https://localhost:8080/"
        },
        "id": "ffd6GDwuL0Sa",
        "outputId": "d61262d6-acf0-4796-e032-85a559c3b3ea"
      },
      "execution_count": 14,
      "outputs": [
        {
          "output_type": "stream",
          "name": "stdout",
          "text": [
            "Erro = -0.469875162046673\n"
          ]
        }
      ]
    },
    {
      "cell_type": "markdown",
      "source": [
        "### Questão 3"
      ],
      "metadata": {
        "id": "SQRczrX1OJRB"
      }
    },
    {
      "cell_type": "markdown",
      "source": [
        "Definindo funções de teste"
      ],
      "metadata": {
        "id": "_49__1WJlnCS"
      }
    },
    {
      "cell_type": "code",
      "source": [
        "w = lambda x: np.sin(x)\n",
        "k = lambda x: x ** 3\n",
        "h = lambda x: w(x) - k(x)"
      ],
      "metadata": {
        "id": "6f5Akl1FOKIo"
      },
      "execution_count": 15,
      "outputs": []
    },
    {
      "cell_type": "markdown",
      "source": [
        "Procurando raízes das funções estabelecidas acima"
      ],
      "metadata": {
        "id": "SyRWyxuplrBY"
      }
    },
    {
      "cell_type": "code",
      "source": [
        "if bisection_method.error(w, 0.5, 1, 0.02) is not None:\n",
        "    print(f\"Raiz w(x): [0.5, 1] -> Reais = {bisection_method.error(w, 0.5, 1, 0.02)}\")\n",
        "else:\n",
        "    print(\"Não há raizes para w(x) no intervalo solicitado\")\n",
        "\n",
        "print()\n",
        "\n",
        "if bisection_method.error(k, 0.5, 1, 0.02) is not None:\n",
        "    print(f\"Raiz k(x): [0.5, 1] -> Reais = {bisection_method.error(k, 0.5, 1, 0.02)}\")\n",
        "else:\n",
        "    print(\"Não há raizes para k(x) no intervalo solicitado\")\n",
        "\n",
        "print()\n",
        "\n",
        "if bisection_method.error(h, 0.5, 1, 0.02) is not None:\n",
        "    print(f\"Raiz h(x): [0.5, 1] -> Reais = {bisection_method.error(h, 0.5, 1, 0.02)}\")\n",
        "else:\n",
        "    print(\"Não há raizes para h(x) no intervalo solicitado\")"
      ],
      "metadata": {
        "colab": {
          "base_uri": "https://localhost:8080/"
        },
        "id": "N_9WHF8xPJ9f",
        "outputId": "5b295365-4976-4e5c-a71b-ec0ab40e1acd"
      },
      "execution_count": 16,
      "outputs": [
        {
          "output_type": "stream",
          "name": "stdout",
          "text": [
            "Não há raizes para w(x) no intervalo solicitado\n",
            "\n",
            "Não há raizes para k(x) no intervalo solicitado\n",
            "\n",
            "Raiz h(x): [0.5, 1] -> Reais = 0.921875\n"
          ]
        }
      ]
    },
    {
      "cell_type": "markdown",
      "source": [
        "Definindo valores e plotando gráfico das funções"
      ],
      "metadata": {
        "id": "by1exrYGlvvR"
      }
    },
    {
      "cell_type": "code",
      "source": [
        "x = np.linspace(-np.pi, np.pi, 100)\n",
        "wx = np.array([w(x) for x in np.linspace(-np.pi, np.pi, len(x))])\n",
        "kx = np.array([k(x) for x in np.linspace(-np.pi, np.pi, len(x))])\n",
        "hx = np.array([k(x) - w(x) for x in np.linspace(-np.pi, np.pi, len(x))])"
      ],
      "metadata": {
        "id": "4WQyIHceOe2O"
      },
      "execution_count": 17,
      "outputs": []
    },
    {
      "cell_type": "code",
      "source": [
        "def plot_roots(*roots):\n",
        "    plt.figure(figsize=(20, 8))\n",
        "    plt.plot(x, wx, color='black', label='$w(x) = \\sin(x)$')\n",
        "    plt.plot(x, kx, color='blue', label='$k(x) = x^{3}$')\n",
        "    plt.plot(x, hx, color='green', label='$h(x) = k(x) - w(x)$')\n",
        "    for i, root in enumerate(roots):\n",
        "        plt.scatter(root, [0], color='magenta', s=10*4*2, alpha=1.0, label=f\"Root {i} = {root}\")\n",
        "    plt.axvline(x=0.5, color='red', ls=':')\n",
        "    plt.axvline(x=1.0, color='red', ls=':')\n",
        "    plt.xlim([-2, 2])\n",
        "    plt.ylim([-2, 2])\n",
        "    plt.grid()\n",
        "    plt.legend(loc='lower right')\n",
        "    plt.show()\n",
        "\n",
        "plot_roots(bisection_method.error(h, -1, -0.5, 0.02), 0, bisection_method.error(h, 0.5, 1, 0.02))"
      ],
      "metadata": {
        "colab": {
          "base_uri": "https://localhost:8080/",
          "height": 487
        },
        "id": "0tV5qjHNPEWw",
        "outputId": "a26c40a0-be7f-4a78-d76b-c5163970c5c9"
      },
      "execution_count": 18,
      "outputs": [
        {
          "output_type": "display_data",
          "data": {
            "text/plain": [
              "<Figure size 1440x576 with 1 Axes>"
            ],
            "image/png": "[encoded data removed]"
          },
          "metadata": {
            "needs_background": "light"
          }
        }
      ]
    },
    {
      "cell_type": "markdown",
      "source": [
        "### Questão 4"
      ],
      "metadata": {
        "id": "DAEhc1xVZ7vh"
      }
    },
    {
      "cell_type": "markdown",
      "source": [
        "Definindo funções para a serem usadas como caso de teste"
      ],
      "metadata": {
        "id": "Q3X12D94l2tQ"
      }
    },
    {
      "cell_type": "code",
      "source": [
        "f = lambda x: -2 * x ** 6 - 1.5 * x ** 4 + 10 * x + 20\n",
        "dx = lambda x: -12 * x ** 5 - 6 * x ** 3 + 10"
      ],
      "metadata": {
        "id": "kAYheHd2abL5"
      },
      "execution_count": 19,
      "outputs": []
    },
    {
      "cell_type": "code",
      "source": [
        "print(f'Raiz f\\'(x) = 0, f\\': [0, 1] -> Reais = {bisection_method.error(dx, 0, 1, 0.05)}')"
      ],
      "metadata": {
        "colab": {
          "base_uri": "https://localhost:8080/"
        },
        "id": "UECIt8B1cttL",
        "outputId": "f9456036-fd7e-4bf0-c02b-94218d9269a0"
      },
      "execution_count": 20,
      "outputs": [
        {
          "output_type": "stream",
          "name": "stdout",
          "text": [
            "Raiz f'(x) = 0, f': [0, 1] -> Reais = 0.84375\n"
          ]
        }
      ]
    },
    {
      "cell_type": "code",
      "source": [
        "x = np.linspace(-np.pi, np.pi, 100)\n",
        "fx = np.array([f(x) for x in np.linspace(-np.pi, np.pi, 100)])\n",
        "dx_ = np.array([dx(x) for x in np.linspace(-np.pi, np.pi, 100)])"
      ],
      "metadata": {
        "id": "G0KrCGgseaky"
      },
      "execution_count": 21,
      "outputs": []
    },
    {
      "cell_type": "code",
      "source": [
        "def plot_roots():\n",
        "    plt.figure(figsize=(10, 8))\n",
        "    plt.plot(x, fx, label=f'f(x)')\n",
        "    plt.plot(x, dx_, label=f'f\\'(x)')\n",
        "    plt.ylim([-30, 30])\n",
        "    plt.xlim([-6, 6])\n",
        "    plt.grid()\n",
        "    plt.legend()\n",
        "    plt.show()\n",
        "\n",
        "plot_roots()"
      ],
      "metadata": {
        "colab": {
          "base_uri": "https://localhost:8080/",
          "height": 487
        },
        "id": "cgDmJo1zdJIC",
        "outputId": "ae84c5ee-697b-4d4b-b4e6-39fce0b628a3"
      },
      "execution_count": 22,
      "outputs": [
        {
          "output_type": "display_data",
          "data": {
            "text/plain": [
              "<Figure size 720x576 with 1 Axes>"
            ],
            "image/png": "[encoded data removed]"
          },
          "metadata": {
            "needs_background": "light"
          }
        }
      ]
    },
    {
      "cell_type": "markdown",
      "source": [
        "### Questão 5\n",
        "\n",
        "Método da Falsa Posição\n",
        "$$\n",
        "x^{*}=x_u-\\dfrac{f(x_u)(x_l-x_u)}{f(x_l)-f(x_u)}\n",
        "$$\n",
        "\n",
        "Percebe-se que dado $x^{*}$ como sendo a raiz de uma função $f$ qualquer, temos que o método da falsa posição funcionará muito mais rápido que o método da bisseção, uma vez que, em termos de complexidade de algoritmo, temos $O(1)$ para o método da Falsa Posição, enquanto que o método da bisseção por força bruta levaria pelo $n$ iterações para encontrar a raiz $[O(n)]$."
      ],
      "metadata": {
        "id": "OM6Pgq9LfGkH"
      }
    },
    {
      "cell_type": "code",
      "source": [
        "def false_position_method(f, x0, x1, e=0.001):\n",
        "    step = 1\n",
        "    condition = True\n",
        "    while condition:\n",
        "        x2 = x0 - (x1-x0) * f(x0)/( f(x1) - f(x0) )\n",
        "        if f(x0) * f(x2) < 0:\n",
        "            x1 = x2\n",
        "        else:\n",
        "            x0 = x2\n",
        "        step = step + 1\n",
        "        condition = abs(f(x2)) > e\n",
        "    return x2"
      ],
      "metadata": {
        "id": "omuyTMdndxUh"
      },
      "execution_count": 23,
      "outputs": []
    },
    {
      "cell_type": "code",
      "source": [
        "g = lambda x: (x - 2) ** 2 - 4\n",
        "h = lambda x: 2 - np.exp(x)"
      ],
      "metadata": {
        "id": "U2_qKwVPgcLF"
      },
      "execution_count": 24,
      "outputs": []
    },
    {
      "cell_type": "code",
      "source": [
        "false_position_method(g, 5, 6)"
      ],
      "metadata": {
        "colab": {
          "base_uri": "https://localhost:8080/"
        },
        "id": "jombGrNvgfZK",
        "outputId": "a21ff9c0-3749-4a72-c1f2-1060c0e9c9a8"
      },
      "execution_count": 25,
      "outputs": [
        {
          "output_type": "execute_result",
          "data": {
            "text/plain": [
              "4.000121936349226"
            ]
          },
          "metadata": {},
          "execution_count": 25
        }
      ]
    },
    {
      "cell_type": "code",
      "source": [
        "false_position_method(h, 0, 1)"
      ],
      "metadata": {
        "colab": {
          "base_uri": "https://localhost:8080/"
        },
        "id": "YAC0pBCcgj3U",
        "outputId": "5de1c551-aa65-4919-eb5f-af6cfd576747"
      },
      "execution_count": 26,
      "outputs": [
        {
          "output_type": "execute_result",
          "data": {
            "text/plain": [
              "0.6927974084413778"
            ]
          },
          "metadata": {},
          "execution_count": 26
        }
      ]
    },
    {
      "cell_type": "code",
      "source": [],
      "metadata": {
        "id": "vN-cC0KKl-Pi"
      },
      "execution_count": null,
      "outputs": []
    }
  ]
}