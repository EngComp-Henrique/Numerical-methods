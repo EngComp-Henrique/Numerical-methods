{
  "nbformat": 4,
  "nbformat_minor": 0,
  "metadata": {
    "colab": {
      "provenance": [],
      "collapsed_sections": [],
      "authorship_tag": "ABX9TyMWFeP5/AkPoIME1hnbV6Pd",
      "include_colab_link": true
    },
    "kernelspec": {
      "name": "python3",
      "display_name": "Python 3"
    },
    "language_info": {
      "name": "python"
    }
  },
  "cells": [
    {
      "cell_type": "markdown",
      "metadata": {
        "id": "view-in-github",
        "colab_type": "text"
      },
      "source": [
        "<a href=\"https://colab.research.google.com/github/EngComp-Henrique/Numerical-methods/blob/main/Lecture-2.0.ipynb\" target=\"_parent\"><img src=\"https://colab.research.google.com/assets/colab-badge.svg\" alt=\"Open In Colab\"/></a>"
      ]
    },
    {
      "cell_type": "markdown",
      "source": [
        "# Erros"
      ],
      "metadata": {
        "id": "6ft2hDYM_Fa-"
      }
    },
    {
      "cell_type": "markdown",
      "source": [
        "## 2.1 Precisão e acurácia\n",
        "- Certas operações lidam com a incerteza, contendo erros\n",
        "- **Precisão**: O quanto cada valor, computado/medido, individualmente está próximo dos outros valores computados $⇒$ *Desvio padrão*\n",
        "- **Acurácia**: O quando o(s) valore(s) medidos estão perto do(s) valor(es) real $⇒$ Valor medido $-$ valor atual\n",
        "\n",
        "## Grau de precisão\n",
        "- Menor valor que pode ser computado\n",
        "- **Exemplo**: O maior/menor número que um computador consegue armazenar\n",
        "\n",
        "### Em um computador\n",
        "- Algoritmo usado\n",
        "- Capacidade de armazenamento\n",
        "- O número de digitos armazenados\n",
        "\n",
        "![](https://engcourses-uofa.ca/wp-content/uploads/NA1.png)"
      ],
      "metadata": {
        "id": "Pm3Ha1eF_I3D"
      }
    },
    {
      "cell_type": "markdown",
      "source": [
        "## 2.2 Erros aleatórios e sistemáticos\n",
        "- **Erro aleatório**: Em sistemas computacionais, está ligado ao arredondamento e flutuação de valores que acontece de forma aleatória\n",
        "- **Erro sistemático**: Ligado ao *bias* no sistema computacional"
      ],
      "metadata": {
        "id": "scHGj0-FBWhz"
      }
    },
    {
      "cell_type": "markdown",
      "source": [
        "## 2.3 Tipos de erros\n",
        "\n",
        "### Erro absoluto\n",
        "\n",
        "$$\n",
        "E = V_{t} - V_{a}\n",
        "$$\n",
        "\n",
        "- Onde:\n",
        "    - $E$: Erro\n",
        "    - $V_{a}$: O valor medido\n",
        "    - $V_{t}$: O valor real aproximado\n",
        "\n",
        "### Erro relativo\n",
        "\n",
        "$$\n",
        "E_{r}=\\dfrac{E}{V_{t}}\n",
        "$$\n",
        "\n",
        "### Mas e não soubermos o valor real?\n",
        "- Dado que $ɛ$ é uma aproximação para o erro, então $ɛ_{r}$ é considerada uma aproximação relativa, definida como:\n",
        "\n",
        "$$\n",
        "ɛ_{r}=\\dfrac{ɛ}{V_{a}}\n",
        "$$\n",
        "\n",
        "- Observação\n",
        "    - Temos que tomar cuidado para casos em que os valores no divisor não sejam 0"
      ],
      "metadata": {
        "id": "sfdNs9izIz4a"
      }
    },
    {
      "cell_type": "markdown",
      "source": [
        "## 2.4 Erros em computação\n",
        "- Solução com números flutuantes não são exatas, então precisamos de soluções aproximadas\n",
        "- Com isso, devemos minimizar o erro, considerando o problema para que haja custo-benefício\n",
        "\n",
        "### Tipos de erros\n",
        "- **Arredondamento**: Erro inerente, que não é controlado. Acontece devido as limitações do computador\n",
        "    - Um número será colocado para cima ou para baixo\n",
        "- **Trucamento**: O valor é travador em um determinado ponto. Valor aproximado para um erro\n",
        "    - Quando pegamos uma soma infinita e limitamos essa soma\n",
        "    - Diferença entre o valor atual e valor calculado\n",
        "    - π = 3.14\n",
        "\n",
        "### Exemplo\n",
        "> Calcule o erro $E$, o erro relativo $E_{r}$, e o erro relativo aproximado $\\varepsilon_{r}$, se usarmos $\\frac{22}{7}$ como aproximação de $\\pi$\n",
        "\n",
        "**Solução**\n",
        "\n",
        "$$\n",
        "E=\\pi - \\frac{22}{7}\\\\~\\\\\n",
        "E_{r}=\\frac{\\pi - \\frac{22}{7}}{\\pi}\\\\~\\\\\n",
        "\\varepsilon_{r}=\\frac{\\pi - \\frac{22}{7}}{\\frac{22}{7}}\n",
        "$$"
      ],
      "metadata": {
        "id": "vZsY8OlD3-Q7"
      }
    },
    {
      "cell_type": "code",
      "source": [
        "import numpy as np"
      ],
      "metadata": {
        "id": "8rMZmCVC7XwU"
      },
      "execution_count": 1,
      "outputs": []
    },
    {
      "cell_type": "code",
      "source": [
        "E = np.pi - 22 / 7\n",
        "E_r = E / np.pi\n",
        "e_r = (np.pi - 22 / 7) / (22 / 7)"
      ],
      "metadata": {
        "id": "WHWGuPrF7d4b"
      },
      "execution_count": 2,
      "outputs": []
    },
    {
      "cell_type": "code",
      "source": [
        "print(f\"\"\"Erro{E:>45}\n",
        "Erro relativo{E_r:>36}\n",
        "Erro relativo aproximado{e_r:>26}\"\"\")"
      ],
      "metadata": {
        "colab": {
          "base_uri": "https://localhost:8080/"
        },
        "id": "ZQsal_xy8VWP",
        "outputId": "018dd654-fcc7-4b6b-ab08-ac7557801d0b"
      },
      "execution_count": 3,
      "outputs": [
        {
          "output_type": "stream",
          "name": "stdout",
          "text": [
            "Erro                       -0.0012644892673496777\n",
            "Erro relativo              -0.0004024994347707008\n",
            "Erro relativo aproximado   -0.00040233749415671566\n"
          ]
        }
      ]
    },
    {
      "cell_type": "markdown",
      "source": [
        "### Exemplo 2: \n",
        "> Aproximações por séries de Taylor da função seno\n",
        "\n",
        "**Solução**:\n",
        "$$\n",
        "f(x)=\\sum_{n=0}^{\\infty} \\dfrac{(-1)^{n}x^{2n+1}}{(2n+1)!}=\\sin(x)\n",
        "$$"
      ],
      "metadata": {
        "id": "HPZQ3dv2nUOC"
      }
    },
    {
      "cell_type": "code",
      "source": [
        "x = np.linspace(-np.pi, np.pi, 200)\n",
        "\n",
        "def f(x, n):\n",
        "    return ((-1) ** n * (x) ** (2 * n + 1)) / np.math.factorial(2 * n + 1)"
      ],
      "metadata": {
        "id": "hg08eE17ngep"
      },
      "execution_count": 4,
      "outputs": []
    },
    {
      "cell_type": "markdown",
      "source": [
        "- Calculando seno de 0.3"
      ],
      "metadata": {
        "id": "OKQRr2ZkBUqk"
      }
    },
    {
      "cell_type": "code",
      "source": [
        "y = np.zeros(3)\n",
        "for n in range(2):\n",
        "    y += f(0.3, n)\n",
        "y[0]"
      ],
      "metadata": {
        "colab": {
          "base_uri": "https://localhost:8080/"
        },
        "id": "1X-m3v2S_kND",
        "outputId": "334bddc0-5da7-4995-d3d6-7ac280c193be"
      },
      "execution_count": 5,
      "outputs": [
        {
          "output_type": "execute_result",
          "data": {
            "text/plain": [
              "0.2955"
            ]
          },
          "metadata": {},
          "execution_count": 5
        }
      ]
    },
    {
      "cell_type": "markdown",
      "source": [
        "- Calculando erro de truncamento"
      ],
      "metadata": {
        "id": "XAyrNjLzBt80"
      }
    },
    {
      "cell_type": "code",
      "source": [
        "T = np.sin(0.3) - y[0]\n",
        "T"
      ],
      "metadata": {
        "colab": {
          "base_uri": "https://localhost:8080/"
        },
        "id": "nk8Wst3kBeAR",
        "outputId": "023a2a5d-90e9-4347-ab62-2a611903d8f8"
      },
      "execution_count": 6,
      "outputs": [
        {
          "output_type": "execute_result",
          "data": {
            "text/plain": [
              "2.0206661339561283e-05"
            ]
          },
          "metadata": {},
          "execution_count": 6
        }
      ]
    },
    {
      "cell_type": "code",
      "source": [
        "import matplotlib.pyplot as plt"
      ],
      "metadata": {
        "id": "BIrgVIuHkdIU"
      },
      "execution_count": 7,
      "outputs": []
    },
    {
      "cell_type": "code",
      "source": [
        "y = np.zeros(len(x))\n",
        "plt.figure(figsize=(10, 8))\n",
        "for n, label in zip(range(4), [str(j) + 'a' for j in range(4)]):\n",
        "    y += f(x, n)\n",
        "    plt.plot(x, y, label=label)\n",
        "plt.plot(x, np.sin(x), 'k', label='Analitica')\n",
        "plt.grid()\n",
        "plt.xlabel('$x$')\n",
        "plt.ylabel('$f(x)$')\n",
        "plt.legend()"
      ],
      "metadata": {
        "colab": {
          "base_uri": "https://localhost:8080/",
          "height": 514
        },
        "id": "B_h1LlJDo3DN",
        "outputId": "c044c343-fd84-4b02-e60a-722924ab0c80"
      },
      "execution_count": 8,
      "outputs": [
        {
          "output_type": "execute_result",
          "data": {
            "text/plain": [
              "<matplotlib.legend.Legend at 0x7faa1f5d4dd0>"
            ]
          },
          "metadata": {},
          "execution_count": 8
        },
        {
          "output_type": "display_data",
          "data": {
            "text/plain": [
              "<Figure size 720x576 with 1 Axes>"
            ],
            "image/png": "[encoded data removed]"
          },
          "metadata": {
            "needs_background": "light"
          }
        }
      ]
    },
    {
      "cell_type": "markdown",
      "source": [
        "### Erros de truncamento\n",
        "- Considere a expansão de uma série de Taylor:\n",
        "\n",
        "$$\n",
        "f(x_{0} + h)=f(x_{0})+f'(x_{0})h+f''(x_{0})\\frac{h^{2}}{2!}+f'''(x_{0})\\frac{h^{3}}{3!}+\\, ....\n",
        "$$\n",
        "\n",
        "- Onde:\n",
        "    - $f(x_{0})$ é chamado de ponto base\n",
        "    - $h$ é o passo\n",
        "    - $f'(x_{0})=\\dfrac{df}{dx}\\Bigg|_{x_0}$\n",
        "    - $h=(x-x_0)=\\Delta x$\n",
        "\n",
        "- Com isso, se truncarmos essa soma infinita teremos:\n",
        "\n",
        "$$\n",
        "f(x_{0} + h)=f(x_{0})+f'(x_{0})h+\\text{Truncation error}\n",
        "$$\n",
        "\n",
        "### Estimando erro de maneira iterativa\n",
        "- $v_i$ é uma aproximação de um valor obtido a partir do método iterativo cada iteração produz um valor $v_{in}$, então o erro de aproximação relativo é definido como:\n",
        "\n",
        "$$\n",
        "ɛ_r=\\dfrac{|v_{in}-v_{in-1}|}{|v_i|}\n",
        "$$\n",
        "\n",
        "- Onde:\n",
        "    - $v_{in}$ é o valor da iteração atual \n",
        "    - $v_{in+1}$ é o valor da próxima iteração\n",
        "    - Caso de parada: $|ɛ_r| < ɛ_s$, onde $ɛ_s$ é a tolerância \n",
        "\n",
        "\\\\\n",
        "- São feitas iterações até que nosso erro seja menor do que um valor de tolerância\n",
        "- **Tolerância** é um valor que é aceitável para que haja erro"
      ],
      "metadata": {
        "id": "ujKEQEMOCLnv"
      }
    },
    {
      "cell_type": "markdown",
      "source": [
        "## Problema 1\n",
        "Considere o seguinte problema:\n",
        "\n",
        "$$\n",
        "\\begin{align}\n",
        "&x_1=\\dfrac{1}{3}\\\\\n",
        "&x_{n+1}=4x_n-1, \\, n=1,2,...\n",
        "\\end{align}\n",
        "$$\n",
        "\n",
        "Implemente a série iterativa, calculando o erro e o erro realtivo a cada iteração"
      ],
      "metadata": {
        "id": "IxkJ9KychUHN"
      }
    },
    {
      "cell_type": "code",
      "source": [
        "def rel_error(vi, vii):\n",
        "    return abs(vi - vii) / vi\n",
        "\n",
        "def abs_error(vi, vii):\n",
        "    return abs(vi - vii)"
      ],
      "metadata": {
        "id": "vcbIJKkRjGfi"
      },
      "execution_count": 9,
      "outputs": []
    },
    {
      "cell_type": "code",
      "source": [
        "def solve(m):\n",
        "    x = np.zeros(m + 1)\n",
        "    x[0] = 1 / 3\n",
        "    for n in range(0, m):\n",
        "        x[n + 1] = 4 * x[n] - 1\n",
        "        ea = abs_error(x[n], x[n + 1])\n",
        "        er = rel_error(x[n], x[n + 1])\n",
        "        print(f\"Iteração: {n + 1}\")\n",
        "        print(f\"Valor anterior: {x[n]}\")\n",
        "        print(f\"Valor atual: {x[n + 1]}\")\n",
        "        print(f\"Erro absoluto: {ea}\")\n",
        "        print(f\"Erro relativo: {er}\")\n",
        "        print('-' * 50)\n",
        "    print(x)"
      ],
      "metadata": {
        "id": "FOiKZLE-hz-f"
      },
      "execution_count": 10,
      "outputs": []
    },
    {
      "cell_type": "code",
      "source": [
        "solve(5)"
      ],
      "metadata": {
        "colab": {
          "base_uri": "https://localhost:8080/"
        },
        "id": "3kOZHWRVj-dg",
        "outputId": "5a5c7023-7f95-4684-882d-cc42e6a74424"
      },
      "execution_count": 11,
      "outputs": [
        {
          "output_type": "stream",
          "name": "stdout",
          "text": [
            "Iteração: 1\n",
            "Valor anterior: 0.3333333333333333\n",
            "Valor atual: 0.33333333333333326\n",
            "Erro absoluto: 5.551115123125783e-17\n",
            "Erro relativo: 1.6653345369377348e-16\n",
            "--------------------------------------------------\n",
            "Iteração: 2\n",
            "Valor anterior: 0.33333333333333326\n",
            "Valor atual: 0.33333333333333304\n",
            "Erro absoluto: 2.220446049250313e-16\n",
            "Erro relativo: 6.661338147750941e-16\n",
            "--------------------------------------------------\n",
            "Iteração: 3\n",
            "Valor anterior: 0.33333333333333304\n",
            "Valor atual: 0.33333333333333215\n",
            "Erro absoluto: 8.881784197001252e-16\n",
            "Erro relativo: 2.664535259100378e-15\n",
            "--------------------------------------------------\n",
            "Iteração: 4\n",
            "Valor anterior: 0.33333333333333215\n",
            "Valor atual: 0.3333333333333286\n",
            "Erro absoluto: 3.552713678800501e-15\n",
            "Erro relativo: 1.065814103640154e-14\n",
            "--------------------------------------------------\n",
            "Iteração: 5\n",
            "Valor anterior: 0.3333333333333286\n",
            "Valor atual: 0.3333333333333144\n",
            "Erro absoluto: 1.4210854715202004e-14\n",
            "Erro relativo: 4.263256414560662e-14\n",
            "--------------------------------------------------\n",
            "[0.33333333 0.33333333 0.33333333 0.33333333 0.33333333 0.33333333]\n"
          ]
        }
      ]
    },
    {
      "cell_type": "markdown",
      "source": [
        "## Problema 2\n",
        "A largura de uma viga de concreto é 250mm e o comprimento é 10mm. Um dispositivo de medição de comprimento mediu a largura em 247mm enquanto que o comprimento foi de 9,997mm. Encontro o erro e o erro relativo em cada caso\n",
        "\n",
        "**Solução**"
      ],
      "metadata": {
        "id": "nakk9mOhQTGT"
      }
    },
    {
      "cell_type": "code",
      "source": [
        "# Definindo valores\n",
        "Vt_width, Va_width = 250e-3, 247e-3\n",
        "Vt_length, Va_length = 10000, 9997"
      ],
      "metadata": {
        "id": "P91_WW9vSWJb"
      },
      "execution_count": 12,
      "outputs": []
    },
    {
      "cell_type": "code",
      "source": [
        "E_width = Vt_width - Va_width\n",
        "Er_width = E_width / Vt_width * 100\n",
        "print(\"Valor do erro relativo - LARGURA\")\n",
        "print(f\"Erro = {E_width:>20.1e}\")\n",
        "print(f\"Erro relativo = {Er_width:>10.2f}%\")"
      ],
      "metadata": {
        "colab": {
          "base_uri": "https://localhost:8080/"
        },
        "id": "fV1sITTJTfIp",
        "outputId": "41ca31e8-0466-4297-d6b1-9ba9bdb99b52"
      },
      "execution_count": 13,
      "outputs": [
        {
          "output_type": "stream",
          "name": "stdout",
          "text": [
            "Valor do erro relativo - LARGURA\n",
            "Erro =              3.0e-03\n",
            "Erro relativo =       1.20%\n"
          ]
        }
      ]
    },
    {
      "cell_type": "code",
      "source": [
        "E_length = (Vt_length - Va_length)\n",
        "Er_length = E_length / Vt_length * 100\n",
        "print(\"Valor do erro relativo - COMPRIMENTO\")\n",
        "print(f\"Erro = {E_length:>20.1e}\")\n",
        "print(f\"Erro relativo = {Er_length:>10.2f}%\")"
      ],
      "metadata": {
        "colab": {
          "base_uri": "https://localhost:8080/"
        },
        "id": "6S0diFPaUot8",
        "outputId": "0cb1f598-fb48-44ae-bc49-ee7d6356d1ec"
      },
      "execution_count": 14,
      "outputs": [
        {
          "output_type": "stream",
          "name": "stdout",
          "text": [
            "Valor do erro relativo - COMPRIMENTO\n",
            "Erro =              3.0e+00\n",
            "Erro relativo =       0.03%\n"
          ]
        }
      ]
    },
    {
      "cell_type": "markdown",
      "source": [
        "## Problema 2\n",
        "Use o método babilônico para encontrar a raiz quadrada de 23.67 e 19532. Para cada caso use uma estimativa inicial de 1. Use como critério de parada $e_s=0.1\\,\\%$. Informe a resposta:\n",
        "\n",
        "1. Para 4 dígitos significantes\n",
        "2. Para 4 casas decimais\n",
        "\n",
        "**Solução**\n",
        "\n",
        "⇒ Estimativa inicial: $x_0=1$\n",
        "\n",
        "$$\n",
        "x_n=\\Bigg[\\dfrac{x_{n-1}+\\frac{23.67}{x_{n-1}}}{2}\\Bigg]\n",
        "$$\n",
        "\n",
        "⇒ Usado para achar $x_1, x_2, x_3,...$\n",
        "\n",
        "⇒ Vamor parar quando o erro absoluto for menor que o valor especificado\n",
        "\n",
        "$$\n",
        "|e_r|=\\Bigg|\\dfrac{x_n - x_{n-1}}{x_n}\\Bigg| \\leq e_s\\\\\n",
        "e_s=0.1\\, \\% → e_s = 0.001\n",
        "$$\n"
      ],
      "metadata": {
        "id": "VHkn5m7DK0Ar"
      }
    },
    {
      "cell_type": "code",
      "source": [
        "def abs_error(xn, x_n1):\n",
        "    return (xn - x_n1) / xn"
      ],
      "metadata": {
        "id": "qbSW4ELUNjtv"
      },
      "execution_count": 15,
      "outputs": []
    },
    {
      "cell_type": "code",
      "source": [
        "def sqrt_babylonian_method(number=2, tol=0.001):\n",
        "    x0 = 1\n",
        "    x = []\n",
        "    x.append(x0)\n",
        "    errors = [float('inf')]\n",
        "    it, n = 0, 1\n",
        "    while True:\n",
        "        if abs(errors[-1]) <= tol:\n",
        "            break\n",
        "        temp_value = (x[n - 1] + number / x[n - 1]) / 2\n",
        "        x.append(temp_value)\n",
        "        error = abs_error(x[n], x[n - 1])\n",
        "        errors.append(error)\n",
        "        it += 1\n",
        "        n += 1\n",
        "    return x, errors, it"
      ],
      "metadata": {
        "id": "cAAflH-MLk4I"
      },
      "execution_count": 16,
      "outputs": []
    },
    {
      "cell_type": "code",
      "source": [
        "values, error, it  = sqrt_babylonian_method(23.67)\n",
        "print(f\"{'#':<20}{'Value':>30}{'Error':>50}\")\n",
        "for i in range(it + 1):\n",
        "    print(f\"{i:<20}{values[i]:>30}{error[i]:>50}\")\n",
        "print('-' * 100)\n",
        "print(f\"Total de iterações: {it}\")\n",
        "print(f\"Raiz quadrada de 23.67 = {values[-1]:.4f} (casas decimais)\")\n",
        "print(f\"Raiz quadrada de 23.67 = {str(values[-1])[:5]} (4 dígitos significantes\")"
      ],
      "metadata": {
        "colab": {
          "base_uri": "https://localhost:8080/"
        },
        "id": "GuOE_oX_R5fe",
        "outputId": "627d6082-8980-425e-cc87-14823e653fef"
      },
      "execution_count": 17,
      "outputs": [
        {
          "output_type": "stream",
          "name": "stdout",
          "text": [
            "#                                            Value                                             Error\n",
            "0                                                1                                               inf\n",
            "1                                           12.335                                0.9189298743413052\n",
            "2                                7.126964937170653                               -0.7307507625955706\n",
            "3                                5.224077140277145                              -0.36425338788020983\n",
            "4                                 4.87751047688996                              -0.07105400696302865\n",
            "5                                4.865198001833226                            -0.0025307243512174963\n",
            "6                                4.865182422093002                           -3.2022931254127847e-06\n",
            "----------------------------------------------------------------------------------------------------\n",
            "Total de iterações: 6\n",
            "Raiz quadrada de 23.67 = 4.8652 (casas decimais)\n",
            "Raiz quadrada de 23.67 = 4.865 (4 dígitos significantes\n"
          ]
        }
      ]
    },
    {
      "cell_type": "code",
      "source": [
        "values, error, it  = sqrt_babylonian_method(19532)\n",
        "print(f\"{'#':<20}{'Value':>30}{'Error':>50}\")\n",
        "for i in range(it + 1):\n",
        "    print(f\"{i:<20}{values[i]:>30}{error[i]:>50}\")\n",
        "print('-' * 100)\n",
        "print(f\"Total de iterações: {it}\")\n",
        "print(f\"Raiz quadrada de 19532 = {values[-1]:.4f} (casas decimais)\")\n",
        "print(f\"Raiz quadrada de 19532 = {str(values[-1])[:5]} (4 dígitos significantes\")"
      ],
      "metadata": {
        "colab": {
          "base_uri": "https://localhost:8080/"
        },
        "id": "jp1INVciXkE8",
        "outputId": "e58eaf02-051e-4771-96ed-b63b57b125d4"
      },
      "execution_count": 18,
      "outputs": [
        {
          "output_type": "stream",
          "name": "stdout",
          "text": [
            "#                                            Value                                             Error\n",
            "0                                                1                                               inf\n",
            "1                                           9766.5                                 0.999897609174218\n",
            "2                                4884.249948804587                               -0.9995905415099275\n",
            "3                                 2444.12446257394                               -0.9983638409563309\n",
            "4                               1226.0579361496084                               -0.9934820292829117\n",
            "5                                620.9943339127921                               -0.9743464137980156\n",
            "6                                326.2235584332166                               -0.9035851883147179\n",
            "7                               193.04830509752276                               -0.6898545587769722\n",
            "8                                147.1125272825695                              -0.31224926023275473\n",
            "9                               139.94082096210184                              -0.05124813668493384\n",
            "10                              139.75705266921403                            -0.0013149124811808952\n",
            "11                              139.75693184960306                            -8.644981638558004e-07\n",
            "----------------------------------------------------------------------------------------------------\n",
            "Total de iterações: 11\n",
            "Raiz quadrada de 19532 = 139.7569 (casas decimais)\n",
            "Raiz quadrada de 19532 = 139.7 (4 dígitos significantes\n"
          ]
        }
      ]
    },
    {
      "cell_type": "markdown",
      "source": [
        "## Problema 3\n",
        "\n",
        "A função $\\cos(x)$ onde $x$ está em radianos pode ser representado como uma serie infinita:\n",
        "\n",
        "$$\n",
        "\\cos(x)=1-\\dfrac{x^{2}}{2!}+\\dfrac{x^{4}}{4!}-...=\\sum_{n=0}^{∞}\\dfrac{(-1)^{n}}{(2n)!}x^{2n}\n",
        "$$\n",
        "\n",
        "Sendo $i$ o número de termos usados para aproximar a função $\\cos(x)$. Desenhe a cura mostrando o erro aproximado relativo como uma função do número de termos usados quando aproximando de $\\cos(1.5)$ e $\\cos(10)$. Também, desenhe a curva mostrando o valor da aproximação de cada caso como uma função de $i$\n",
        "\n",
        "**Solução**\n",
        "\n",
        "⇒ Tendo a equação, basta escrever um script que calcule o valor do $\\cos(x)$ para diferentes valores de iteração\n",
        "\n",
        "⇒ Reaproveitar a função de erro "
      ],
      "metadata": {
        "id": "QbWSyeg7Y1jE"
      }
    },
    {
      "cell_type": "code",
      "source": [
        "def relative_approximation_error(curr_app, prev_app):\n",
        "    return (curr_app - prev_app) / curr_app"
      ],
      "metadata": {
        "id": "YpaVeNAleDz9"
      },
      "execution_count": 19,
      "outputs": []
    },
    {
      "cell_type": "code",
      "source": [
        "def approx_cos(x, n):\n",
        "    value = 0\n",
        "    for i in range(n):\n",
        "        value += ((-1) ** i / np.math.factorial(2 * i)) * x ** (2 * i)\n",
        "    return value, i"
      ],
      "metadata": {
        "id": "P6-hrkoqb1mp"
      },
      "execution_count": 20,
      "outputs": []
    },
    {
      "cell_type": "code",
      "source": [
        "k = 20\n",
        "arr_015 = np.full(k, np.inf)\n",
        "error_015 = np.full(k, np.inf)\n",
        "\n",
        "arr_10 = np.full(k, np.inf)\n",
        "error_10 = np.full(k, np.inf)\n",
        "\n",
        "its_015 = np.zeros(k)\n",
        "its_10 = np.zeros(k)\n",
        "\n",
        "for i in range(1, k + 1):\n",
        "    t, it = approx_cos(1.5, i)\n",
        "    arr_015[i - 1] = t\n",
        "    its_015[i - 1] = it\n",
        "\n",
        "    t, it = approx_cos(10, i)\n",
        "    arr_10[i - 1] = t\n",
        "    its_10[i - 1] = it\n",
        "    if i >= 2:\n",
        "        if arr_10[i - 1] < np.inf and arr_10[i - 2] < np.inf:\n",
        "            error_10[i - 2] = relative_approximation_error(arr_10[i - 1], arr_10[i - 2])\n",
        "        if arr_015[i - 1] < np.inf and arr_015[i - 2] < np.inf:\n",
        "            error_015[i - 2] = relative_approximation_error(arr_015[i - 1], arr_015[i - 2])"
      ],
      "metadata": {
        "id": "BK7hKWORdNSG"
      },
      "execution_count": 21,
      "outputs": []
    },
    {
      "cell_type": "code",
      "source": [
        "def rel_error_plot():\n",
        "    plt.figure(figsize=(10, 8))\n",
        "\n",
        "    plt.plot(its_015, error_015, label=\"Relative error in Cos(1.5\")\n",
        "    plt.plot(its_10, error_10, label=\"Relative error in Cos(10)\")\n",
        "\n",
        "    plt.xlabel(\"Number of Terms (i)\", labelpad=4)\n",
        "    plt.ylabel(\"Approximate Relative Error (er)\", labelpad=4)\n",
        "\n",
        "    plt.xlim([0, 20])\n",
        "    plt.ylim([-10, 10])\n",
        "\n",
        "    plt.legend()\n",
        "    plt.show()\n",
        "\n",
        "rel_error_plot()"
      ],
      "metadata": {
        "colab": {
          "base_uri": "https://localhost:8080/",
          "height": 501
        },
        "id": "mxiXYw4qgnF3",
        "outputId": "3de4786f-a57a-46a5-cc1b-5da0c1f82a21"
      },
      "execution_count": 22,
      "outputs": [
        {
          "output_type": "display_data",
          "data": {
            "text/plain": [
              "<Figure size 720x576 with 1 Axes>"
            ],
            "image/png": "[encoded data removed]"
          },
          "metadata": {
            "needs_background": "light"
          }
        }
      ]
    },
    {
      "cell_type": "code",
      "source": [
        "def approx_cos_plot():\n",
        "    plt.figure(figsize=(10, 8))\n",
        "\n",
        "    plt.plot(its_015, arr_015, label=\"Cos(1.5) Approximation\")\n",
        "    plt.plot(its_10, arr_10, label=\"Cos(10) Approximation\")\n",
        "\n",
        "    plt.xlabel(\"Number of Terms (i)\", labelpad=4)\n",
        "    plt.ylabel(\"Cos(x) Approximation\", labelpad=4)\n",
        "\n",
        "    plt.xlim([0, 20])\n",
        "    plt.ylim([-10, 10])\n",
        "\n",
        "    plt.legend()\n",
        "    plt.show()\n",
        "\n",
        "approx_cos_plot()"
      ],
      "metadata": {
        "colab": {
          "base_uri": "https://localhost:8080/",
          "height": 501
        },
        "id": "uDPdA86MsNaC",
        "outputId": "f521acb6-fa7c-43db-de38-302eddd10905"
      },
      "execution_count": 23,
      "outputs": [
        {
          "output_type": "display_data",
          "data": {
            "text/plain": [
              "<Figure size 720x576 with 1 Axes>"
            ],
            "image/png": "[encoded data removed]"
          },
          "metadata": {
            "needs_background": "light"
          }
        }
      ]
    },
    {
      "cell_type": "markdown",
      "source": [
        "## Referências\n",
        "- [Youtube video](https://www.youtube.com/watch?v=4SnKNfMGAMY)\n",
        "- [Engineering at Alberta](https://engcourses-uofa.ca/books/numericalanalysis/errors/description-and-definitions/)"
      ],
      "metadata": {
        "id": "jHZL7Kk59zIn"
      }
    }
  ]
}