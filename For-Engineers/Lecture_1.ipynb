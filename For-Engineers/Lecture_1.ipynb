{
  "nbformat": 4,
  "nbformat_minor": 0,
  "metadata": {
    "colab": {
      "provenance": [],
      "authorship_tag": "ABX9TyOSUE2XJxOn4sP5dq0qcB30",
      "include_colab_link": true
    },
    "kernelspec": {
      "name": "python3",
      "display_name": "Python 3"
    },
    "language_info": {
      "name": "python"
    }
  },
  "cells": [
    {
      "cell_type": "markdown",
      "metadata": {
        "id": "view-in-github",
        "colab_type": "text"
      },
      "source": [
        "<a href=\"https://colab.research.google.com/github/EngComp-Henrique/Numerical-methods/blob/main/Lecture_1.ipynb\" target=\"_parent\"><img src=\"https://colab.research.google.com/assets/colab-badge.svg\" alt=\"Open In Colab\"/></a>"
      ]
    },
    {
      "cell_type": "markdown",
      "source": [
        "# Números Binários\n",
        "\n",
        "### Por que estudar números binários? \n",
        "* Em um computador, os números que conhecemos são representados como 0's e 1's, por isso há a necissidade de entender o que são números binários\n",
        "\n",
        "## Sistemas numéricos\n",
        "* O sistema que utlizamos é o Decimal. Esse sistema utiliza dígitos, que representam os valores: {0, 1, 2, 3, ..., 9, ...}\n",
        "* Esse sistema é conhecido por utilizar base 10, onde a posição do dígito representa um valor\n",
        "\n",
        "### Exemplo\n",
        "* $524.503 = 5 × 10^{2} + 2 \\times 10^{1} + 4 \\times 10^{0} + 5 \\times 10^{-1} + 0 \\times 10^{-2} + 3 \\times 10^{-3}$\n",
        "\n",
        "### Frações e decimais\n",
        "* Alguns valore são facilmente representados como $10 =5 \\times 2$\n",
        "* Algumas frações são exatas para representação: $\\dfrac{1}{2} = 0.5, \\dfrac{1}{4}=0.25$\n",
        "* Entretanto, há valores que não são exatamente representados nessa base, como $\\dfrac{1}{3}=0.\\overline{3}, \\dfrac{1}{7}=0.\\overline{142857}$\n",
        "\n",
        "## Sistema Binário\n",
        "\n",
        "* Baseados em dois valores: $\\{0, 1\\}$ que são chamados de bits. Esse sistema utiliza uma base 2.\n",
        "\n",
        "### Exemplo\n",
        "* $101.001=1\\times 2^{2} + 0 \\times 2^{1} + 1 \\times 2^{0} + 0 \\times 2^{-1} + 1 \\times ^{-2} + 1 \\times 2 ^{-3}$\n",
        "\n",
        "### Frações\n",
        "* De maneira análoga ao problema ao problema de representação dos decimais\n",
        "* À Estes valores damos o nome de **Números Inexatos**\n",
        "* A presença desses valores pode gerar erros de arredondamento, afetando a precisão das contas"
      ],
      "metadata": {
        "id": "UxaspEXSXTDH"
      }
    }
  ]
}
