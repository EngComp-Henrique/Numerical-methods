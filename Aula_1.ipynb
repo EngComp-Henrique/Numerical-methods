{
  "nbformat": 4,
  "nbformat_minor": 0,
  "metadata": {
    "colab": {
      "provenance": [],
      "collapsed_sections": [
        "Z9tFvSsvNUIq"
      ],
      "authorship_tag": "ABX9TyPoK2NE17790jkUsL8zam4E",
      "include_colab_link": true
    },
    "kernelspec": {
      "name": "python3",
      "display_name": "Python 3"
    },
    "language_info": {
      "name": "python"
    }
  },
  "cells": [
    {
      "cell_type": "markdown",
      "metadata": {
        "id": "view-in-github",
        "colab_type": "text"
      },
      "source": [
        "<a href=\"https://colab.research.google.com/github/EngComp-Henrique/Numerical-methods/blob/main/Aula_1.ipynb\" target=\"_parent\"><img src=\"https://colab.research.google.com/assets/colab-badge.svg\" alt=\"Open In Colab\"/></a>"
      ]
    },
    {
      "cell_type": "markdown",
      "source": [
        "# Revisão\n",
        "\n",
        "## Data: 16/09/2022\n",
        "\n",
        "### Conteúdo da aula\n",
        "\n",
        "* Revisão `numpy`\n"
      ],
      "metadata": {
        "id": "UCCrmHc7Jx_b"
      }
    },
    {
      "cell_type": "markdown",
      "source": [
        "## Numpy\n",
        "\n",
        "* Pacote para computação científica com Python\n",
        "* Operações multidimensionais com arrays vetorizados\n",
        "* Integração com C/C++ e Fotran\n",
        "* Recursos de álgebra linear\n",
        "\n",
        "-------------------------\n",
        "## Tipo básico\n",
        "* Array que possui caracteristícas simalares as listas do python\n",
        "* A diferença é que os `ndarrays` executam operações vetorizáveis\n",
        "--------------------\n",
        "### Analisando operações com o tipo `list` do python\n",
        "* Declarando lista ↓"
      ],
      "metadata": {
        "id": "J4L4bX9bKX5k"
      }
    },
    {
      "cell_type": "code",
      "execution_count": null,
      "metadata": {
        "id": "I8uMLmN9JwoP"
      },
      "outputs": [],
      "source": [
        "a = list(range(1, 5))\n",
        "b = list(range(5, 9))"
      ]
    },
    {
      "cell_type": "code",
      "source": [
        "a + b"
      ],
      "metadata": {
        "colab": {
          "base_uri": "https://localhost:8080/"
        },
        "id": "p52-lMHhL2Tt",
        "outputId": "16796844-3188-402c-9cb7-eb9160dc7236"
      },
      "execution_count": null,
      "outputs": [
        {
          "output_type": "execute_result",
          "data": {
            "text/plain": [
              "[1, 2, 3, 4, 5, 6, 7, 8]"
            ]
          },
          "metadata": {},
          "execution_count": 53
        }
      ]
    },
    {
      "cell_type": "code",
      "source": [
        "a * b"
      ],
      "metadata": {
        "colab": {
          "base_uri": "https://localhost:8080/",
          "height": 165
        },
        "id": "cXW7yBmrL7aF",
        "outputId": "aad9441f-b456-4bb0-b058-449bcddd486b"
      },
      "execution_count": null,
      "outputs": [
        {
          "output_type": "error",
          "ename": "TypeError",
          "evalue": "ignored",
          "traceback": [
            "\u001b[0;31m---------------------------------------------------------------------------\u001b[0m",
            "\u001b[0;31mTypeError\u001b[0m                                 Traceback (most recent call last)",
            "\u001b[0;32m<ipython-input-4-9bc1a869709f>\u001b[0m in \u001b[0;36m<module>\u001b[0;34m\u001b[0m\n\u001b[0;32m----> 1\u001b[0;31m \u001b[0ma\u001b[0m \u001b[0;34m*\u001b[0m \u001b[0mb\u001b[0m\u001b[0;34m\u001b[0m\u001b[0;34m\u001b[0m\u001b[0m\n\u001b[0m",
            "\u001b[0;31mTypeError\u001b[0m: can't multiply sequence by non-int of type 'list'"
          ]
        }
      ]
    },
    {
      "cell_type": "code",
      "source": [
        "a / b"
      ],
      "metadata": {
        "colab": {
          "base_uri": "https://localhost:8080/",
          "height": 165
        },
        "id": "Y7FjwwVpL-4H",
        "outputId": "636f191f-38ed-4b52-e81a-9573c047909c"
      },
      "execution_count": null,
      "outputs": [
        {
          "output_type": "error",
          "ename": "TypeError",
          "evalue": "ignored",
          "traceback": [
            "\u001b[0;31m---------------------------------------------------------------------------\u001b[0m",
            "\u001b[0;31mTypeError\u001b[0m                                 Traceback (most recent call last)",
            "\u001b[0;32m<ipython-input-5-d8e10abd5ab6>\u001b[0m in \u001b[0;36m<module>\u001b[0;34m\u001b[0m\n\u001b[0;32m----> 1\u001b[0;31m \u001b[0ma\u001b[0m \u001b[0;34m/\u001b[0m \u001b[0mb\u001b[0m\u001b[0;34m\u001b[0m\u001b[0;34m\u001b[0m\u001b[0m\n\u001b[0m",
            "\u001b[0;31mTypeError\u001b[0m: unsupported operand type(s) for /: 'list' and 'list'"
          ]
        }
      ]
    },
    {
      "cell_type": "markdown",
      "source": [
        "Perceba que as duas operações acima dão erro, enquanto que a primeira operação concatena as listas, ou seja, não há soma dos elementos\n",
        "--------------\n",
        "## Trabalhando com `ndarray`\n",
        "\n",
        "* Agora vamos realizar as mesmas operações, mas com as estruturas disponíveis pelo `numpy`"
      ],
      "metadata": {
        "id": "M7iuv6h0MSTC"
      }
    },
    {
      "cell_type": "code",
      "source": [
        "import numpy as np\n",
        "\n",
        "a = np.array(list(range(1, 5)))\n",
        "b = np.array(list(range(5, 9)))"
      ],
      "metadata": {
        "id": "DAEoUrQ0MAQw"
      },
      "execution_count": null,
      "outputs": []
    },
    {
      "cell_type": "code",
      "source": [
        "a, b"
      ],
      "metadata": {
        "colab": {
          "base_uri": "https://localhost:8080/"
        },
        "id": "k4xOH7EYMuaQ",
        "outputId": "1e9acdc0-3da3-45f6-d71f-19f1fcae0394"
      },
      "execution_count": null,
      "outputs": [
        {
          "output_type": "execute_result",
          "data": {
            "text/plain": [
              "(array([1, 2, 3, 4]), array([5, 6, 7, 8]))"
            ]
          },
          "metadata": {},
          "execution_count": 4
        }
      ]
    },
    {
      "cell_type": "code",
      "source": [
        "a + b"
      ],
      "metadata": {
        "colab": {
          "base_uri": "https://localhost:8080/"
        },
        "id": "jWE59oOHMvkY",
        "outputId": "008c36fe-293a-44c2-ef65-d358a188779b"
      },
      "execution_count": null,
      "outputs": [
        {
          "output_type": "execute_result",
          "data": {
            "text/plain": [
              "array([ 6,  8, 10, 12])"
            ]
          },
          "metadata": {},
          "execution_count": 5
        }
      ]
    },
    {
      "cell_type": "code",
      "source": [
        "a * b"
      ],
      "metadata": {
        "colab": {
          "base_uri": "https://localhost:8080/"
        },
        "id": "W2no2pPxNIeD",
        "outputId": "26970086-b76a-4ba1-e0bb-2ff956acdf8c"
      },
      "execution_count": null,
      "outputs": [
        {
          "output_type": "execute_result",
          "data": {
            "text/plain": [
              "array([ 5, 12, 21, 32])"
            ]
          },
          "metadata": {},
          "execution_count": 6
        }
      ]
    },
    {
      "cell_type": "code",
      "source": [
        "a / b"
      ],
      "metadata": {
        "colab": {
          "base_uri": "https://localhost:8080/"
        },
        "id": "nSriNdJLNLEm",
        "outputId": "c9d41c89-9df7-43b8-dea4-eb6feff49dc2"
      },
      "execution_count": null,
      "outputs": [
        {
          "output_type": "execute_result",
          "data": {
            "text/plain": [
              "array([0.2       , 0.33333333, 0.42857143, 0.5       ])"
            ]
          },
          "metadata": {},
          "execution_count": 7
        }
      ]
    },
    {
      "cell_type": "markdown",
      "source": [
        "### Quais as vantangens `ndarray`\n",
        "* Vetorização \n",
        "* Broadcast de operações\n",
        "* Diferença de tempo. Abaixo é calculado os tempos da soma de elementos de uma lista"
      ],
      "metadata": {
        "id": "Z9tFvSsvNUIq"
      }
    },
    {
      "cell_type": "code",
      "source": [
        "l = list(range(100000000))\n",
        "v = np.array(l)"
      ],
      "metadata": {
        "id": "kUIZZD9UNL8O"
      },
      "execution_count": null,
      "outputs": []
    },
    {
      "cell_type": "code",
      "source": [
        "%%timeit\n",
        "s = 0\n",
        "for i in l:\n",
        "  s += i"
      ],
      "metadata": {
        "id": "D2I_VDEzP7fA",
        "colab": {
          "base_uri": "https://localhost:8080/"
        },
        "outputId": "e47b5683-3d0f-4983-93d3-1cb9bff3c7a5"
      },
      "execution_count": null,
      "outputs": [
        {
          "output_type": "stream",
          "name": "stdout",
          "text": [
            "4.35 s ± 181 ms per loop (mean ± std. dev. of 7 runs, 1 loop each)\n"
          ]
        }
      ]
    },
    {
      "cell_type": "code",
      "source": [
        "%%timeit\n",
        "v.sum()"
      ],
      "metadata": {
        "colab": {
          "base_uri": "https://localhost:8080/"
        },
        "id": "wLQGTfyuRk8Y",
        "outputId": "000e3ae3-344d-4820-a865-72886bfb82af"
      },
      "execution_count": null,
      "outputs": [
        {
          "output_type": "stream",
          "name": "stdout",
          "text": [
            "73.9 ms ± 13.1 ms per loop (mean ± std. dev. of 7 runs, 10 loops each)\n"
          ]
        }
      ]
    },
    {
      "cell_type": "code",
      "source": [
        "%%timeit\n",
        "sum(l)"
      ],
      "metadata": {
        "colab": {
          "base_uri": "https://localhost:8080/"
        },
        "id": "tYoNjXuCR2Ri",
        "outputId": "cf93adb1-ea09-43cc-92f4-81916ff649cb"
      },
      "execution_count": null,
      "outputs": [
        {
          "output_type": "stream",
          "name": "stdout",
          "text": [
            "573 ms ± 14.1 ms per loop (mean ± std. dev. of 7 runs, 1 loop each)\n"
          ]
        }
      ]
    },
    {
      "cell_type": "markdown",
      "source": [
        "Perceba a disparidade de tempo entre as funções executadas\n",
        "\n",
        "## Arrays multidimensionais\n",
        "* Arrays são estruturas que armazenam dados de mesmo tipo de valor\n",
        "* Existem várias funções para criar arrays multidimensionais\n",
        "* São muito úteis os vetores\n",
        "  * De zeros e uns\n",
        "  * com sequência"
      ],
      "metadata": {
        "id": "by2Odx5hSnU7"
      }
    },
    {
      "cell_type": "code",
      "source": [
        "np.zeros(shape=4)"
      ],
      "metadata": {
        "colab": {
          "base_uri": "https://localhost:8080/"
        },
        "id": "mxXmJY3xUMUz",
        "outputId": "3de36733-e7a3-48c7-d332-b96835d54e85"
      },
      "execution_count": null,
      "outputs": [
        {
          "output_type": "execute_result",
          "data": {
            "text/plain": [
              "array([0., 0., 0., 0.])"
            ]
          },
          "metadata": {},
          "execution_count": 20
        }
      ]
    },
    {
      "cell_type": "code",
      "source": [
        "np.ones(shape=4)"
      ],
      "metadata": {
        "colab": {
          "base_uri": "https://localhost:8080/"
        },
        "id": "WR8eBWSzUQpH",
        "outputId": "2dc45233-3dd0-4e7e-fadc-75f6d2b88a3a"
      },
      "execution_count": null,
      "outputs": [
        {
          "output_type": "execute_result",
          "data": {
            "text/plain": [
              "array([1., 1., 1., 1.])"
            ]
          },
          "metadata": {},
          "execution_count": 21
        }
      ]
    },
    {
      "cell_type": "code",
      "source": [
        "np.full(shape=4, fill_value=99)"
      ],
      "metadata": {
        "colab": {
          "base_uri": "https://localhost:8080/"
        },
        "id": "gaouZY8PWNls",
        "outputId": "908b226c-aa21-498f-a13b-f4b7bfbc963b"
      },
      "execution_count": null,
      "outputs": [
        {
          "output_type": "execute_result",
          "data": {
            "text/plain": [
              "array([99, 99, 99, 99])"
            ]
          },
          "metadata": {},
          "execution_count": 22
        }
      ]
    },
    {
      "cell_type": "markdown",
      "source": [
        "## Mudando o shape de arrays"
      ],
      "metadata": {
        "id": "boGmVfsqUI3L"
      }
    },
    {
      "cell_type": "code",
      "source": [
        "A = np.array([4, 7, 5, 1, 9, 7, 4, 0])\n",
        "A.shape"
      ],
      "metadata": {
        "colab": {
          "base_uri": "https://localhost:8080/"
        },
        "id": "uyB4jUnpSOk3",
        "outputId": "33deeae1-9ffa-48ce-f25e-c7cc0c7862e9"
      },
      "execution_count": null,
      "outputs": [
        {
          "output_type": "execute_result",
          "data": {
            "text/plain": [
              "(8,)"
            ]
          },
          "metadata": {},
          "execution_count": 13
        }
      ]
    },
    {
      "cell_type": "code",
      "source": [
        "A.shape = 2, 4\n",
        "print(f\"Matriz: {A}\\n\\n Shape = {A.shape}\")"
      ],
      "metadata": {
        "colab": {
          "base_uri": "https://localhost:8080/"
        },
        "id": "h4xor0lXTgkQ",
        "outputId": "4695c9c2-7374-4628-d9ec-26a8d56552ac"
      },
      "execution_count": null,
      "outputs": [
        {
          "output_type": "stream",
          "name": "stdout",
          "text": [
            "Matriz: [[4 7 5 1]\n",
            " [9 7 4 0]]\n",
            "\n",
            " Shape = (2, 4)\n"
          ]
        }
      ]
    },
    {
      "cell_type": "code",
      "source": [
        "A.shape = 2,2,2\n",
        "print(f\"Matriz: {A}\\n\\n Shape = {A.shape}\")"
      ],
      "metadata": {
        "colab": {
          "base_uri": "https://localhost:8080/"
        },
        "id": "p5rGyXe-Tptj",
        "outputId": "74280f3c-8b1a-40ab-90cd-6cb6d254e758"
      },
      "execution_count": null,
      "outputs": [
        {
          "output_type": "stream",
          "name": "stdout",
          "text": [
            "Matriz: [[[4 7]\n",
            "  [5 1]]\n",
            "\n",
            " [[9 7]\n",
            "  [4 0]]]\n",
            "\n",
            " Shape = (2, 2, 2)\n"
          ]
        }
      ]
    },
    {
      "cell_type": "markdown",
      "source": [
        "## Sequência regulares\n",
        "* É possível criar sequências numéricas com `numpy`"
      ],
      "metadata": {
        "id": "NcihMeDuWZ0L"
      }
    },
    {
      "cell_type": "markdown",
      "source": [
        "Criando uma sequência numérica, com intervalo [start, stop), onde podemos passar um passo (step) que por default é 0"
      ],
      "metadata": {
        "id": "1mkCw-waX9Lj"
      }
    },
    {
      "cell_type": "code",
      "source": [
        "a = np.arange(start=0, stop=12, step=2)\n",
        "a"
      ],
      "metadata": {
        "colab": {
          "base_uri": "https://localhost:8080/"
        },
        "id": "76r5BGNETvD2",
        "outputId": "9f1ca9d1-49d7-4518-f366-553e74f525c5"
      },
      "execution_count": null,
      "outputs": [
        {
          "output_type": "execute_result",
          "data": {
            "text/plain": [
              "array([ 0,  2,  4,  6,  8, 10])"
            ]
          },
          "metadata": {},
          "execution_count": 29
        }
      ]
    },
    {
      "cell_type": "markdown",
      "source": [
        "Criar um vetor controlado com uma quantidade de números que estejam dentro de um intervalo: [start, stop] e o espaçamento entre os valores é linear"
      ],
      "metadata": {
        "id": "5n8La9kpXxNG"
      }
    },
    {
      "cell_type": "code",
      "source": [
        "b = np.linspace(start=0, stop=20, num=10)\n",
        "b"
      ],
      "metadata": {
        "colab": {
          "base_uri": "https://localhost:8080/"
        },
        "id": "J8fJ-zeUWjh4",
        "outputId": "37e17b40-0517-4216-d189-cf05ff21da05"
      },
      "execution_count": null,
      "outputs": [
        {
          "output_type": "execute_result",
          "data": {
            "text/plain": [
              "array([ 0.        ,  2.22222222,  4.44444444,  6.66666667,  8.88888889,\n",
              "       11.11111111, 13.33333333, 15.55555556, 17.77777778, 20.        ])"
            ]
          },
          "metadata": {},
          "execution_count": 30
        }
      ]
    },
    {
      "cell_type": "markdown",
      "source": [
        "Funciona como o `np.linspace`, entretanto com intervalos logaritmicos e geométricos respectivamente"
      ],
      "metadata": {
        "id": "yrtChUv2YUnn"
      }
    },
    {
      "cell_type": "code",
      "source": [
        "c = np.logspace(start=-3, stop=3, num=7, base=2)\n",
        "c"
      ],
      "metadata": {
        "colab": {
          "base_uri": "https://localhost:8080/"
        },
        "id": "CSM2vjwvWoLR",
        "outputId": "00bda5d2-a450-44aa-f43d-5fc26ba292dd"
      },
      "execution_count": null,
      "outputs": [
        {
          "output_type": "execute_result",
          "data": {
            "text/plain": [
              "array([0.125, 0.25 , 0.5  , 1.   , 2.   , 4.   , 8.   ])"
            ]
          },
          "metadata": {},
          "execution_count": 32
        }
      ]
    },
    {
      "cell_type": "code",
      "source": [
        "d = np.geomspace(start=2 ** (-3), stop=2**3, num=7)\n",
        "d"
      ],
      "metadata": {
        "colab": {
          "base_uri": "https://localhost:8080/"
        },
        "id": "T2nTJ5XeW368",
        "outputId": "875041e9-1140-43eb-c252-88372dd26e38"
      },
      "execution_count": null,
      "outputs": [
        {
          "output_type": "execute_result",
          "data": {
            "text/plain": [
              "array([0.125, 0.25 , 0.5  , 1.   , 2.   , 4.   , 8.   ])"
            ]
          },
          "metadata": {},
          "execution_count": 33
        }
      ]
    },
    {
      "cell_type": "code",
      "source": [
        "import matplotlib.pyplot as plt\n",
        "\n",
        "fig, axs = plt.subplots(2, 2)\n",
        "axs[0, 0].plot(a)\n",
        "axs[0, 0].set_title('np.arange')\n",
        "axs[0, 1].plot(b, 'tab:orange')\n",
        "axs[0, 1].set_title('np.linspace')\n",
        "axs[1, 0].plot(c, 'tab:green')\n",
        "axs[1, 0].set_title('np.logspace')\n",
        "axs[1, 1].plot(d, 'tab:red')\n",
        "axs[1, 1].set_title('np.geomspace')\n",
        "\n",
        "for ax in axs.flat:\n",
        "    ax.set(xlabel='x-label', ylabel='y-label')\n",
        "\n",
        "# Hide x labels and tick labels for top plots and y ticks for right plots.\n",
        "for ax in axs.flat:\n",
        "    ax.label_outer()"
      ],
      "metadata": {
        "colab": {
          "base_uri": "https://localhost:8080/",
          "height": 295
        },
        "id": "SXBvicRIYhtG",
        "outputId": "8905e468-785a-4b06-fc66-e533c7254dbe"
      },
      "execution_count": null,
      "outputs": [
        {
          "output_type": "display_data",
          "data": {
            "text/plain": [
              "<Figure size 432x288 with 4 Axes>"
            ],
            "image/png": "[encoded data removed]"
          },
          "metadata": {
            "needs_background": "light"
          }
        }
      ]
    },
    {
      "cell_type": "markdown",
      "source": [
        "## Fatiamentos \n",
        "Além dos arrays, é possível fazer fatiamento em matrizes de uma forma mais elegante. Veja os exemplos abaixo"
      ],
      "metadata": {
        "id": "GtMxZr-haWow"
      }
    },
    {
      "cell_type": "code",
      "source": [
        "A = np.linspace(100, 110, 11)"
      ],
      "metadata": {
        "id": "-PW27h6SZUV_"
      },
      "execution_count": null,
      "outputs": []
    },
    {
      "cell_type": "code",
      "source": [
        "A[0:2]"
      ],
      "metadata": {
        "colab": {
          "base_uri": "https://localhost:8080/"
        },
        "id": "ToSoG7qWajQe",
        "outputId": "9462a514-e1ac-4b2f-ff9f-1f2e066cdce6"
      },
      "execution_count": null,
      "outputs": [
        {
          "output_type": "execute_result",
          "data": {
            "text/plain": [
              "array([100., 101.])"
            ]
          },
          "metadata": {},
          "execution_count": 38
        }
      ]
    },
    {
      "cell_type": "code",
      "source": [
        "A[:2]"
      ],
      "metadata": {
        "colab": {
          "base_uri": "https://localhost:8080/"
        },
        "id": "Cdj7z6NEalvY",
        "outputId": "15d0e83a-a346-4fc7-f62f-156f43b0c82d"
      },
      "execution_count": null,
      "outputs": [
        {
          "output_type": "execute_result",
          "data": {
            "text/plain": [
              "array([100., 101.])"
            ]
          },
          "metadata": {},
          "execution_count": 39
        }
      ]
    },
    {
      "cell_type": "code",
      "source": [
        "A[2:]"
      ],
      "metadata": {
        "colab": {
          "base_uri": "https://localhost:8080/"
        },
        "id": "XRfdLjvZang5",
        "outputId": "80786169-7a25-4379-e856-71a8ac9cd494"
      },
      "execution_count": null,
      "outputs": [
        {
          "output_type": "execute_result",
          "data": {
            "text/plain": [
              "array([102., 103., 104., 105., 106., 107., 108., 109., 110.])"
            ]
          },
          "metadata": {},
          "execution_count": 40
        }
      ]
    },
    {
      "cell_type": "code",
      "source": [
        "A[-2:]"
      ],
      "metadata": {
        "colab": {
          "base_uri": "https://localhost:8080/"
        },
        "id": "TGTRHuBgaowZ",
        "outputId": "ef601676-ea6f-43a0-bfcb-a16ce947aaa9"
      },
      "execution_count": null,
      "outputs": [
        {
          "output_type": "execute_result",
          "data": {
            "text/plain": [
              "array([109., 110.])"
            ]
          },
          "metadata": {},
          "execution_count": 41
        }
      ]
    },
    {
      "cell_type": "code",
      "source": [
        "A[::2]"
      ],
      "metadata": {
        "colab": {
          "base_uri": "https://localhost:8080/"
        },
        "id": "U3zWRu1yaqdF",
        "outputId": "0107baf8-38e8-4ec3-a38b-0d947a29ff2f"
      },
      "execution_count": null,
      "outputs": [
        {
          "output_type": "execute_result",
          "data": {
            "text/plain": [
              "array([100., 102., 104., 106., 108., 110.])"
            ]
          },
          "metadata": {},
          "execution_count": 42
        }
      ]
    },
    {
      "cell_type": "markdown",
      "source": [
        "### Conjuntos\n",
        "Podemos fazer fatiamentos, informando as posições que queremos!"
      ],
      "metadata": {
        "id": "HDl5-ZVOa6TC"
      }
    },
    {
      "cell_type": "code",
      "source": [
        "A[[1, 5, 9]]"
      ],
      "metadata": {
        "colab": {
          "base_uri": "https://localhost:8080/"
        },
        "id": "Jjzm3x4VasPe",
        "outputId": "3c136cb6-2fac-42db-8eed-0b72b531cc58"
      },
      "execution_count": null,
      "outputs": [
        {
          "output_type": "execute_result",
          "data": {
            "text/plain": [
              "array([101., 105., 109.])"
            ]
          },
          "metadata": {},
          "execution_count": 44
        }
      ]
    },
    {
      "cell_type": "code",
      "source": [
        "A[[1, -5, 9]]"
      ],
      "metadata": {
        "colab": {
          "base_uri": "https://localhost:8080/"
        },
        "id": "M3yHWnppbC3G",
        "outputId": "23ca4179-dde9-41f1-9e6a-030a3f28d194"
      },
      "execution_count": null,
      "outputs": [
        {
          "output_type": "execute_result",
          "data": {
            "text/plain": [
              "array([101., 106., 109.])"
            ]
          },
          "metadata": {},
          "execution_count": 45
        }
      ]
    },
    {
      "cell_type": "markdown",
      "source": [
        "Gerando uma matriz de elementos aleatórios"
      ],
      "metadata": {
        "id": "GXnKX7hIbbqa"
      }
    },
    {
      "cell_type": "code",
      "source": [
        "A = np.random.rand(3, 4)"
      ],
      "metadata": {
        "colab": {
          "base_uri": "https://localhost:8080/"
        },
        "id": "EUfnc6NebFcH",
        "outputId": "def9f13e-d612-463a-a3a3-8d8d66aaa275"
      },
      "execution_count": null,
      "outputs": [
        {
          "output_type": "execute_result",
          "data": {
            "text/plain": [
              "array([[0.80116327, 0.50160651, 0.60694697, 0.86122793],\n",
              "       [0.07544157, 0.44288017, 0.27776636, 0.18605556],\n",
              "       [0.05543625, 0.82170667, 0.96933508, 0.57478119]])"
            ]
          },
          "metadata": {},
          "execution_count": 47
        }
      ]
    },
    {
      "cell_type": "code",
      "source": [
        "A[0, :]"
      ],
      "metadata": {
        "colab": {
          "base_uri": "https://localhost:8080/"
        },
        "id": "SDFzFBUsbLBh",
        "outputId": "59fb5cbf-995d-4b27-d972-0dcdc52315e1"
      },
      "execution_count": null,
      "outputs": [
        {
          "output_type": "execute_result",
          "data": {
            "text/plain": [
              "array([0.80116327, 0.50160651, 0.60694697, 0.86122793])"
            ]
          },
          "metadata": {},
          "execution_count": 48
        }
      ]
    },
    {
      "cell_type": "code",
      "source": [
        "A[0:2, :]"
      ],
      "metadata": {
        "colab": {
          "base_uri": "https://localhost:8080/"
        },
        "id": "8w_6xdgUbRL9",
        "outputId": "ec627af4-e9dd-4fee-a2b7-0c70539dd046"
      },
      "execution_count": null,
      "outputs": [
        {
          "output_type": "execute_result",
          "data": {
            "text/plain": [
              "array([[0.80116327, 0.50160651, 0.60694697, 0.86122793],\n",
              "       [0.07544157, 0.44288017, 0.27776636, 0.18605556]])"
            ]
          },
          "metadata": {},
          "execution_count": 49
        }
      ]
    },
    {
      "cell_type": "code",
      "source": [
        "A[:, 0:3]"
      ],
      "metadata": {
        "colab": {
          "base_uri": "https://localhost:8080/"
        },
        "id": "zDptr5xkbTPG",
        "outputId": "5ac89e97-d21b-4d64-a98d-66eca57ada43"
      },
      "execution_count": null,
      "outputs": [
        {
          "output_type": "execute_result",
          "data": {
            "text/plain": [
              "array([[0.80116327, 0.50160651, 0.60694697],\n",
              "       [0.07544157, 0.44288017, 0.27776636],\n",
              "       [0.05543625, 0.82170667, 0.96933508]])"
            ]
          },
          "metadata": {},
          "execution_count": 50
        }
      ]
    },
    {
      "cell_type": "code",
      "source": [
        "A[0:2, 0:3]"
      ],
      "metadata": {
        "colab": {
          "base_uri": "https://localhost:8080/"
        },
        "id": "0knq5bWRbVX_",
        "outputId": "1e6b2528-2f67-40f5-bbad-8d7566462218"
      },
      "execution_count": null,
      "outputs": [
        {
          "output_type": "execute_result",
          "data": {
            "text/plain": [
              "array([[0.80116327, 0.50160651, 0.60694697],\n",
              "       [0.07544157, 0.44288017, 0.27776636]])"
            ]
          },
          "metadata": {},
          "execution_count": 51
        }
      ]
    },
    {
      "cell_type": "code",
      "source": [],
      "metadata": {
        "id": "oQVSDrCLbYgH"
      },
      "execution_count": null,
      "outputs": []
    }
  ]
}