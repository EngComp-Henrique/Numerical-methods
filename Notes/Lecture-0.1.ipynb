{
  "nbformat": 4,
  "nbformat_minor": 0,
  "metadata": {
    "colab": {
      "provenance": [],
      "collapsed_sections": [],
      "authorship_tag": "ABX9TyPDf0hnvqUOwtgy6KIB/Q+N",
      "include_colab_link": true
    },
    "kernelspec": {
      "name": "python3",
      "display_name": "Python 3"
    },
    "language_info": {
      "name": "python"
    }
  },
  "cells": [
    {
      "cell_type": "markdown",
      "metadata": {
        "id": "view-in-github",
        "colab_type": "text"
      },
      "source": [
        "<a href=\"https://colab.research.google.com/github/EngComp-Henrique/Numerical-methods/blob/main/Lecture-0.1.ipynb\" target=\"_parent\"><img src=\"https://colab.research.google.com/assets/colab-badge.svg\" alt=\"Open In Colab\"/></a>"
      ]
    },
    {
      "cell_type": "markdown",
      "source": [
        "# Análise numérica\n",
        "* Encontrar soluções aproximadas para problemas bem definidos\n",
        "* Exemplo: $x^{2}=2$. O que isso quer dizer? \n",
        "    * Queremos a multiplicação de dois números que resulte no valor $2$, ou seja, $x=\\pm\\sqrt{2}$, onde $\\sqrt{2}\\in 𝕀$\n",
        "    * Para solução desse problema, utilizamos um valor para raiz de dois que seja **próximo o suficiente**\n",
        "\n",
        "## Método babilônio\n",
        "* Modelo matemático para aproximação de raizes quadradas\n",
        "\n",
        "$$\n",
        "xx=2 \\to x=\\dfrac{2}{x}\\to x + x = x + \\dfrac{2}{x}\\to 2x = x + \\dfrac{2}{x}\\to x = \\dfrac{x + \\dfrac{2}{x}}{2}\n",
        "$$\n",
        "* Para o cálculo aproximado de $x$, é usado o método iterativo\n",
        "$$\n",
        "x = \\dfrac{x + \\dfrac{2}{x}}{2} ⟹ x_n= \\dfrac{x_{n-1} + \\dfrac{2}{x_{n-1}}}{2}\n",
        "$$\n",
        "\n",
        "* Sempre assuma um primeiro passo!"
      ],
      "metadata": {
        "id": "_S418ai-Z-rk"
      }
    },
    {
      "cell_type": "code",
      "source": [
        "import numpy as np"
      ],
      "metadata": {
        "id": "7gd7C3ZceGiR"
      },
      "execution_count": 3,
      "outputs": []
    },
    {
      "cell_type": "code",
      "execution_count": 8,
      "metadata": {
        "id": "vZwE5lwKZwm3"
      },
      "outputs": [],
      "source": [
        "def babylonian_method(_n):\n",
        "    x0 = 1\n",
        "    x = np.zeros(_n + 1)\n",
        "    x[0] = x0\n",
        "    for n in range(1, _n + 1):\n",
        "        x[n] = (x[n - 1] + 2 / x[n - 1]) / 2\n",
        "    return x[_n]"
      ]
    },
    {
      "cell_type": "code",
      "source": [
        "for n in range(1, 10):\n",
        "    v = babylonian_method(_n=n)\n",
        "    print(f\"x_{n}{v:.>50}\")\n",
        "    print(f\"x_{n}^2{v**2:.>50}\")\n",
        "    print()"
      ],
      "metadata": {
        "colab": {
          "base_uri": "https://localhost:8080/"
        },
        "id": "Jn9ErsRHgPpW",
        "outputId": "28437f53-2fba-4982-e69d-eac4a1404837"
      },
      "execution_count": 13,
      "outputs": [
        {
          "output_type": "stream",
          "name": "stdout",
          "text": [
            "x_1...............................................1.5\n",
            "x_1^2..............................................2.25\n",
            "\n",
            "x_2................................1.4166666666666665\n",
            "x_2^2.................................2.006944444444444\n",
            "\n",
            "x_3................................1.4142156862745097\n",
            "x_3^2................................2.0000060073048824\n",
            "\n",
            "x_4................................1.4142135623746899\n",
            "x_4^2................................2.0000000000045106\n",
            "\n",
            "x_5.................................1.414213562373095\n",
            "x_5^2................................1.9999999999999996\n",
            "\n",
            "x_6.................................1.414213562373095\n",
            "x_6^2................................1.9999999999999996\n",
            "\n",
            "x_7.................................1.414213562373095\n",
            "x_7^2................................1.9999999999999996\n",
            "\n",
            "x_8.................................1.414213562373095\n",
            "x_8^2................................1.9999999999999996\n",
            "\n",
            "x_9.................................1.414213562373095\n",
            "x_9^2................................1.9999999999999996\n",
            "\n"
          ]
        }
      ]
    },
    {
      "cell_type": "markdown",
      "source": [
        "* $x_3$ e $x_4$ são muito próximos um do outro\n",
        "* À medida em que avançamos o valor, vemos que o erro vai diminuindo\n",
        "\n",
        "## Modelos matemáticos\n",
        "\n",
        "$$\n",
        "\\text{Dependent Variable}=f\\Big(\\text{Independent Variables, parameters, forcing functions}\\Big)\n",
        "$$"
      ],
      "metadata": {
        "id": "Gg-IMfTUqpv2"
      }
    },
    {
      "cell_type": "markdown",
      "source": [
        "## Referências\n",
        "* [Método Babilônio](http://en.wikipedia.org/wiki/Methods_of_computing_square_roots)\n",
        "* [Engineering at Alberta](https://engcourses-uofa.ca/books/numericalanalysis/introduction/)\n",
        "* [Youtube video](https://www.youtube.com/watch?v=8D0-mnKzLkk&t=343s)"
      ],
      "metadata": {
        "id": "eikeOsd8bTCH"
      }
    },
    {
      "cell_type": "code",
      "source": [],
      "metadata": {
        "id": "sUCBKbI0bqlg"
      },
      "execution_count": null,
      "outputs": []
    }
  ]
}
