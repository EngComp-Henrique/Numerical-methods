{
  "cells": [
    {
      "cell_type": "markdown",
      "metadata": {
        "id": "view-in-github",
        "colab_type": "text"
      },
      "source": [
        "<a href=\"https://colab.research.google.com/github/EngComp-Henrique/Numerical-methods/blob/main/100_Numpy_exercises.ipynb\" target=\"_parent\"><img src=\"https://colab.research.google.com/assets/colab-badge.svg\" alt=\"Open In Colab\"/></a>"
      ]
    },
    {
      "cell_type": "markdown",
      "id": "f44a2f2b",
      "metadata": {
        "id": "f44a2f2b"
      },
      "source": [
        "# 100 numpy exercises\n",
        "\n",
        "This is a collection of exercises that have been collected in the numpy mailing list, on stack overflow\n",
        "and in the numpy documentation. The goal of this collection is to offer a quick reference for both old\n",
        "and new users but also to provide a set of exercises for those who teach.\n"
      ]
    },
    {
      "cell_type": "markdown",
      "id": "96443564",
      "metadata": {
        "id": "96443564"
      },
      "source": [
        "#### 1. Import the numpy package under the name `np` (★☆☆)"
      ]
    },
    {
      "cell_type": "code",
      "execution_count": 1,
      "id": "ffe1047e",
      "metadata": {
        "id": "ffe1047e"
      },
      "outputs": [],
      "source": [
        "import numpy as np"
      ]
    },
    {
      "cell_type": "markdown",
      "id": "c807bf1d",
      "metadata": {
        "id": "c807bf1d"
      },
      "source": [
        "#### 2. Print the numpy version and the configuration (★☆☆)"
      ]
    },
    {
      "cell_type": "code",
      "execution_count": null,
      "id": "f396b717",
      "metadata": {
        "colab": {
          "base_uri": "https://localhost:8080/",
          "height": 35
        },
        "id": "f396b717",
        "outputId": "129cf7d7-c66c-4cb0-d165-4f6a01e64204"
      },
      "outputs": [
        {
          "output_type": "execute_result",
          "data": {
            "text/plain": [
              "'1.21.6'"
            ],
            "application/vnd.google.colaboratory.intrinsic+json": {
              "type": "string"
            }
          },
          "metadata": {},
          "execution_count": 2
        }
      ],
      "source": [
        "np.__version__"
      ]
    },
    {
      "cell_type": "markdown",
      "id": "572c1bdb",
      "metadata": {
        "id": "572c1bdb"
      },
      "source": [
        "#### 3. Create a null vector of size 10 (★☆☆)"
      ]
    },
    {
      "cell_type": "code",
      "execution_count": null,
      "id": "31c9f6a5",
      "metadata": {
        "colab": {
          "base_uri": "https://localhost:8080/"
        },
        "id": "31c9f6a5",
        "outputId": "3399217d-3f30-4c18-a71d-faf4e6533e99"
      },
      "outputs": [
        {
          "output_type": "execute_result",
          "data": {
            "text/plain": [
              "array([0., 0., 0., 0., 0., 0., 0., 0., 0., 0.])"
            ]
          },
          "metadata": {},
          "execution_count": 3
        }
      ],
      "source": [
        "null_array = np.zeros(shape=10)\n",
        "null_array"
      ]
    },
    {
      "cell_type": "markdown",
      "id": "337e6e36",
      "metadata": {
        "id": "337e6e36"
      },
      "source": [
        "#### 4. How to find the memory size of any array (★☆☆)"
      ]
    },
    {
      "cell_type": "code",
      "execution_count": null,
      "id": "31e8ec2e",
      "metadata": {
        "colab": {
          "base_uri": "https://localhost:8080/"
        },
        "id": "31e8ec2e",
        "outputId": "f43eced6-0ede-4c99-9f99-88fa930432b5"
      },
      "outputs": [
        {
          "output_type": "stream",
          "name": "stdout",
          "text": [
            "Total bytes consumed by the elements of the array: [ 0  1  2  3  4  5  6  7  8  9 10 11 12 13 14 15 16 17 18 19] = 160 bytes\n"
          ]
        }
      ],
      "source": [
        "from sys import getsizeof\n",
        "arr = np.array(list(range(20)))\n",
        "print(f\"Total bytes consumed by the elements of the array: {arr} = {arr.nbytes} bytes\")"
      ]
    },
    {
      "cell_type": "markdown",
      "id": "166079c8",
      "metadata": {
        "id": "166079c8"
      },
      "source": [
        "#### 5. How to get the documentation of the numpy add function from the command line? (★☆☆)"
      ]
    },
    {
      "cell_type": "code",
      "execution_count": null,
      "id": "593cd80f",
      "metadata": {
        "colab": {
          "base_uri": "https://localhost:8080/"
        },
        "id": "593cd80f",
        "outputId": "193fb1f8-541b-416f-a028-288e92da25cc"
      },
      "outputs": [
        {
          "output_type": "stream",
          "name": "stdout",
          "text": [
            "add(x1, x2, /, out=None, *, where=True, casting='same_kind', order='K', dtype=None, subok=True[, signature, extobj])\n",
            "\n",
            "Add arguments element-wise.\n",
            "\n",
            "Parameters\n",
            "----------\n",
            "x1, x2 : array_like\n",
            "    The arrays to be added.\n",
            "    If ``x1.shape != x2.shape``, they must be broadcastable to a common\n",
            "    shape (which becomes the shape of the output).\n",
            "out : ndarray, None, or tuple of ndarray and None, optional\n",
            "    A location into which the result is stored. If provided, it must have\n",
            "    a shape that the inputs broadcast to. If not provided or None,\n",
            "    a freshly-allocated array is returned. A tuple (possible only as a\n",
            "    keyword argument) must have length equal to the number of outputs.\n",
            "where : array_like, optional\n",
            "    This condition is broadcast over the input. At locations where the\n",
            "    condition is True, the `out` array will be set to the ufunc result.\n",
            "    Elsewhere, the `out` array will retain its original value.\n",
            "    Note that if an uninitialized `out` array is created via the default\n",
            "    ``out=None``, locations within it where the condition is False will\n",
            "    remain uninitialized.\n",
            "**kwargs\n",
            "    For other keyword-only arguments, see the\n",
            "    :ref:`ufunc docs <ufuncs.kwargs>`.\n",
            "\n",
            "Returns\n",
            "-------\n",
            "add : ndarray or scalar\n",
            "    The sum of `x1` and `x2`, element-wise.\n",
            "    This is a scalar if both `x1` and `x2` are scalars.\n",
            "\n",
            "Notes\n",
            "-----\n",
            "Equivalent to `x1` + `x2` in terms of array broadcasting.\n",
            "\n",
            "Examples\n",
            "--------\n",
            ">>> np.add(1.0, 4.0)\n",
            "5.0\n",
            ">>> x1 = np.arange(9.0).reshape((3, 3))\n",
            ">>> x2 = np.arange(3.0)\n",
            ">>> np.add(x1, x2)\n",
            "array([[  0.,   2.,   4.],\n",
            "       [  3.,   5.,   7.],\n",
            "       [  6.,   8.,  10.]])\n",
            "\n",
            "The ``+`` operator can be used as a shorthand for ``np.add`` on ndarrays.\n",
            "\n",
            ">>> x1 = np.arange(9.0).reshape((3, 3))\n",
            ">>> x2 = np.arange(3.0)\n",
            ">>> x1 + x2\n",
            "array([[ 0.,  2.,  4.],\n",
            "       [ 3.,  5.,  7.],\n",
            "       [ 6.,  8., 10.]])\n"
          ]
        }
      ],
      "source": [
        "np.info(np.add)"
      ]
    },
    {
      "cell_type": "markdown",
      "id": "3add7101",
      "metadata": {
        "id": "3add7101"
      },
      "source": [
        "#### 6. Create a null vector of size 10 but the fifth value which is 1 (★☆☆)"
      ]
    },
    {
      "cell_type": "code",
      "execution_count": null,
      "id": "2edf3c42",
      "metadata": {
        "colab": {
          "base_uri": "https://localhost:8080/"
        },
        "id": "2edf3c42",
        "outputId": "b77454d4-7c53-4ba5-c78b-0dbc5f5088f4"
      },
      "outputs": [
        {
          "output_type": "execute_result",
          "data": {
            "text/plain": [
              "array([0., 0., 0., 0., 0., 1., 0., 0., 0., 0.])"
            ]
          },
          "metadata": {},
          "execution_count": 6
        }
      ],
      "source": [
        "arr = np.zeros(shape=10)\n",
        "arr[5] = 1\n",
        "arr"
      ]
    },
    {
      "cell_type": "markdown",
      "id": "cfc46304",
      "metadata": {
        "id": "cfc46304"
      },
      "source": [
        "#### 7. Create a vector with values ranging from 10 to 49 (★☆☆)"
      ]
    },
    {
      "cell_type": "code",
      "execution_count": null,
      "id": "d8b86640",
      "metadata": {
        "colab": {
          "base_uri": "https://localhost:8080/"
        },
        "id": "d8b86640",
        "outputId": "28c99754-cd6e-4d90-e881-aec3d858de40"
      },
      "outputs": [
        {
          "output_type": "execute_result",
          "data": {
            "text/plain": [
              "array([10, 11, 12, 13, 14, 15, 16, 17, 18, 19, 20, 21, 22, 23, 24, 25, 26,\n",
              "       27, 28, 29, 30, 31, 32, 33, 34, 35, 36, 37, 38, 39, 40, 41, 42, 43,\n",
              "       44, 45, 46, 47, 48, 49])"
            ]
          },
          "metadata": {},
          "execution_count": 7
        }
      ],
      "source": [
        "arr = np.array(range(10, 50))\n",
        "arr"
      ]
    },
    {
      "cell_type": "markdown",
      "id": "0cc200be",
      "metadata": {
        "id": "0cc200be"
      },
      "source": [
        "#### 8. Reverse a vector (first element becomes last) (★☆☆)"
      ]
    },
    {
      "cell_type": "code",
      "execution_count": null,
      "id": "ec044bb5",
      "metadata": {
        "colab": {
          "base_uri": "https://localhost:8080/"
        },
        "id": "ec044bb5",
        "outputId": "1985711b-50b7-4e17-e89b-b5a1a744f586"
      },
      "outputs": [
        {
          "output_type": "execute_result",
          "data": {
            "text/plain": [
              "array([0, 1, 2, 3, 4, 5, 6, 7, 8, 9])"
            ]
          },
          "metadata": {},
          "execution_count": 8
        }
      ],
      "source": [
        "arr = np.array(range(10))\n",
        "arr"
      ]
    },
    {
      "cell_type": "code",
      "source": [
        "rev = np.flip(arr)\n",
        "rev"
      ],
      "metadata": {
        "colab": {
          "base_uri": "https://localhost:8080/"
        },
        "id": "mPU6hRm0VUyb",
        "outputId": "463842ee-1019-4697-89aa-cd8224385d5f"
      },
      "id": "mPU6hRm0VUyb",
      "execution_count": null,
      "outputs": [
        {
          "output_type": "execute_result",
          "data": {
            "text/plain": [
              "array([9, 8, 7, 6, 5, 4, 3, 2, 1, 0])"
            ]
          },
          "metadata": {},
          "execution_count": 9
        }
      ]
    },
    {
      "cell_type": "markdown",
      "id": "29d9ede4",
      "metadata": {
        "id": "29d9ede4"
      },
      "source": [
        "#### 9. Create a 3x3 matrix with values ranging from 0 to 8 (★☆☆)"
      ]
    },
    {
      "cell_type": "code",
      "execution_count": null,
      "id": "d9e39043",
      "metadata": {
        "colab": {
          "base_uri": "https://localhost:8080/"
        },
        "id": "d9e39043",
        "outputId": "d3fb7db8-879d-401b-dafa-e8b7343f25bd"
      },
      "outputs": [
        {
          "output_type": "execute_result",
          "data": {
            "text/plain": [
              "array([[0, 1, 2],\n",
              "       [3, 4, 5],\n",
              "       [6, 7, 8]])"
            ]
          },
          "metadata": {},
          "execution_count": 10
        }
      ],
      "source": [
        "matrix = np.array(range(0, 9)).reshape(3, 3)\n",
        "matrix"
      ]
    },
    {
      "cell_type": "markdown",
      "id": "88905ceb",
      "metadata": {
        "id": "88905ceb"
      },
      "source": [
        "#### 10. Find indices of non-zero elements from [1,2,0,0,4,0] (★☆☆)"
      ]
    },
    {
      "cell_type": "code",
      "execution_count": null,
      "id": "b2f3c90a",
      "metadata": {
        "colab": {
          "base_uri": "https://localhost:8080/"
        },
        "id": "b2f3c90a",
        "outputId": "5e3abfd6-81e0-4ef9-de8b-9810685e34f9"
      },
      "outputs": [
        {
          "output_type": "execute_result",
          "data": {
            "text/plain": [
              "(array([0, 1, 4]),)"
            ]
          },
          "metadata": {},
          "execution_count": 11
        }
      ],
      "source": [
        "arr = np.array([1, 2, 0, 0, 4, 0])\n",
        "result = np.where(arr > 0)\n",
        "result"
      ]
    },
    {
      "cell_type": "markdown",
      "id": "49603e91",
      "metadata": {
        "id": "49603e91"
      },
      "source": [
        "#### 11. Create a 3x3 identity matrix (★☆☆)"
      ]
    },
    {
      "cell_type": "code",
      "execution_count": null,
      "id": "5b607b5c",
      "metadata": {
        "colab": {
          "base_uri": "https://localhost:8080/"
        },
        "id": "5b607b5c",
        "outputId": "b4e3d9fe-a8fa-40ce-ad4c-3a39750a4833"
      },
      "outputs": [
        {
          "output_type": "execute_result",
          "data": {
            "text/plain": [
              "array([[1, 0, 0],\n",
              "       [0, 1, 0],\n",
              "       [0, 0, 1]])"
            ]
          },
          "metadata": {},
          "execution_count": 12
        }
      ],
      "source": [
        "np.identity(3, dtype='int64')"
      ]
    },
    {
      "cell_type": "markdown",
      "id": "e15c249a",
      "metadata": {
        "id": "e15c249a"
      },
      "source": [
        "#### 12. Create a 3x3x3 array with random values (★☆☆)"
      ]
    },
    {
      "cell_type": "code",
      "execution_count": null,
      "id": "ab21ed50",
      "metadata": {
        "colab": {
          "base_uri": "https://localhost:8080/"
        },
        "id": "ab21ed50",
        "outputId": "98b324a2-f8a3-41c2-c75c-cf1214a47895"
      },
      "outputs": [
        {
          "output_type": "execute_result",
          "data": {
            "text/plain": [
              "array([[[0.94341521, 0.60969366, 0.37756459],\n",
              "        [0.27058592, 0.17549297, 0.79492822],\n",
              "        [0.3027981 , 0.11754485, 0.65379053]],\n",
              "\n",
              "       [[0.3147891 , 0.61142522, 0.82616673],\n",
              "        [0.65452685, 0.04325473, 0.95012363],\n",
              "        [0.39397979, 0.46423463, 0.44185789]],\n",
              "\n",
              "       [[0.81906888, 0.50545576, 0.16729988],\n",
              "        [0.74740847, 0.94282649, 0.2457797 ],\n",
              "        [0.05986146, 0.43402297, 0.78283225]]])"
            ]
          },
          "metadata": {},
          "execution_count": 13
        }
      ],
      "source": [
        "np.random.rand(3, 3, 3)"
      ]
    },
    {
      "cell_type": "markdown",
      "id": "157a129c",
      "metadata": {
        "id": "157a129c"
      },
      "source": [
        "#### 13. Create a 10x10 array with random values and find the minimum and maximum values (★☆☆)"
      ]
    },
    {
      "cell_type": "code",
      "execution_count": null,
      "id": "c0066de5",
      "metadata": {
        "colab": {
          "base_uri": "https://localhost:8080/"
        },
        "id": "c0066de5",
        "outputId": "2ad6cef8-9f79-46f5-ee1b-5687d27bd4c1"
      },
      "outputs": [
        {
          "output_type": "execute_result",
          "data": {
            "text/plain": [
              "array([[0.66005028, 0.90637382, 0.10483403, 0.66435826, 0.61253734,\n",
              "        0.79150764, 0.21168273, 0.48562472, 0.52098891, 0.98700607],\n",
              "       [0.38643864, 0.69444089, 0.27140661, 0.30619271, 0.38457857,\n",
              "        0.11455897, 0.85763366, 0.68715218, 0.9814187 , 0.94591796],\n",
              "       [0.24812226, 0.89962942, 0.10398858, 0.15602139, 0.68353142,\n",
              "        0.36845485, 0.0610515 , 0.01208592, 0.57849031, 0.65096261],\n",
              "       [0.23669266, 0.47441268, 0.75254877, 0.4518056 , 0.49893171,\n",
              "        0.38861626, 0.75272595, 0.73873535, 0.320574  , 0.66763623],\n",
              "       [0.40225935, 0.62535656, 0.51234224, 0.87446787, 0.78296244,\n",
              "        0.54165126, 0.52382114, 0.13461971, 0.53532466, 0.73500257],\n",
              "       [0.49660128, 0.04264043, 0.91945489, 0.91915418, 0.41387925,\n",
              "        0.57933567, 0.56921235, 0.95300664, 0.11091974, 0.385062  ],\n",
              "       [0.35167551, 0.12474813, 0.63901697, 0.00238383, 0.38177515,\n",
              "        0.17584885, 0.91021129, 0.26981505, 0.85077996, 0.6382707 ],\n",
              "       [0.60068298, 0.99095185, 0.65948561, 0.22678151, 0.71272561,\n",
              "        0.37432309, 0.59560898, 0.86660023, 0.98084432, 0.86039494],\n",
              "       [0.92492623, 0.66217613, 0.01111214, 0.54266044, 0.40174064,\n",
              "        0.65167127, 0.72912345, 0.27865045, 0.54529571, 0.36407315],\n",
              "       [0.09333155, 0.1797505 , 0.324128  , 0.21229996, 0.65856624,\n",
              "        0.41197591, 0.81456407, 0.31722708, 0.65797708, 0.71125812]])"
            ]
          },
          "metadata": {},
          "execution_count": 14
        }
      ],
      "source": [
        "min_max_arr = np.random.rand(10, 10)\n",
        "min_max_arr"
      ]
    },
    {
      "cell_type": "code",
      "source": [
        "print(f'Menor valor = {np.min(min_max_arr)}\\nMaior valor = {np.max(min_max_arr)}')"
      ],
      "metadata": {
        "colab": {
          "base_uri": "https://localhost:8080/"
        },
        "id": "k2mTHfZtXUls",
        "outputId": "bc96ac78-758a-40c6-e883-654d04cae6ca"
      },
      "id": "k2mTHfZtXUls",
      "execution_count": null,
      "outputs": [
        {
          "output_type": "stream",
          "name": "stdout",
          "text": [
            "Menor valor = 0.0023838288594282275\n",
            "Maior valor = 0.9909518502668566\n"
          ]
        }
      ]
    },
    {
      "cell_type": "markdown",
      "id": "d92d7b32",
      "metadata": {
        "id": "d92d7b32"
      },
      "source": [
        "#### 14. Create a random vector of size 30 and find the mean value (★☆☆)"
      ]
    },
    {
      "cell_type": "code",
      "execution_count": null,
      "id": "9672d023",
      "metadata": {
        "colab": {
          "base_uri": "https://localhost:8080/"
        },
        "id": "9672d023",
        "outputId": "f2e99d37-0e0d-4313-c049-93d1715af2e3"
      },
      "outputs": [
        {
          "output_type": "execute_result",
          "data": {
            "text/plain": [
              "array([0.08734869, 0.81698874, 0.19128753, 0.91494173, 0.37901995,\n",
              "       0.44162394, 0.48641615, 0.31198241, 0.09320946, 0.28750534,\n",
              "       0.03511982, 0.45658698, 0.04008793, 0.28614152, 0.84691324,\n",
              "       0.57524837, 0.61717479, 0.62045587, 0.67279261, 0.02105105,\n",
              "       0.15131608, 0.47629646, 0.33959228, 0.03319421, 0.52296014,\n",
              "       0.15581446, 0.4659322 , 0.97419122, 0.84817555, 0.80876852])"
            ]
          },
          "metadata": {},
          "execution_count": 16
        }
      ],
      "source": [
        "rand_vector = np.random.rand(30)\n",
        "rand_vector"
      ]
    },
    {
      "cell_type": "code",
      "source": [
        "np.mean(rand_vector)"
      ],
      "metadata": {
        "colab": {
          "base_uri": "https://localhost:8080/"
        },
        "id": "jndiuXfOX2Zn",
        "outputId": "97e4363d-9721-4c73-e727-02204c1b6bb3"
      },
      "id": "jndiuXfOX2Zn",
      "execution_count": null,
      "outputs": [
        {
          "output_type": "execute_result",
          "data": {
            "text/plain": [
              "0.4319379086586296"
            ]
          },
          "metadata": {},
          "execution_count": 17
        }
      ]
    },
    {
      "cell_type": "markdown",
      "id": "f361efc0",
      "metadata": {
        "id": "f361efc0"
      },
      "source": [
        "#### 15. Create a 2d array with 1 on the border and 0 inside (★☆☆)"
      ]
    },
    {
      "cell_type": "code",
      "execution_count": null,
      "id": "a55b6666",
      "metadata": {
        "colab": {
          "base_uri": "https://localhost:8080/"
        },
        "id": "a55b6666",
        "outputId": "4371ab39-2169-4d5a-94b7-5e19e76741a7"
      },
      "outputs": [
        {
          "output_type": "execute_result",
          "data": {
            "text/plain": [
              "array([[0., 0., 0., 0.],\n",
              "       [0., 0., 0., 0.],\n",
              "       [0., 0., 0., 0.],\n",
              "       [0., 0., 0., 0.]])"
            ]
          },
          "metadata": {},
          "execution_count": 18
        }
      ],
      "source": [
        "arr = np.zeros((4, 4))\n",
        "arr"
      ]
    },
    {
      "cell_type": "code",
      "source": [
        "arr[0, :] = np.ones(4)\n",
        "arr[:, 0] = np.ones(4)\n",
        "arr[-1, :] = np.ones(4)\n",
        "arr[:, -1] = np.ones(4)"
      ],
      "metadata": {
        "id": "mGb6ed9SYSK_"
      },
      "id": "mGb6ed9SYSK_",
      "execution_count": null,
      "outputs": []
    },
    {
      "cell_type": "code",
      "source": [
        "arr"
      ],
      "metadata": {
        "colab": {
          "base_uri": "https://localhost:8080/"
        },
        "id": "yg7umXXAYknK",
        "outputId": "2841cb76-c818-4c0c-fe7d-666b9834b720"
      },
      "id": "yg7umXXAYknK",
      "execution_count": null,
      "outputs": [
        {
          "output_type": "execute_result",
          "data": {
            "text/plain": [
              "array([[1., 1., 1., 1.],\n",
              "       [1., 0., 0., 1.],\n",
              "       [1., 0., 0., 1.],\n",
              "       [1., 1., 1., 1.]])"
            ]
          },
          "metadata": {},
          "execution_count": 20
        }
      ]
    },
    {
      "cell_type": "markdown",
      "id": "475808cb",
      "metadata": {
        "id": "475808cb"
      },
      "source": [
        "#### 16. How to add a border (filled with 0's) around an existing array? (★☆☆)"
      ]
    },
    {
      "cell_type": "code",
      "execution_count": null,
      "id": "b2df3a8a",
      "metadata": {
        "colab": {
          "base_uri": "https://localhost:8080/"
        },
        "id": "b2df3a8a",
        "outputId": "7ccb521a-4383-411f-a759-7a05964d3e79"
      },
      "outputs": [
        {
          "output_type": "execute_result",
          "data": {
            "text/plain": [
              "array([[0.        , 0.        , 0.        , 0.        , 0.        ],\n",
              "       [0.        , 0.40931768, 0.7801307 , 0.04815043, 0.        ],\n",
              "       [0.        , 0.60127162, 0.87527329, 0.71988875, 0.        ],\n",
              "       [0.        , 0.8729064 , 0.98385091, 0.86031005, 0.        ],\n",
              "       [0.        , 0.        , 0.        , 0.        , 0.        ]])"
            ]
          },
          "metadata": {},
          "execution_count": 21
        }
      ],
      "source": [
        "rand_arr = np.random.rand(3, 3)\n",
        "add_column = np.zeros(3)\n",
        "add_row = np.zeros(5)\n",
        "result = np.column_stack((rand_arr, add_column))\n",
        "result = np.column_stack((add_column, result))\n",
        "result = np.vstack((add_row, result))\n",
        "result = np.vstack((result, add_row))\n",
        "result"
      ]
    },
    {
      "cell_type": "markdown",
      "id": "1af07d85",
      "metadata": {
        "id": "1af07d85"
      },
      "source": [
        "#### 17. What is the result of the following expression? (★☆☆)\n",
        "```python\n",
        "0 * np.nan\n",
        "np.nan == np.nan\n",
        "np.inf > np.nan\n",
        "np.nan - np.nan\n",
        "np.nan in set([np.nan])\n",
        "0.3 == 3 * 0.1\n",
        "```"
      ]
    },
    {
      "cell_type": "code",
      "execution_count": null,
      "id": "109cf327",
      "metadata": {
        "colab": {
          "base_uri": "https://localhost:8080/"
        },
        "id": "109cf327",
        "outputId": "6d5bd4c3-1d3b-4ef8-f9dc-a35db155afb4"
      },
      "outputs": [
        {
          "output_type": "execute_result",
          "data": {
            "text/plain": [
              "False"
            ]
          },
          "metadata": {},
          "execution_count": 22
        }
      ],
      "source": [
        "0 * np.nan\n",
        "np.nan == np.nan\n",
        "np.inf > np.nan\n",
        "np.nan - np.nan\n",
        "np.nan in set([np.nan])\n",
        "0.3 == 3 * 0.1"
      ]
    },
    {
      "cell_type": "markdown",
      "id": "6a235316",
      "metadata": {
        "id": "6a235316"
      },
      "source": [
        "#### 18. Create a 5x5 matrix with values 1,2,3,4 just below the diagonal (★☆☆)"
      ]
    },
    {
      "cell_type": "code",
      "execution_count": null,
      "id": "f2e6cfa6",
      "metadata": {
        "colab": {
          "base_uri": "https://localhost:8080/"
        },
        "id": "f2e6cfa6",
        "outputId": "5c81675b-cb5e-4c3d-de9e-65c370b4616d"
      },
      "outputs": [
        {
          "output_type": "execute_result",
          "data": {
            "text/plain": [
              "array([[0, 0, 0, 0, 0],\n",
              "       [1, 0, 0, 0, 0],\n",
              "       [0, 2, 0, 0, 0],\n",
              "       [0, 0, 3, 0, 0],\n",
              "       [0, 0, 0, 4, 0]])"
            ]
          },
          "metadata": {},
          "execution_count": 23
        }
      ],
      "source": [
        "matrix = np.arange(1, 5)\n",
        "np.diag(matrix, k=-1)"
      ]
    },
    {
      "cell_type": "markdown",
      "id": "25362e98",
      "metadata": {
        "id": "25362e98"
      },
      "source": [
        "#### 19. Create a 8x8 matrix and fill it with a checkerboard pattern (★☆☆)"
      ]
    },
    {
      "cell_type": "code",
      "execution_count": null,
      "id": "cabdf298",
      "metadata": {
        "colab": {
          "base_uri": "https://localhost:8080/"
        },
        "id": "cabdf298",
        "outputId": "0cc5da82-d097-468b-a739-371d09d89c27"
      },
      "outputs": [
        {
          "output_type": "execute_result",
          "data": {
            "text/plain": [
              "array([[1., 0., 1., 0., 1., 0., 1., 0.],\n",
              "       [0., 1., 0., 1., 0., 1., 0., 1.],\n",
              "       [1., 0., 1., 0., 1., 0., 1., 0.],\n",
              "       [0., 1., 0., 1., 0., 1., 0., 1.],\n",
              "       [1., 0., 1., 0., 1., 0., 1., 0.],\n",
              "       [0., 1., 0., 1., 0., 1., 0., 1.],\n",
              "       [1., 0., 1., 0., 1., 0., 1., 0.],\n",
              "       [0., 1., 0., 1., 0., 1., 0., 1.]])"
            ]
          },
          "metadata": {},
          "execution_count": 24
        }
      ],
      "source": [
        "np.tile(np.identity(2), (4, 4))"
      ]
    },
    {
      "cell_type": "markdown",
      "id": "6431e977",
      "metadata": {
        "id": "6431e977"
      },
      "source": [
        "#### 20. Consider a (6,7,8) shape array, what is the index (x,y,z) of the 100th element? (★☆☆)"
      ]
    },
    {
      "cell_type": "code",
      "execution_count": null,
      "id": "de8b0245",
      "metadata": {
        "colab": {
          "base_uri": "https://localhost:8080/"
        },
        "id": "de8b0245",
        "outputId": "532d38fe-6149-4c89-d5dc-6a52b6f2d81f"
      },
      "outputs": [
        {
          "output_type": "execute_result",
          "data": {
            "text/plain": [
              "(1, 5, 3)"
            ]
          },
          "metadata": {},
          "execution_count": 25
        }
      ],
      "source": [
        "np.unravel_index(99, (6, 7, 8))"
      ]
    },
    {
      "cell_type": "markdown",
      "id": "31abe6fe",
      "metadata": {
        "id": "31abe6fe"
      },
      "source": [
        "#### 21. Create a checkerboard 8x8 matrix using the tile function (★☆☆)"
      ]
    },
    {
      "cell_type": "code",
      "execution_count": null,
      "id": "6da26fd3",
      "metadata": {
        "colab": {
          "base_uri": "https://localhost:8080/"
        },
        "id": "6da26fd3",
        "outputId": "d6d39ff8-6037-46d2-f49a-5c49f8118185"
      },
      "outputs": [
        {
          "output_type": "execute_result",
          "data": {
            "text/plain": [
              "array([[1., 0., 1., 0., 1., 0., 1., 0.],\n",
              "       [0., 1., 0., 1., 0., 1., 0., 1.],\n",
              "       [1., 0., 1., 0., 1., 0., 1., 0.],\n",
              "       [0., 1., 0., 1., 0., 1., 0., 1.],\n",
              "       [1., 0., 1., 0., 1., 0., 1., 0.],\n",
              "       [0., 1., 0., 1., 0., 1., 0., 1.],\n",
              "       [1., 0., 1., 0., 1., 0., 1., 0.],\n",
              "       [0., 1., 0., 1., 0., 1., 0., 1.]])"
            ]
          },
          "metadata": {},
          "execution_count": 26
        }
      ],
      "source": [
        "np.tile(np.identity(2), (4, 4))"
      ]
    },
    {
      "cell_type": "markdown",
      "id": "fd88b3f4",
      "metadata": {
        "id": "fd88b3f4"
      },
      "source": [
        "#### 22. Normalize a 5x5 random matrix (★☆☆)\n",
        "\n",
        "### **Question: What is matrix normalization?**\n",
        "\n",
        "**Answer**: To normalize a matrix means to scale the values such that that the range of the row or column values is between 0 and 1. \n",
        "\n",
        "### First approach\n",
        "\n",
        "We'll modify the elements of the matrix by making mathematical operations.\n",
        "1. Subtract every element from the mean of the matrix\n",
        "2. Divide every element by the standart deviation\n",
        "\n",
        "### Second approach\n",
        "\n",
        "To help us to normalize matrixes, we'll use the `sklearn.preprocessing.normalize()` method. This method allows us to choose if we want to normalize by columns or by rows\n",
        "\n",
        "\n",
        "**Read the docs here:**\n",
        "\n",
        "**1. [sklearn normalize](https://scikit-learn.org/stable/modules/generated/sklearn.preprocessing.normalize.html)**\n",
        "\n",
        "**2. [np.mean](https://numpy.org/doc/stable/reference/generated/numpy.mean.html)**\n",
        "\n",
        "**3. [np.std](https://numpy.org/doc/stable/reference/generated/numpy.std.html)**"
      ]
    },
    {
      "cell_type": "code",
      "execution_count": null,
      "id": "ee6ced60",
      "metadata": {
        "id": "ee6ced60"
      },
      "outputs": [],
      "source": [
        "# Importing library\n",
        "from sklearn.preprocessing import normalize"
      ]
    },
    {
      "cell_type": "code",
      "source": [
        "# Creating matrix\n",
        "matrix = np.random.random((5, 5))\n",
        "matrix"
      ],
      "metadata": {
        "colab": {
          "base_uri": "https://localhost:8080/"
        },
        "id": "7EV4gHxKHB8Y",
        "outputId": "85e028ef-854f-470f-d492-65b7f6812d43"
      },
      "id": "7EV4gHxKHB8Y",
      "execution_count": null,
      "outputs": [
        {
          "output_type": "execute_result",
          "data": {
            "text/plain": [
              "array([[0.9018336 , 0.00821326, 0.18574818, 0.66034303, 0.67426467],\n",
              "       [0.80364969, 0.23753629, 0.26202607, 0.23526838, 0.1092502 ],\n",
              "       [0.59930368, 0.81784393, 0.39508837, 0.54084342, 0.61582788],\n",
              "       [0.98841322, 0.60661474, 0.8376233 , 0.57380267, 0.88577023],\n",
              "       [0.13206471, 0.09205351, 0.41770218, 0.25236169, 0.26422222]])"
            ]
          },
          "metadata": {},
          "execution_count": 28
        }
      ]
    },
    {
      "cell_type": "code",
      "source": [
        "# Normalizing matrix\n",
        "matrix = (matrix - np.mean(matrix)) / (np.std(matrix))"
      ],
      "metadata": {
        "id": "q7kXiwuBIA9n"
      },
      "id": "q7kXiwuBIA9n",
      "execution_count": null,
      "outputs": []
    },
    {
      "cell_type": "code",
      "source": [
        "matrix"
      ],
      "metadata": {
        "colab": {
          "base_uri": "https://localhost:8080/"
        },
        "id": "T-Iao0uRIqR_",
        "outputId": "ae7f2073-b892-4f13-d3c2-3d487484382a"
      },
      "id": "T-Iao0uRIqR_",
      "execution_count": null,
      "outputs": [
        {
          "output_type": "execute_result",
          "data": {
            "text/plain": [
              "array([[ 1.45141363, -1.65203087, -1.03547175,  0.61274361,  0.66109193],\n",
              "       [ 1.11043179, -0.85561739, -0.7705671 , -0.86349358, -1.30114075],\n",
              "       [ 0.40076069,  1.15972681, -0.30845646,  0.19773471,  0.45814744],\n",
              "       [ 1.75209504,  0.4261512 ,  1.22841837,  0.31219854,  1.39562733],\n",
              "       [-1.2219085 , -1.36086297, -0.22992119, -0.80413042, -0.7629401 ]])"
            ]
          },
          "metadata": {},
          "execution_count": 30
        }
      ]
    },
    {
      "cell_type": "code",
      "source": [
        "# Using `normalize` method\n",
        "matrix = np.random.rand(25).reshape(5, 5)\n",
        "matrix"
      ],
      "metadata": {
        "colab": {
          "base_uri": "https://localhost:8080/"
        },
        "id": "KtzQXSeoJhCV",
        "outputId": "4cdb28cd-ecc8-4808-89a2-bcf7599ce57b"
      },
      "id": "KtzQXSeoJhCV",
      "execution_count": null,
      "outputs": [
        {
          "output_type": "execute_result",
          "data": {
            "text/plain": [
              "array([[0.32925989, 0.20399743, 0.49053821, 0.01391696, 0.74424818],\n",
              "       [0.05448694, 0.82400552, 0.83253738, 0.77315544, 0.90867856],\n",
              "       [0.73066438, 0.32259027, 0.18845461, 0.77391893, 0.50339294],\n",
              "       [0.64134607, 0.95529083, 0.24345446, 0.66559637, 0.08948587],\n",
              "       [0.86300945, 0.95522333, 0.6860554 , 0.62177583, 0.54525797]])"
            ]
          },
          "metadata": {},
          "execution_count": 31
        }
      ]
    },
    {
      "cell_type": "code",
      "source": [
        "x_normed = normalize(matrix, axis=1, norm='l2')\n",
        "x_normed"
      ],
      "metadata": {
        "colab": {
          "base_uri": "https://localhost:8080/"
        },
        "id": "Lzl4gGgRJuzf",
        "outputId": "11fd9bd9-ec2b-4471-cb43-cd7c65dcba3b"
      },
      "id": "Lzl4gGgRJuzf",
      "execution_count": null,
      "outputs": [
        {
          "output_type": "execute_result",
          "data": {
            "text/plain": [
              "array([[0.33875016, 0.20987726, 0.50467701, 0.01431808, 0.76569967],\n",
              "       [0.03257068, 0.49256606, 0.49766615, 0.46216939, 0.54318109],\n",
              "       [0.59151862, 0.26115705, 0.15256582, 0.62653588, 0.40752814],\n",
              "       [0.47355333, 0.70536201, 0.17976047, 0.49145913, 0.06607405],\n",
              "       [0.5146616 , 0.56965398, 0.40913384, 0.37080028, 0.32516833]])"
            ]
          },
          "metadata": {},
          "execution_count": 32
        }
      ]
    },
    {
      "cell_type": "code",
      "source": [
        "x_normed = normalize(matrix, axis=0, norm='l2')\n",
        "x_normed"
      ],
      "metadata": {
        "colab": {
          "base_uri": "https://localhost:8080/"
        },
        "id": "Ss8LzFScKPrF",
        "outputId": "f632717d-d412-4b6a-c6a5-b6ea363177f3"
      },
      "id": "Ss8LzFScKPrF",
      "execution_count": null,
      "outputs": [
        {
          "output_type": "execute_result",
          "data": {
            "text/plain": [
              "array([[0.24532307, 0.1253218 , 0.40062916, 0.00977613, 0.5345705 ],\n",
              "       [0.04059682, 0.50621154, 0.67994448, 0.54311215, 0.65267577],\n",
              "       [0.54439924, 0.19817697, 0.15391342, 0.54364847, 0.36157161],\n",
              "       [0.47785046, 0.58686408, 0.19883253, 0.46755602, 0.06427494],\n",
              "       [0.64300614, 0.58682261, 0.56031068, 0.43677376, 0.39164197]])"
            ]
          },
          "metadata": {},
          "execution_count": 33
        }
      ]
    },
    {
      "cell_type": "markdown",
      "id": "464d8590",
      "metadata": {
        "id": "464d8590"
      },
      "source": [
        "#### 23. Create a custom dtype that describes a color as four unsigned bytes (RGBA) (★☆☆)\n",
        "\n",
        "**Hint: Use search about [dtype objects](https://numpy.org/doc/stable/reference/arrays.dtypes.html) and [bytes](https://numpy.org/devdocs/user/basics.types.html)**"
      ]
    },
    {
      "cell_type": "code",
      "execution_count": null,
      "id": "e2f9cfc6",
      "metadata": {
        "id": "e2f9cfc6",
        "colab": {
          "base_uri": "https://localhost:8080/"
        },
        "outputId": "60e4b33f-b310-4ea8-e8b3-4405fe39b1ec"
      },
      "outputs": [
        {
          "output_type": "execute_result",
          "data": {
            "text/plain": [
              "dtype([('r', 'u1'), ('g', 'u1'), ('b', 'u1'), ('a', 'u1')])"
            ]
          },
          "metadata": {},
          "execution_count": 34
        }
      ],
      "source": [
        "colors = np.dtype([\n",
        "    ('r', np.ubyte),\n",
        "    ('g', np.ubyte),\n",
        "    ('b', np.ubyte),\n",
        "    ('a', np.ubyte)\n",
        "])\n",
        "colors"
      ]
    },
    {
      "cell_type": "markdown",
      "id": "06c63bb3",
      "metadata": {
        "id": "06c63bb3"
      },
      "source": [
        "\n",
        "#### 24. Multiply a 5x3 matrix by a 3x2 matrix (real matrix product) (★☆☆)"
      ]
    },
    {
      "cell_type": "code",
      "execution_count": null,
      "id": "9fc0d553",
      "metadata": {
        "id": "9fc0d553",
        "colab": {
          "base_uri": "https://localhost:8080/"
        },
        "outputId": "733cdfc7-8079-42a4-bf73-736326c2bb5b"
      },
      "outputs": [
        {
          "output_type": "stream",
          "name": "stdout",
          "text": [
            "Matrix 1:\n",
            "[[82 15  8]\n",
            " [14 77 74]\n",
            " [ 6 72 57]\n",
            " [20 37 96]\n",
            " [14 70 36]]\n",
            "\n",
            "Matrix 2:\n",
            "[[38 96]\n",
            " [53 11]\n",
            " [53 60]]\n"
          ]
        }
      ],
      "source": [
        "matrix1 = np.random.randint(99, size=(5, 3))\n",
        "matrix2 = np.random.randint(99, size=(3, 2))\n",
        "print(f'Matrix 1:\\n{matrix1}')\n",
        "print()\n",
        "print(f'Matrix 2:\\n{matrix2}')"
      ]
    },
    {
      "cell_type": "code",
      "source": [
        "np.dot(matrix1, matrix2)"
      ],
      "metadata": {
        "colab": {
          "base_uri": "https://localhost:8080/"
        },
        "id": "bi4AsFjiQELQ",
        "outputId": "ed6d9f1b-27b3-4a57-f254-376b104e90e4"
      },
      "id": "bi4AsFjiQELQ",
      "execution_count": null,
      "outputs": [
        {
          "output_type": "execute_result",
          "data": {
            "text/plain": [
              "array([[4335, 8517],\n",
              "       [8535, 6631],\n",
              "       [7065, 4788],\n",
              "       [7809, 8087],\n",
              "       [6150, 4274]])"
            ]
          },
          "metadata": {},
          "execution_count": 36
        }
      ]
    },
    {
      "cell_type": "markdown",
      "id": "76fa6285",
      "metadata": {
        "id": "76fa6285"
      },
      "source": [
        "#### 25. Given a 1D array, negate all elements which are between 3 and 8, in place. (★☆☆)"
      ]
    },
    {
      "cell_type": "code",
      "execution_count": null,
      "id": "0e25eca7",
      "metadata": {
        "id": "0e25eca7",
        "colab": {
          "base_uri": "https://localhost:8080/"
        },
        "outputId": "25491251-f353-421a-f714-3093aa1f5d0e"
      },
      "outputs": [
        {
          "output_type": "execute_result",
          "data": {
            "text/plain": [
              "array([0, 2, 3, 9, 2, 7, 4, 5, 5, 7])"
            ]
          },
          "metadata": {},
          "execution_count": 37
        }
      ],
      "source": [
        "rand_array = np.random.randint(10, size=(10))\n",
        "rand_array"
      ]
    },
    {
      "cell_type": "code",
      "source": [
        "mask = (rand_array <= 3) | (rand_array >= 8)\n",
        "result = rand_array[mask]\n",
        "result"
      ],
      "metadata": {
        "colab": {
          "base_uri": "https://localhost:8080/"
        },
        "id": "dgv7EFdeQp-n",
        "outputId": "855ac048-8825-448f-edc1-bceaeb541cd6"
      },
      "id": "dgv7EFdeQp-n",
      "execution_count": null,
      "outputs": [
        {
          "output_type": "execute_result",
          "data": {
            "text/plain": [
              "array([0, 2, 3, 9, 2])"
            ]
          },
          "metadata": {},
          "execution_count": 38
        }
      ]
    },
    {
      "cell_type": "markdown",
      "id": "930ed8bb",
      "metadata": {
        "id": "930ed8bb"
      },
      "source": [
        "#### 26. What is the output of the following script? (★☆☆)\n",
        "```python\n",
        "# Author: Jake VanderPlas\n",
        "\n",
        "print(sum(range(5),-1))\n",
        "from numpy import *\n",
        "print(sum(range(5),-1))\n",
        "```\n",
        "\n",
        "**Answer:** It happens because the built-in `sum` and `np.sum` have different behaviors. The second sum, will consider the edges"
      ]
    },
    {
      "cell_type": "code",
      "execution_count": null,
      "id": "f02eedba",
      "metadata": {
        "id": "f02eedba",
        "colab": {
          "base_uri": "https://localhost:8080/"
        },
        "outputId": "5e465b66-e0c7-4d62-8a2f-5675bcfd65de"
      },
      "outputs": [
        {
          "output_type": "stream",
          "name": "stdout",
          "text": [
            "9\n",
            "10\n"
          ]
        }
      ],
      "source": [
        "print(sum(range(5),-1))\n",
        "from numpy import *\n",
        "print(sum(range(5),-1))"
      ]
    },
    {
      "cell_type": "code",
      "source": [
        "import numpy as np"
      ],
      "metadata": {
        "id": "kYO4alw-Srmn"
      },
      "id": "kYO4alw-Srmn",
      "execution_count": null,
      "outputs": []
    },
    {
      "cell_type": "markdown",
      "id": "177120e7",
      "metadata": {
        "id": "177120e7"
      },
      "source": [
        "#### 27. Consider an integer vector Z, which of these expressions are legal? (★☆☆)\n",
        "```python\n",
        "Z**Z\n",
        "2 << Z >> 2\n",
        "Z <- Z\n",
        "1j*Z\n",
        "Z/1/1\n",
        "Z<Z>Z\n",
        "```\n",
        "\n",
        "Just the last operation is not legal\n",
        "\n",
        "**Some material**:\n",
        "1. [Bit shift operators](https://stackoverflow.com/questions/38491204/numpy-and-operators)"
      ]
    },
    {
      "cell_type": "code",
      "execution_count": null,
      "id": "86d6cbef",
      "metadata": {
        "id": "86d6cbef",
        "colab": {
          "base_uri": "https://localhost:8080/"
        },
        "outputId": "58e1fcda-cad4-42d2-e46d-4cb941ef67b7"
      },
      "outputs": [
        {
          "output_type": "execute_result",
          "data": {
            "text/plain": [
              "array([0, 1, 2, 3, 4, 5, 6, 7, 8, 9])"
            ]
          },
          "metadata": {},
          "execution_count": 41
        }
      ],
      "source": [
        "Z = np.arange(10)\n",
        "Z"
      ]
    },
    {
      "cell_type": "code",
      "source": [
        "Z**Z"
      ],
      "metadata": {
        "colab": {
          "base_uri": "https://localhost:8080/"
        },
        "id": "QekIg6bXTG-u",
        "outputId": "f468d096-6c2f-4230-e229-164b1b643692"
      },
      "id": "QekIg6bXTG-u",
      "execution_count": null,
      "outputs": [
        {
          "output_type": "execute_result",
          "data": {
            "text/plain": [
              "array([        1,         1,         4,        27,       256,      3125,\n",
              "           46656,    823543,  16777216, 387420489])"
            ]
          },
          "metadata": {},
          "execution_count": 42
        }
      ]
    },
    {
      "cell_type": "code",
      "source": [
        "print(2 << Z)\n",
        "print(Z >> 2)\n",
        "print(2 << Z >> 2)"
      ],
      "metadata": {
        "colab": {
          "base_uri": "https://localhost:8080/"
        },
        "id": "5uY4gzffTdH1",
        "outputId": "8a480960-d73f-412a-e156-cb900867878a"
      },
      "id": "5uY4gzffTdH1",
      "execution_count": null,
      "outputs": [
        {
          "output_type": "stream",
          "name": "stdout",
          "text": [
            "[   2    4    8   16   32   64  128  256  512 1024]\n",
            "[0 0 0 0 1 1 1 1 2 2]\n",
            "[  0   1   2   4   8  16  32  64 128 256]\n"
          ]
        }
      ]
    },
    {
      "cell_type": "code",
      "source": [
        "Z <- Z"
      ],
      "metadata": {
        "colab": {
          "base_uri": "https://localhost:8080/"
        },
        "id": "kF5VupUiTf5e",
        "outputId": "12c1ee3f-72be-48ae-b735-cfeb53ec1b50"
      },
      "id": "kF5VupUiTf5e",
      "execution_count": null,
      "outputs": [
        {
          "output_type": "execute_result",
          "data": {
            "text/plain": [
              "array([False, False, False, False, False, False, False, False, False,\n",
              "       False])"
            ]
          },
          "metadata": {},
          "execution_count": 44
        }
      ]
    },
    {
      "cell_type": "code",
      "source": [
        "Z >- Z"
      ],
      "metadata": {
        "colab": {
          "base_uri": "https://localhost:8080/"
        },
        "id": "JXev1Y7sUkgR",
        "outputId": "126a339e-4220-4e3b-c661-4331febebbcb"
      },
      "id": "JXev1Y7sUkgR",
      "execution_count": null,
      "outputs": [
        {
          "output_type": "execute_result",
          "data": {
            "text/plain": [
              "array([False,  True,  True,  True,  True,  True,  True,  True,  True,\n",
              "        True])"
            ]
          },
          "metadata": {},
          "execution_count": 45
        }
      ]
    },
    {
      "cell_type": "code",
      "source": [
        "1j * Z"
      ],
      "metadata": {
        "colab": {
          "base_uri": "https://localhost:8080/"
        },
        "id": "Ma_yIRgLTjgC",
        "outputId": "63cf5ffc-694c-4f15-b2e8-442ee23ee0bf"
      },
      "id": "Ma_yIRgLTjgC",
      "execution_count": null,
      "outputs": [
        {
          "output_type": "execute_result",
          "data": {
            "text/plain": [
              "array([0.+0.j, 0.+1.j, 0.+2.j, 0.+3.j, 0.+4.j, 0.+5.j, 0.+6.j, 0.+7.j,\n",
              "       0.+8.j, 0.+9.j])"
            ]
          },
          "metadata": {},
          "execution_count": 46
        }
      ]
    },
    {
      "cell_type": "code",
      "source": [
        "Z / 1 / 1"
      ],
      "metadata": {
        "colab": {
          "base_uri": "https://localhost:8080/"
        },
        "id": "prCmaJc1Tmny",
        "outputId": "e6265056-08ac-4b84-a6bb-61cb219d8e50"
      },
      "id": "prCmaJc1Tmny",
      "execution_count": null,
      "outputs": [
        {
          "output_type": "execute_result",
          "data": {
            "text/plain": [
              "array([0., 1., 2., 3., 4., 5., 6., 7., 8., 9.])"
            ]
          },
          "metadata": {},
          "execution_count": 47
        }
      ]
    },
    {
      "cell_type": "code",
      "source": [
        "try:\n",
        "  Z < Z > Z\n",
        "except ValueError:\n",
        "  print(\"ValueError: The truth value of an array with more than one element is ambiguous. Use a.any() or a.all()\")"
      ],
      "metadata": {
        "colab": {
          "base_uri": "https://localhost:8080/"
        },
        "id": "z3RkACkfTp3-",
        "outputId": "066fe43e-b4de-4295-cf1f-2d3128124979"
      },
      "id": "z3RkACkfTp3-",
      "execution_count": null,
      "outputs": [
        {
          "output_type": "stream",
          "name": "stdout",
          "text": [
            "ValueError: The truth value of an array with more than one element is ambiguous. Use a.any() or a.all()\n"
          ]
        }
      ]
    },
    {
      "cell_type": "markdown",
      "id": "a6eaf0e8",
      "metadata": {
        "id": "a6eaf0e8"
      },
      "source": [
        "#### 28. What are the result of the following expressions? (★☆☆)\n",
        "```python\n",
        "np.array(0) / np.array(0)\n",
        "np.array(0) // np.array(0)\n",
        "np.array([np.nan]).astype(int).astype(float)\n",
        "```"
      ]
    },
    {
      "cell_type": "code",
      "execution_count": null,
      "id": "93684068",
      "metadata": {
        "id": "93684068",
        "colab": {
          "base_uri": "https://localhost:8080/"
        },
        "outputId": "6048b58b-e9da-474f-d4f2-45a2fbbcdb08"
      },
      "outputs": [
        {
          "output_type": "stream",
          "name": "stdout",
          "text": [
            "np.array(0) / np.array(0) = nan\n",
            "np.array(0) // np.array(0) = 0\n",
            "np.array([np.nan]).astype(int).astype(float) = [-9.22337204e+18]\n"
          ]
        },
        {
          "output_type": "stream",
          "name": "stderr",
          "text": [
            "/usr/local/lib/python3.7/dist-packages/ipykernel_launcher.py:1: RuntimeWarning: invalid value encountered in true_divide\n",
            "  \"\"\"Entry point for launching an IPython kernel.\n",
            "/usr/local/lib/python3.7/dist-packages/ipykernel_launcher.py:2: RuntimeWarning: divide by zero encountered in floor_divide\n",
            "  \n"
          ]
        }
      ],
      "source": [
        "print(f'np.array(0) / np.array(0) = {np.array(0) / np.array(0)}')\n",
        "print(f'np.array(0) // np.array(0) = {np.array(0) // np.array(0)}')\n",
        "print(f'np.array([np.nan]).astype(int).astype(float) = {np.array([np.nan]).astype(int).astype(float)}')"
      ]
    },
    {
      "cell_type": "markdown",
      "id": "524b65f8",
      "metadata": {
        "id": "524b65f8"
      },
      "source": [
        "#### 29. How to round away from zero a float array ? (★☆☆)\n",
        "\n",
        "**Useful links:**\n",
        "1. [np.copysign](https://numpy.org/doc/stable/reference/generated/numpy.copysign.html)\n",
        "2. [np.uniform](https://numpy.org/doc/stable/reference/random/generated/numpy.random.uniform.html)\n",
        "3. [np.round](https://numpy.org/doc/stable/reference/generated/numpy.around.html)\n",
        "4. [np.ceil](https://numpy.org/doc/stable/reference/generated/numpy.ceil.html)\n",
        "5. [np.floor](https://numpy.org/doc/stable/reference/generated/numpy.floor.html)\n",
        "6. [np.abs](https://numpy.org/doc/stable/reference/generated/numpy.floor.html)"
      ]
    },
    {
      "cell_type": "code",
      "execution_count": null,
      "id": "61fbb78e",
      "metadata": {
        "id": "61fbb78e",
        "colab": {
          "base_uri": "https://localhost:8080/"
        },
        "outputId": "ab182311-6418-44ec-fbd8-cace87cb7367"
      },
      "outputs": [
        {
          "output_type": "execute_result",
          "data": {
            "text/plain": [
              "array([-3.83311305, -3.66031086,  5.28476769, -9.63848639,  2.98819598,\n",
              "        7.34578894, -6.62816015, -8.59893253,  6.42229369,  5.86490499])"
            ]
          },
          "metadata": {},
          "execution_count": 50
        }
      ],
      "source": [
        "float_arr = np.random.uniform(-10,+10,10)\n",
        "float_arr"
      ]
    },
    {
      "cell_type": "code",
      "source": [
        "round_arr = np.round(float_arr)\n",
        "round_arr"
      ],
      "metadata": {
        "colab": {
          "base_uri": "https://localhost:8080/"
        },
        "id": "0dHgWq-iVdGN",
        "outputId": "c1bd0564-b379-485f-b0ea-259a27fc79b2"
      },
      "id": "0dHgWq-iVdGN",
      "execution_count": null,
      "outputs": [
        {
          "output_type": "execute_result",
          "data": {
            "text/plain": [
              "array([ -4.,  -4.,   5., -10.,   3.,   7.,  -7.,  -9.,   6.,   6.])"
            ]
          },
          "metadata": {},
          "execution_count": 51
        }
      ]
    },
    {
      "cell_type": "code",
      "source": [
        "print(np.copysign(np.ceil(np.abs(float_arr)), float_arr))"
      ],
      "metadata": {
        "colab": {
          "base_uri": "https://localhost:8080/"
        },
        "id": "xZQIQnvNV6zt",
        "outputId": "b0987df0-33f4-4c55-96dc-67b428bdf5ab"
      },
      "id": "xZQIQnvNV6zt",
      "execution_count": null,
      "outputs": [
        {
          "output_type": "stream",
          "name": "stdout",
          "text": [
            "[ -4.  -4.   6. -10.   3.   8.  -7.  -9.   7.   6.]\n"
          ]
        }
      ]
    },
    {
      "cell_type": "markdown",
      "id": "8dc40752",
      "metadata": {
        "id": "8dc40752"
      },
      "source": [
        "#### 30. How to find common values between two arrays? (★☆☆)\n",
        "\n",
        "* Find the intersection values: [np.intersect1d](https://numpy.org/doc/stable/reference/generated/numpy.intersect1d.html)"
      ]
    },
    {
      "cell_type": "code",
      "execution_count": null,
      "id": "54399cbe",
      "metadata": {
        "id": "54399cbe",
        "colab": {
          "base_uri": "https://localhost:8080/"
        },
        "outputId": "c2df6c61-299f-4502-ac44-c9820fb8b432"
      },
      "outputs": [
        {
          "output_type": "execute_result",
          "data": {
            "text/plain": [
              "array([0, 7, 9, 3, 4, 4, 0, 6, 0, 7])"
            ]
          },
          "metadata": {},
          "execution_count": 53
        }
      ],
      "source": [
        "arr1 = np.random.randint(0, 10, 10)\n",
        "arr1"
      ]
    },
    {
      "cell_type": "code",
      "source": [
        "arr2 = np.random.randint(0, 10, 10)\n",
        "arr2"
      ],
      "metadata": {
        "colab": {
          "base_uri": "https://localhost:8080/"
        },
        "id": "1Ltp5NDEXjra",
        "outputId": "101e71c9-b270-4948-bf0d-5729b7200bc1"
      },
      "id": "1Ltp5NDEXjra",
      "execution_count": null,
      "outputs": [
        {
          "output_type": "execute_result",
          "data": {
            "text/plain": [
              "array([5, 3, 9, 4, 2, 2, 8, 5, 1, 1])"
            ]
          },
          "metadata": {},
          "execution_count": 54
        }
      ]
    },
    {
      "cell_type": "code",
      "source": [
        "intersection = np.intersect1d(arr1, arr2)\n",
        "intersection"
      ],
      "metadata": {
        "colab": {
          "base_uri": "https://localhost:8080/"
        },
        "id": "HcqZBWf_XgaM",
        "outputId": "c0de7930-ddf8-4a68-bb84-3858d9660f9f"
      },
      "id": "HcqZBWf_XgaM",
      "execution_count": null,
      "outputs": [
        {
          "output_type": "execute_result",
          "data": {
            "text/plain": [
              "array([3, 4, 9])"
            ]
          },
          "metadata": {},
          "execution_count": 55
        }
      ]
    },
    {
      "cell_type": "markdown",
      "id": "b7f38e21",
      "metadata": {
        "id": "b7f38e21"
      },
      "source": [
        "#### 31. How to ignore all numpy warnings (not recommended)? (★☆☆)\n",
        "\n",
        "\n",
        "### Warning!!!!!\n",
        "Don't execute these lines, plsss"
      ]
    },
    {
      "cell_type": "code",
      "execution_count": null,
      "id": "2ca3289c",
      "metadata": {
        "id": "2ca3289c"
      },
      "outputs": [],
      "source": [
        "# defaults = np.seterr(all=\"ignore\")\n",
        "# Z = np.ones(1) / 0\n",
        "\n",
        "# Back to sanity\n",
        "# _ = np.seterr(**defaults)\n",
        "\n",
        "# Equivalently with a context manager\n",
        "# with np.errstate(all=\"ignore\"):\n",
        "#     np.arange(3) / 0"
      ]
    },
    {
      "cell_type": "markdown",
      "id": "2d850aab",
      "metadata": {
        "id": "2d850aab"
      },
      "source": [
        "#### 32. Is the following expressions true? (★☆☆)\n",
        "```python\n",
        "np.sqrt(-1) == np.emath.sqrt(-1)\n",
        "```\n",
        "\n",
        "### Remember\n",
        "* The square root of a negative number will be an imaginary number\n",
        "* The numpy square root method can't calculate this, because it doesn't support imaginary numbers\n",
        "* The `emath.sqrt(x)` can do this!\n",
        "\n",
        "### Numpy Mathematical Functions\n",
        "[check this link!](https://numpy.org/doc/stable/reference/routines.emath.html)"
      ]
    },
    {
      "cell_type": "code",
      "source": [
        "np.sqrt(-1)"
      ],
      "metadata": {
        "colab": {
          "base_uri": "https://localhost:8080/"
        },
        "id": "qYofTuHYYYGc",
        "outputId": "28a65af5-e107-4d29-d068-ee5af5fe6ab7"
      },
      "id": "qYofTuHYYYGc",
      "execution_count": null,
      "outputs": [
        {
          "output_type": "stream",
          "name": "stderr",
          "text": [
            "/usr/local/lib/python3.7/dist-packages/ipykernel_launcher.py:1: RuntimeWarning: invalid value encountered in sqrt\n",
            "  \"\"\"Entry point for launching an IPython kernel.\n"
          ]
        },
        {
          "output_type": "execute_result",
          "data": {
            "text/plain": [
              "nan"
            ]
          },
          "metadata": {},
          "execution_count": 57
        }
      ]
    },
    {
      "cell_type": "code",
      "source": [
        "np.emath.sqrt(-1)"
      ],
      "metadata": {
        "colab": {
          "base_uri": "https://localhost:8080/"
        },
        "id": "JDe4X_HcYap0",
        "outputId": "fa054b6f-92de-4bd9-8f3a-d7ff8a7ca675"
      },
      "id": "JDe4X_HcYap0",
      "execution_count": null,
      "outputs": [
        {
          "output_type": "execute_result",
          "data": {
            "text/plain": [
              "1j"
            ]
          },
          "metadata": {},
          "execution_count": 58
        }
      ]
    },
    {
      "cell_type": "code",
      "execution_count": null,
      "id": "5c83ffce",
      "metadata": {
        "id": "5c83ffce",
        "colab": {
          "base_uri": "https://localhost:8080/"
        },
        "outputId": "88db2024-b4be-42d6-bbb6-fb84274b04c3"
      },
      "outputs": [
        {
          "output_type": "stream",
          "name": "stderr",
          "text": [
            "/usr/local/lib/python3.7/dist-packages/ipykernel_launcher.py:1: RuntimeWarning: invalid value encountered in sqrt\n",
            "  \"\"\"Entry point for launching an IPython kernel.\n"
          ]
        },
        {
          "output_type": "execute_result",
          "data": {
            "text/plain": [
              "False"
            ]
          },
          "metadata": {},
          "execution_count": 59
        }
      ],
      "source": [
        "np.sqrt(-1) == np.emath.sqrt(-1)"
      ]
    },
    {
      "cell_type": "markdown",
      "id": "5c4a556f",
      "metadata": {
        "id": "5c4a556f"
      },
      "source": [
        "#### 33. How to get the dates of yesterday, today and tomorrow? (★☆☆)"
      ]
    },
    {
      "cell_type": "code",
      "execution_count": null,
      "id": "c3b683a0",
      "metadata": {
        "id": "c3b683a0"
      },
      "outputs": [],
      "source": [
        "today = np.datetime64('today', 'D')\n",
        "yesterday = np.datetime64('today', 'D') - np.timedelta64(1, 'D')\n",
        "tomorrow = np.datetime64('today', 'D') + np.timedelta64(1, 'D')"
      ]
    },
    {
      "cell_type": "code",
      "source": [
        "print(f'''today: {today}\n",
        "yesterday: {yesterday}\n",
        "tomorrow: {tomorrow}''')"
      ],
      "metadata": {
        "colab": {
          "base_uri": "https://localhost:8080/"
        },
        "id": "K1mU6-5SZO9g",
        "outputId": "4b17cc0a-7550-42d4-9261-993b45fa52aa"
      },
      "id": "K1mU6-5SZO9g",
      "execution_count": null,
      "outputs": [
        {
          "output_type": "stream",
          "name": "stdout",
          "text": [
            "today: 2022-09-27\n",
            "yesterday: 2022-09-26\n",
            "tomorrow: 2022-09-28\n"
          ]
        }
      ]
    },
    {
      "cell_type": "markdown",
      "id": "453cdd64",
      "metadata": {
        "id": "453cdd64"
      },
      "source": [
        "#### 34. How to get all the dates corresponding to the month of July 2016? (★★☆)\n",
        "\n",
        "**Useful links:**\n",
        "1. [How to apply functions to every element in a numpy array](https://thispointer.com/apply-a-function-to-every-element-in-numpy-array/)"
      ]
    },
    {
      "cell_type": "code",
      "execution_count": null,
      "id": "4ba4d37c",
      "metadata": {
        "id": "4ba4d37c",
        "colab": {
          "base_uri": "https://localhost:8080/"
        },
        "outputId": "f4b8b3af-39a9-4d3d-cd98-1763cb6e3317"
      },
      "outputs": [
        {
          "output_type": "execute_result",
          "data": {
            "text/plain": [
              "array(['Fri - (2016-07-01)', 'Sat - (2016-07-02)', 'Sun - (2016-07-03)',\n",
              "       'Mon - (2016-07-04)', 'Tue - (2016-07-05)', 'Wed - (2016-07-06)',\n",
              "       'Thu - (2016-07-07)', 'Fri - (2016-07-08)', 'Sat - (2016-07-09)',\n",
              "       'Sun - (2016-07-10)', 'Mon - (2016-07-11)', 'Tue - (2016-07-12)',\n",
              "       'Wed - (2016-07-13)', 'Thu - (2016-07-14)', 'Fri - (2016-07-15)',\n",
              "       'Sat - (2016-07-16)', 'Sun - (2016-07-17)', 'Mon - (2016-07-18)',\n",
              "       'Tue - (2016-07-19)', 'Wed - (2016-07-20)', 'Thu - (2016-07-21)',\n",
              "       'Fri - (2016-07-22)', 'Sat - (2016-07-23)', 'Sun - (2016-07-24)',\n",
              "       'Mon - (2016-07-25)', 'Tue - (2016-07-26)', 'Wed - (2016-07-27)',\n",
              "       'Thu - (2016-07-28)', 'Fri - (2016-07-29)', 'Sat - (2016-07-30)',\n",
              "       'Sun - (2016-07-31)'], dtype='<U18')"
            ]
          },
          "metadata": {},
          "execution_count": 62
        }
      ],
      "source": [
        "import calendar\n",
        "\n",
        "weekdays = np.array(['Fri', 'Sat', 'Sun', 'Mon', 'Tue', 'Wed', 'Thu'])\n",
        "k = -2\n",
        "\n",
        "def convert_date_to_weekday(date):\n",
        "  \"\"\" Convert a forma date YYYY-MM-DD to weekday\"\"\"\n",
        "  global k\n",
        "  k += 1\n",
        "  return f'{weekdays[k % 7]} - ({date})'\n",
        "\n",
        "weekday_function = np.vectorize(convert_date_to_weekday)\n",
        "july_2016 = weekday_function(np.arange('2016-07', '2016-08', dtype='datetime64[D]'))\n",
        "july_2016"
      ]
    },
    {
      "cell_type": "markdown",
      "id": "52667b6e",
      "metadata": {
        "id": "52667b6e"
      },
      "source": [
        "#### 35. How to compute ((A+B)*(-A/2)) in place (without copy)? (★★☆)\n",
        "\n",
        "**Answer:** Use the `out` argument"
      ]
    },
    {
      "cell_type": "code",
      "execution_count": null,
      "id": "e6e7c030",
      "metadata": {
        "id": "e6e7c030",
        "colab": {
          "base_uri": "https://localhost:8080/"
        },
        "outputId": "5ba5ade3-1153-4c0b-f04c-3d7d8c9de455"
      },
      "outputs": [
        {
          "output_type": "execute_result",
          "data": {
            "text/plain": [
              "array([3., 8., 7., 5., 5., 7., 4., 9., 6., 8.])"
            ]
          },
          "metadata": {},
          "execution_count": 63
        }
      ],
      "source": [
        "A = np.random.randint(0, 10, 10).astype('float64')\n",
        "A"
      ]
    },
    {
      "cell_type": "code",
      "source": [
        "B = np.random.randint(0, 10, 10).astype('float64')\n",
        "B"
      ],
      "metadata": {
        "colab": {
          "base_uri": "https://localhost:8080/"
        },
        "id": "YGE9jSVwh9QN",
        "outputId": "684c64e1-da1f-4fbf-92ef-18cf0a66b40e"
      },
      "id": "YGE9jSVwh9QN",
      "execution_count": null,
      "outputs": [
        {
          "output_type": "execute_result",
          "data": {
            "text/plain": [
              "array([7., 6., 1., 3., 2., 0., 7., 5., 7., 2.])"
            ]
          },
          "metadata": {},
          "execution_count": 64
        }
      ]
    },
    {
      "cell_type": "code",
      "source": [
        "np.add(A,B,out=B)\n",
        "np.divide(A,2,out=A)\n",
        "np.negative(A,out=A)\n",
        "np.multiply(A,B,out=A)"
      ],
      "metadata": {
        "colab": {
          "base_uri": "https://localhost:8080/"
        },
        "id": "fo3XYNfqiAFT",
        "outputId": "28b67279-c847-420c-bc35-4793b6603f30"
      },
      "id": "fo3XYNfqiAFT",
      "execution_count": null,
      "outputs": [
        {
          "output_type": "execute_result",
          "data": {
            "text/plain": [
              "array([-15. , -56. , -28. , -20. , -17.5, -24.5, -22. , -63. , -39. ,\n",
              "       -40. ])"
            ]
          },
          "metadata": {},
          "execution_count": 65
        }
      ]
    },
    {
      "cell_type": "markdown",
      "id": "9a8f3738",
      "metadata": {
        "id": "9a8f3738"
      },
      "source": [
        "#### 36. Extract the integer part of a random array of positive numbers using 4 different methods (★★☆)"
      ]
    },
    {
      "cell_type": "code",
      "execution_count": null,
      "id": "368a801a",
      "metadata": {
        "id": "368a801a",
        "colab": {
          "base_uri": "https://localhost:8080/"
        },
        "outputId": "d1193ad7-f79c-4388-8633-6b4eacf1f00a"
      },
      "outputs": [
        {
          "output_type": "execute_result",
          "data": {
            "text/plain": [
              "array([2.29748165, 2.98710463, 7.51539489, 4.94159099, 6.51937887,\n",
              "       1.82309367, 7.96260062, 3.62273363, 9.16084788, 3.3520227 ])"
            ]
          },
          "metadata": {},
          "execution_count": 66
        }
      ],
      "source": [
        "arr = np.random.uniform(0, 10, 10)\n",
        "arr"
      ]
    },
    {
      "cell_type": "code",
      "source": [
        "np.floor(arr).astype('int64')"
      ],
      "metadata": {
        "colab": {
          "base_uri": "https://localhost:8080/"
        },
        "id": "Ir6yjw5pkKXR",
        "outputId": "a77a96b5-3c35-452b-85d1-742b72aa946b"
      },
      "id": "Ir6yjw5pkKXR",
      "execution_count": null,
      "outputs": [
        {
          "output_type": "execute_result",
          "data": {
            "text/plain": [
              "array([2, 2, 7, 4, 6, 1, 7, 3, 9, 3])"
            ]
          },
          "metadata": {},
          "execution_count": 67
        }
      ]
    },
    {
      "cell_type": "code",
      "source": [
        "arr.astype('int64')"
      ],
      "metadata": {
        "colab": {
          "base_uri": "https://localhost:8080/"
        },
        "id": "n65We4zTkPXr",
        "outputId": "06e1d528-3a53-447f-b3e5-631b7ca28aff"
      },
      "id": "n65We4zTkPXr",
      "execution_count": null,
      "outputs": [
        {
          "output_type": "execute_result",
          "data": {
            "text/plain": [
              "array([2, 2, 7, 4, 6, 1, 7, 3, 9, 3])"
            ]
          },
          "metadata": {},
          "execution_count": 68
        }
      ]
    },
    {
      "cell_type": "code",
      "source": [
        "arr // 1"
      ],
      "metadata": {
        "colab": {
          "base_uri": "https://localhost:8080/"
        },
        "id": "5sZUoIItkRsP",
        "outputId": "e6c03f1b-4e11-40ca-9585-ec71950a32f6"
      },
      "id": "5sZUoIItkRsP",
      "execution_count": null,
      "outputs": [
        {
          "output_type": "execute_result",
          "data": {
            "text/plain": [
              "array([2., 2., 7., 4., 6., 1., 7., 3., 9., 3.])"
            ]
          },
          "metadata": {},
          "execution_count": 69
        }
      ]
    },
    {
      "cell_type": "code",
      "source": [
        "arr - arr % 1"
      ],
      "metadata": {
        "colab": {
          "base_uri": "https://localhost:8080/"
        },
        "id": "3EJhDl88kgQj",
        "outputId": "9dc2a3b9-5b59-4bfd-e90c-be7378e128f5"
      },
      "id": "3EJhDl88kgQj",
      "execution_count": null,
      "outputs": [
        {
          "output_type": "execute_result",
          "data": {
            "text/plain": [
              "array([2., 2., 7., 4., 6., 1., 7., 3., 9., 3.])"
            ]
          },
          "metadata": {},
          "execution_count": 70
        }
      ]
    },
    {
      "cell_type": "markdown",
      "id": "cab1eed1",
      "metadata": {
        "id": "cab1eed1"
      },
      "source": [
        "#### 37. Create a 5x5 matrix with row values ranging from 0 to 4 (★★☆)"
      ]
    },
    {
      "cell_type": "code",
      "source": [
        "matrix = np.zeros((5,5))\n",
        "matrix += np.arange(5)\n",
        "matrix"
      ],
      "metadata": {
        "colab": {
          "base_uri": "https://localhost:8080/"
        },
        "id": "7Ma7fiHIlbYw",
        "outputId": "0159f9fb-3662-492f-f779-df4ecb7d3517"
      },
      "id": "7Ma7fiHIlbYw",
      "execution_count": null,
      "outputs": [
        {
          "output_type": "execute_result",
          "data": {
            "text/plain": [
              "array([[0., 1., 2., 3., 4.],\n",
              "       [0., 1., 2., 3., 4.],\n",
              "       [0., 1., 2., 3., 4.],\n",
              "       [0., 1., 2., 3., 4.],\n",
              "       [0., 1., 2., 3., 4.]])"
            ]
          },
          "metadata": {},
          "execution_count": 71
        }
      ]
    },
    {
      "cell_type": "markdown",
      "id": "cd0ce6b1",
      "metadata": {
        "id": "cd0ce6b1"
      },
      "source": [
        "#### 38. Consider a generator function that generates 10 integers and use it to build an array (★☆☆)\n",
        "\n",
        "**Answer:** Use [fromiter](https://numpy.org/doc/stable/reference/generated/numpy.fromiter.html)"
      ]
    },
    {
      "cell_type": "code",
      "execution_count": null,
      "id": "aab193a6",
      "metadata": {
        "id": "aab193a6",
        "colab": {
          "base_uri": "https://localhost:8080/"
        },
        "outputId": "99d34935-496a-4390-caf3-171d0f55bc3c"
      },
      "outputs": [
        {
          "output_type": "execute_result",
          "data": {
            "text/plain": [
              "array([0., 1., 2., 3., 4., 5., 6., 7., 8., 9.])"
            ]
          },
          "metadata": {},
          "execution_count": 72
        }
      ],
      "source": [
        "def generator_number():\n",
        "  for i in range(10):\n",
        "    yield i\n",
        "result = np.fromiter(generator_number(), dtype='float')\n",
        "result"
      ]
    },
    {
      "cell_type": "markdown",
      "id": "c4c942d1",
      "metadata": {
        "id": "c4c942d1"
      },
      "source": [
        "#### 39. Create a vector of size 10 with values ranging from 0 to 1, both excluded (★★☆)"
      ]
    },
    {
      "cell_type": "code",
      "execution_count": null,
      "id": "e42eaa4b",
      "metadata": {
        "id": "e42eaa4b",
        "colab": {
          "base_uri": "https://localhost:8080/"
        },
        "outputId": "072ae76e-5c15-4ad5-96fc-f64a68649ea1"
      },
      "outputs": [
        {
          "output_type": "execute_result",
          "data": {
            "text/plain": [
              "array([0.97285051, 0.64603312, 0.52208173, 0.01884922, 0.33284621,\n",
              "       0.43095001, 0.55062216, 0.56283756, 0.99830742, 0.47815325])"
            ]
          },
          "metadata": {},
          "execution_count": 73
        }
      ],
      "source": [
        "np.random.rand(10)"
      ]
    },
    {
      "cell_type": "markdown",
      "id": "9b3cb8d2",
      "metadata": {
        "id": "9b3cb8d2"
      },
      "source": [
        "#### 40. Create a random vector of size 10 and sort it (★★☆)"
      ]
    },
    {
      "cell_type": "code",
      "execution_count": null,
      "id": "37d2b341",
      "metadata": {
        "id": "37d2b341",
        "colab": {
          "base_uri": "https://localhost:8080/"
        },
        "outputId": "b31154c6-b27e-4459-9298-b4f35a53e95e"
      },
      "outputs": [
        {
          "output_type": "execute_result",
          "data": {
            "text/plain": [
              "array([ 0,  0,  1,  4,  5,  6, 10, 13, 24, 34, 45])"
            ]
          },
          "metadata": {},
          "execution_count": 74
        }
      ],
      "source": [
        "arr = np.array([1, 5, 45, 34, 0, 0, 13, 4, 24, 6, 10])\n",
        "np.sort(arr)"
      ]
    },
    {
      "cell_type": "markdown",
      "id": "2facfddc",
      "metadata": {
        "id": "2facfddc"
      },
      "source": [
        "#### 41. How to sum a small array faster than np.sum? (★★☆)"
      ]
    },
    {
      "cell_type": "code",
      "execution_count": null,
      "id": "4bb8864f",
      "metadata": {
        "id": "4bb8864f",
        "colab": {
          "base_uri": "https://localhost:8080/"
        },
        "outputId": "c908191e-0a09-4234-9ad2-3dcc49b1485e"
      },
      "outputs": [
        {
          "output_type": "execute_result",
          "data": {
            "text/plain": [
              "45"
            ]
          },
          "metadata": {},
          "execution_count": 75
        }
      ],
      "source": [
        "small_arr = np.arange(10)\n",
        "np.add.reduce(small_arr)"
      ]
    },
    {
      "cell_type": "markdown",
      "id": "539cd2a5",
      "metadata": {
        "id": "539cd2a5"
      },
      "source": [
        "#### 42. Consider two random array A and B, check if they are equal (★★☆)\n",
        "* `np.array_equal` test if two arrays has the same elements and same shape"
      ]
    },
    {
      "cell_type": "code",
      "execution_count": null,
      "id": "5246d7bf",
      "metadata": {
        "id": "5246d7bf",
        "colab": {
          "base_uri": "https://localhost:8080/"
        },
        "outputId": "c215701f-052c-4887-8a04-760722a6a032"
      },
      "outputs": [
        {
          "output_type": "execute_result",
          "data": {
            "text/plain": [
              "array([7, 8, 1, 7, 5, 5, 8, 9, 8, 3])"
            ]
          },
          "metadata": {},
          "execution_count": 76
        }
      ],
      "source": [
        "A = np.random.randint(0, 10, 10)\n",
        "A"
      ]
    },
    {
      "cell_type": "code",
      "source": [
        "B = np.random.randint(0, 10, 10)\n",
        "B"
      ],
      "metadata": {
        "colab": {
          "base_uri": "https://localhost:8080/"
        },
        "id": "Qh4uMq0x49Hs",
        "outputId": "dca33d9a-7800-4992-964c-48c9621f3b2f"
      },
      "id": "Qh4uMq0x49Hs",
      "execution_count": null,
      "outputs": [
        {
          "output_type": "execute_result",
          "data": {
            "text/plain": [
              "array([1, 8, 7, 7, 9, 0, 8, 0, 6, 5])"
            ]
          },
          "metadata": {},
          "execution_count": 77
        }
      ]
    },
    {
      "cell_type": "code",
      "source": [
        "equal = np.array_equal(A, B)\n",
        "equal"
      ],
      "metadata": {
        "colab": {
          "base_uri": "https://localhost:8080/"
        },
        "id": "3wSGTXki5Ctk",
        "outputId": "148b4db7-4d37-4d75-ec0d-dccf975f5297"
      },
      "id": "3wSGTXki5Ctk",
      "execution_count": null,
      "outputs": [
        {
          "output_type": "execute_result",
          "data": {
            "text/plain": [
              "False"
            ]
          },
          "metadata": {},
          "execution_count": 78
        }
      ]
    },
    {
      "cell_type": "markdown",
      "id": "448f8274",
      "metadata": {
        "id": "448f8274"
      },
      "source": [
        "#### 43. Make an array immutable (read-only) (★★☆)"
      ]
    },
    {
      "cell_type": "code",
      "execution_count": null,
      "id": "7cf2b3dd",
      "metadata": {
        "id": "7cf2b3dd",
        "colab": {
          "base_uri": "https://localhost:8080/",
          "height": 201
        },
        "outputId": "8d7b102b-20c7-43ae-f927-ce18b06d0212"
      },
      "outputs": [
        {
          "output_type": "error",
          "ename": "ValueError",
          "evalue": "ignored",
          "traceback": [
            "\u001b[0;31m---------------------------------------------------------------------------\u001b[0m",
            "\u001b[0;31mValueError\u001b[0m                                Traceback (most recent call last)",
            "\u001b[0;32m<ipython-input-79-090f87c30088>\u001b[0m in \u001b[0;36m<module>\u001b[0;34m\u001b[0m\n\u001b[1;32m      1\u001b[0m \u001b[0marray\u001b[0m \u001b[0;34m=\u001b[0m \u001b[0mnp\u001b[0m\u001b[0;34m.\u001b[0m\u001b[0mzeros\u001b[0m\u001b[0;34m(\u001b[0m\u001b[0;36m10\u001b[0m\u001b[0;34m)\u001b[0m\u001b[0;34m\u001b[0m\u001b[0;34m\u001b[0m\u001b[0m\n\u001b[1;32m      2\u001b[0m \u001b[0marray\u001b[0m\u001b[0;34m.\u001b[0m\u001b[0mflags\u001b[0m\u001b[0;34m.\u001b[0m\u001b[0mwriteable\u001b[0m \u001b[0;34m=\u001b[0m \u001b[0;32mFalse\u001b[0m\u001b[0;34m\u001b[0m\u001b[0;34m\u001b[0m\u001b[0m\n\u001b[0;32m----> 3\u001b[0;31m \u001b[0marray\u001b[0m\u001b[0;34m[\u001b[0m\u001b[0;36m0\u001b[0m\u001b[0;34m]\u001b[0m \u001b[0;34m=\u001b[0m \u001b[0;36m1\u001b[0m\u001b[0;34m\u001b[0m\u001b[0;34m\u001b[0m\u001b[0m\n\u001b[0m",
            "\u001b[0;31mValueError\u001b[0m: assignment destination is read-only"
          ]
        }
      ],
      "source": [
        "array = np.zeros(10)\n",
        "array.flags.writeable = False\n",
        "array[0] = 1"
      ]
    },
    {
      "cell_type": "markdown",
      "id": "d7b7aaf3",
      "metadata": {
        "id": "d7b7aaf3"
      },
      "source": [
        "#### 44. Consider a random 10x2 matrix representing cartesian coordinates, convert them to polar coordinates (★★☆)\n",
        "\n",
        "**Hint:** <a href=\"https://www.varsitytutors.com/hotmath/hotmath_help/topics/polar-coordinates#:~:text=To%20convert%20from%20Cartesian%20coordinates,1(yx))%20.\">Cartesian coordinates $\\to$ Polar coordinates</a>"
      ]
    },
    {
      "cell_type": "code",
      "execution_count": null,
      "id": "e2337585",
      "metadata": {
        "id": "e2337585",
        "colab": {
          "base_uri": "https://localhost:8080/"
        },
        "outputId": "e42a776c-3f08-45ec-8fae-20b041e219d4"
      },
      "outputs": [
        {
          "output_type": "execute_result",
          "data": {
            "text/plain": [
              "array([[0.86142229, 0.04410235],\n",
              "       [0.47593485, 0.66903662],\n",
              "       [0.59014135, 0.9855274 ],\n",
              "       [0.59323503, 0.68256252],\n",
              "       [0.24272294, 0.99613078],\n",
              "       [0.04902181, 0.12698676],\n",
              "       [0.22538933, 0.616382  ],\n",
              "       [0.34315428, 0.9217848 ],\n",
              "       [0.14184998, 0.31400837],\n",
              "       [0.89092566, 0.80300507]])"
            ]
          },
          "metadata": {},
          "execution_count": 82
        }
      ],
      "source": [
        "matrix = np.random.random((10, 2))\n",
        "matrix"
      ]
    },
    {
      "cell_type": "code",
      "source": [
        "x, y = matrix[:, 0], matrix[:, 1]\n",
        "r = np.sqrt((x ** 2) + (y ** 2))\n",
        "t = np.arctan2(y, x)\n",
        "t"
      ],
      "metadata": {
        "colab": {
          "base_uri": "https://localhost:8080/"
        },
        "id": "dA1XYJAu57XI",
        "outputId": "9247a2c8-e6f4-4421-906e-d9a4988361a8"
      },
      "id": "dA1XYJAu57XI",
      "execution_count": null,
      "outputs": [
        {
          "output_type": "execute_result",
          "data": {
            "text/plain": [
              "array([0.05115247, 0.95247793, 1.03125401, 0.85530106, 1.33178816,\n",
              "       1.20238316, 1.22023477, 1.21441985, 1.14649678, 0.7335414 ])"
            ]
          },
          "metadata": {},
          "execution_count": 83
        }
      ]
    },
    {
      "cell_type": "markdown",
      "id": "a556027a",
      "metadata": {
        "id": "a556027a"
      },
      "source": [
        "#### 45. Create random vector of size 10 and replace the maximum value by 0 (★★☆)"
      ]
    },
    {
      "cell_type": "code",
      "execution_count": null,
      "id": "9e07cb87",
      "metadata": {
        "id": "9e07cb87",
        "colab": {
          "base_uri": "https://localhost:8080/"
        },
        "outputId": "2ea8c1cd-72ee-4451-8d90-efd266dd0931"
      },
      "outputs": [
        {
          "output_type": "execute_result",
          "data": {
            "text/plain": [
              "array([0.02319026, 0.08208831, 0.91548847, 0.34275265, 0.28067657,\n",
              "       0.11598798, 0.77220663, 0.09157992, 0.25833155, 0.07690251])"
            ]
          },
          "metadata": {},
          "execution_count": 84
        }
      ],
      "source": [
        "rand_vec = np.random.random(10)\n",
        "rand_vec"
      ]
    },
    {
      "cell_type": "code",
      "source": [
        "idx_max_val = rand_vec.argmax()\n",
        "idx_max_val"
      ],
      "metadata": {
        "colab": {
          "base_uri": "https://localhost:8080/"
        },
        "id": "Z5G0oU_I7naT",
        "outputId": "84cb1779-1026-4e68-db33-25931c24a6c9"
      },
      "id": "Z5G0oU_I7naT",
      "execution_count": null,
      "outputs": [
        {
          "output_type": "execute_result",
          "data": {
            "text/plain": [
              "2"
            ]
          },
          "metadata": {},
          "execution_count": 85
        }
      ]
    },
    {
      "cell_type": "code",
      "source": [
        "rand_vec[idx_max_val] = 0\n",
        "rand_vec"
      ],
      "metadata": {
        "colab": {
          "base_uri": "https://localhost:8080/"
        },
        "id": "B8gCvHhG7vRW",
        "outputId": "fcf71c58-45e1-4180-8e35-6799c2639032"
      },
      "id": "B8gCvHhG7vRW",
      "execution_count": null,
      "outputs": [
        {
          "output_type": "execute_result",
          "data": {
            "text/plain": [
              "array([0.02319026, 0.08208831, 0.        , 0.34275265, 0.28067657,\n",
              "       0.11598798, 0.77220663, 0.09157992, 0.25833155, 0.07690251])"
            ]
          },
          "metadata": {},
          "execution_count": 86
        }
      ]
    },
    {
      "cell_type": "markdown",
      "id": "004f3da1",
      "metadata": {
        "id": "004f3da1"
      },
      "source": [
        "#### 46. Create a structured array with `x` and `y` coordinates covering the [0,1]x[0,1] area (★★☆)"
      ]
    },
    {
      "cell_type": "code",
      "execution_count": null,
      "id": "b3824741",
      "metadata": {
        "id": "b3824741",
        "colab": {
          "base_uri": "https://localhost:8080/"
        },
        "outputId": "bde28203-a02c-49e0-d2b8-61935ec94331"
      },
      "outputs": [
        {
          "output_type": "execute_result",
          "data": {
            "text/plain": [
              "array([[(0., 0.), (0., 0.), (0., 0.), (0., 0.), (0., 0.)],\n",
              "       [(0., 0.), (0., 0.), (0., 0.), (0., 0.), (0., 0.)],\n",
              "       [(0., 0.), (0., 0.), (0., 0.), (0., 0.), (0., 0.)],\n",
              "       [(0., 0.), (0., 0.), (0., 0.), (0., 0.), (0., 0.)],\n",
              "       [(0., 0.), (0., 0.), (0., 0.), (0., 0.), (0., 0.)]],\n",
              "      dtype=[('x', '<f8'), ('y', '<f8')])"
            ]
          },
          "metadata": {},
          "execution_count": 87
        }
      ],
      "source": [
        "Z = np.zeros((5, 5), [('x', float), ('y', float)])\n",
        "Z"
      ]
    },
    {
      "cell_type": "code",
      "source": [
        "Z['x'], Z['y'] = np.meshgrid(np.linspace(0, 1, 5), np.linspace(0, 1, 5))\n",
        "Z"
      ],
      "metadata": {
        "colab": {
          "base_uri": "https://localhost:8080/"
        },
        "id": "-zc0yAQw7_zn",
        "outputId": "2108bbdb-0437-4a77-ad9c-d8e77ac8f39b"
      },
      "id": "-zc0yAQw7_zn",
      "execution_count": null,
      "outputs": [
        {
          "output_type": "execute_result",
          "data": {
            "text/plain": [
              "array([[(0.  , 0.  ), (0.25, 0.  ), (0.5 , 0.  ), (0.75, 0.  ),\n",
              "        (1.  , 0.  )],\n",
              "       [(0.  , 0.25), (0.25, 0.25), (0.5 , 0.25), (0.75, 0.25),\n",
              "        (1.  , 0.25)],\n",
              "       [(0.  , 0.5 ), (0.25, 0.5 ), (0.5 , 0.5 ), (0.75, 0.5 ),\n",
              "        (1.  , 0.5 )],\n",
              "       [(0.  , 0.75), (0.25, 0.75), (0.5 , 0.75), (0.75, 0.75),\n",
              "        (1.  , 0.75)],\n",
              "       [(0.  , 1.  ), (0.25, 1.  ), (0.5 , 1.  ), (0.75, 1.  ),\n",
              "        (1.  , 1.  )]], dtype=[('x', '<f8'), ('y', '<f8')])"
            ]
          },
          "metadata": {},
          "execution_count": 88
        }
      ]
    },
    {
      "cell_type": "markdown",
      "id": "1c0adc0d",
      "metadata": {
        "id": "1c0adc0d"
      },
      "source": [
        "#### 47. Given two arrays, X and Y, construct the Cauchy matrix C (Cij =1/(xi - yj)) (★★☆)\n",
        "\n",
        "#### What is a Cauchy matrix?\n",
        "\n",
        "Let  $x_1$, $x_2$, ..., $x_m$ and $y_1$, $y_2$, ..., $y_n$ be elements in a field $F$, satisfying the that:\n",
        "1. $x_1, ..., x_m$ are distincts\n",
        "2. $y_1, ..., y_n$ are distincts and\n",
        "3. $x_i+y_j \\not= 0$ for $1 \\leq i \\leq m$, $1 \\leq i \\leq n$\n",
        "\n",
        "$$\n",
        "\\begin{bmatrix}\n",
        "   \\dfrac{1}{x_1+y_1} & \\dfrac{1}{x_2+y_2} &\\dots&\\dfrac{1}{x_1+y_n}\\\\\n",
        "   \\dfrac{1}{x_1+y_1} & \\dfrac{1}{x_2+y_2} &\\dots&\\dfrac{1}{x_2+y_n}\\\\\n",
        "   \\vdots             & \\vdots             &\\ddots&\\vdots\\\\\n",
        "   \\dfrac{1}{x_m+y_1} & \\dfrac{1}{x_m+y_2} &\\dots&\\dfrac{1}{x_m+y_n}\n",
        "\\end{bmatrix}\n",
        "$$\n",
        "\n",
        "is called a *Cauchy matrix* over $F$\n",
        "\n",
        "#### Useful links\n",
        "1. [Cauchy matrix](http://planetmath.org/cauchymatrix)\n",
        "2. [Determinant](https://mathworld.wolfram.com/Determinant.html)\n",
        "3. [np.subtract docs](https://numpy.org/doc/stable/reference/generated/numpy.subtract.html)\n",
        "4. [np.linalg docs](https://numpy.org/doc/stable/reference/routines.linalg.html)\n"
      ]
    },
    {
      "cell_type": "code",
      "execution_count": null,
      "id": "01b3bbb7",
      "metadata": {
        "id": "01b3bbb7"
      },
      "outputs": [],
      "source": [
        "x = np.random.randint(1, 11, 4)\n",
        "y = x + 0.4"
      ]
    },
    {
      "cell_type": "code",
      "source": [
        "C = 1.0 / np.subtract.outer(x, y)\n",
        "C"
      ],
      "metadata": {
        "colab": {
          "base_uri": "https://localhost:8080/"
        },
        "id": "k59A1Ivh8rnZ",
        "outputId": "0afb89e3-f60d-4e11-adfc-f309466cd7ef"
      },
      "id": "k59A1Ivh8rnZ",
      "execution_count": null,
      "outputs": [
        {
          "output_type": "execute_result",
          "data": {
            "text/plain": [
              "array([[-2.5       , -0.41666667, -0.22727273,  0.27777778],\n",
              "       [ 0.625     , -2.5       , -0.41666667,  0.17857143],\n",
              "       [ 0.27777778,  0.625     , -2.5       ,  0.13157895],\n",
              "       [-0.22727273, -0.15625   , -0.11904762, -2.5       ]])"
            ]
          },
          "metadata": {},
          "execution_count": 94
        }
      ]
    },
    {
      "cell_type": "code",
      "source": [
        "np.linalg.det(C)"
      ],
      "metadata": {
        "colab": {
          "base_uri": "https://localhost:8080/"
        },
        "id": "yjxlaMl885rQ",
        "outputId": "886006b4-153c-4aab-b6bb-b1ed8aad2087"
      },
      "id": "yjxlaMl885rQ",
      "execution_count": null,
      "outputs": [
        {
          "output_type": "execute_result",
          "data": {
            "text/plain": [
              "43.54805621147662"
            ]
          },
          "metadata": {},
          "execution_count": 95
        }
      ]
    },
    {
      "cell_type": "markdown",
      "id": "c8a2f65a",
      "metadata": {
        "id": "c8a2f65a"
      },
      "source": [
        "#### 48. Print the minimum and maximum representable value for each numpy scalar type (★★☆)"
      ]
    },
    {
      "cell_type": "code",
      "execution_count": null,
      "id": "35d844d6",
      "metadata": {
        "id": "35d844d6",
        "colab": {
          "base_uri": "https://localhost:8080/"
        },
        "outputId": "86b70f5f-d901-42d6-ec53-7ed16bda054a"
      },
      "outputs": [
        {
          "output_type": "stream",
          "name": "stdout",
          "text": [
            "-128\n",
            "127\n",
            "-----------------\n",
            "-2147483648\n",
            "2147483647\n",
            "-----------------\n",
            "-9223372036854775808\n",
            "9223372036854775807\n",
            "-----------------\n"
          ]
        }
      ],
      "source": [
        "int_types = [np.int8, np.int32, np.int64]\n",
        "for int_type in int_types:\n",
        "  print(np.iinfo(int_type).min)\n",
        "  print(np.iinfo(int_type).max)\n",
        "  print(\"-----------------\")"
      ]
    },
    {
      "cell_type": "code",
      "source": [
        "float_types = [np.float32, np.float64]\n",
        "for float_type in float_types:\n",
        "  print(np.finfo(float_type).min)\n",
        "  print(np.finfo(float_type).max)\n",
        "  print(np.finfo(float_type).eps)\n",
        "  print(\"-----------------\")"
      ],
      "metadata": {
        "colab": {
          "base_uri": "https://localhost:8080/"
        },
        "id": "w-eTi8gqAs7u",
        "outputId": "18bfcd7d-a69c-4bba-ea77-f580cb516c7f"
      },
      "id": "w-eTi8gqAs7u",
      "execution_count": null,
      "outputs": [
        {
          "output_type": "stream",
          "name": "stdout",
          "text": [
            "-3.4028235e+38\n",
            "3.4028235e+38\n",
            "1.1920929e-07\n",
            "-----------------\n",
            "-1.7976931348623157e+308\n",
            "1.7976931348623157e+308\n",
            "2.220446049250313e-16\n",
            "-----------------\n"
          ]
        }
      ]
    },
    {
      "cell_type": "markdown",
      "id": "11727a69",
      "metadata": {
        "id": "11727a69"
      },
      "source": [
        "#### 49. How to print all the values of an array? (★★☆)\n",
        "\n",
        "* [np.set_printoptions docs](https://numpy.org/doc/stable/reference/generated/numpy.set_printoptions.html)"
      ]
    },
    {
      "cell_type": "code",
      "execution_count": null,
      "id": "47e98473",
      "metadata": {
        "id": "47e98473",
        "colab": {
          "base_uri": "https://localhost:8080/"
        },
        "outputId": "9f42dc43-a498-4f95-e9a7-ad19c772f103"
      },
      "outputs": [
        {
          "output_type": "stream",
          "name": "stdout",
          "text": [
            "[[0. 0. 0. 0. 0.]\n",
            " [0. 0. 0. 0. 0.]\n",
            " [0. 0. 0. 0. 0.]\n",
            " [0. 0. 0. 0. 0.]\n",
            " [0. 0. 0. 0. 0.]]\n"
          ]
        }
      ],
      "source": [
        "np.set_printoptions(threshold=float('inf'))\n",
        "arr = np.zeros((5, 5))\n",
        "print(arr)"
      ]
    },
    {
      "cell_type": "markdown",
      "id": "e0e7d741",
      "metadata": {
        "id": "e0e7d741"
      },
      "source": [
        "#### 50. How to find the closest value (to a given scalar) in a vector? (★★☆)"
      ]
    },
    {
      "cell_type": "code",
      "execution_count": null,
      "id": "62cabf6f",
      "metadata": {
        "id": "62cabf6f",
        "colab": {
          "base_uri": "https://localhost:8080/"
        },
        "outputId": "05a5a558-a937-4b57-faa9-84592cab2137"
      },
      "outputs": [
        {
          "output_type": "execute_result",
          "data": {
            "text/plain": [
              "97"
            ]
          },
          "metadata": {},
          "execution_count": 102
        }
      ],
      "source": [
        "vec = np.arange(100)\n",
        "v = np.random.uniform(0, 100)\n",
        "index = (np.abs(vec - v)).argmin()\n",
        "vec[index]"
      ]
    },
    {
      "cell_type": "markdown",
      "id": "c5611b9e",
      "metadata": {
        "id": "c5611b9e"
      },
      "source": [
        "#### 51. Create a structured array representing a position (x,y) and a color (r,g,b) (★★☆)"
      ]
    },
    {
      "cell_type": "code",
      "execution_count": null,
      "id": "f622939d",
      "metadata": {
        "id": "f622939d",
        "colab": {
          "base_uri": "https://localhost:8080/"
        },
        "outputId": "b60c4605-fff9-42d9-f106-4b868e7fcb0b"
      },
      "outputs": [
        {
          "output_type": "stream",
          "name": "stderr",
          "text": [
            "/usr/local/lib/python3.7/dist-packages/ipykernel_launcher.py:5: FutureWarning: Passing (type, 1) or '1type' as a synonym of type is deprecated; in a future version of numpy, it will be understood as (type, (1,)) / '(1,)type'.\n",
            "  \"\"\"\n"
          ]
        },
        {
          "output_type": "execute_result",
          "data": {
            "text/plain": [
              "array([((0., 0.), (0., 0., 0.)), ((0., 0.), (0., 0., 0.)),\n",
              "       ((0., 0.), (0., 0., 0.)), ((0., 0.), (0., 0., 0.)),\n",
              "       ((0., 0.), (0., 0., 0.)), ((0., 0.), (0., 0., 0.)),\n",
              "       ((0., 0.), (0., 0., 0.)), ((0., 0.), (0., 0., 0.)),\n",
              "       ((0., 0.), (0., 0., 0.)), ((0., 0.), (0., 0., 0.))],\n",
              "      dtype=[('position', [('x', '<f8'), ('y', '<f8')]), ('color', [('r', '<f8'), ('g', '<f8'), ('b', '<f8')])])"
            ]
          },
          "metadata": {},
          "execution_count": 107
        }
      ],
      "source": [
        "np.zeros(10, [ ('position', [ ('x', float, 1),\n",
        "                                  ('y', float, 1)]),\n",
        "                   ('color',    [ ('r', float, 1),\n",
        "                                  ('g', float, 1),\n",
        "                                  ('b', float, 1)])])"
      ]
    },
    {
      "cell_type": "markdown",
      "id": "d22b8574",
      "metadata": {
        "id": "d22b8574"
      },
      "source": [
        "#### 52. Consider a random vector with shape (100,2) representing coordinates, find point by point distances (★★☆)"
      ]
    },
    {
      "cell_type": "code",
      "execution_count": null,
      "id": "d5c9cdf8",
      "metadata": {
        "id": "d5c9cdf8"
      },
      "outputs": [],
      "source": [
        "rand_vec = np.random.random((10, 2))\n",
        "x, y = np.atleast_2d(rand_vec[:, 0], rand_vec[:, 1])"
      ]
    },
    {
      "cell_type": "code",
      "source": [
        "x"
      ],
      "metadata": {
        "colab": {
          "base_uri": "https://localhost:8080/"
        },
        "id": "Wqw9BrNgCqPV",
        "outputId": "047c5980-9c28-4709-a089-a1e87a8ff4bf"
      },
      "id": "Wqw9BrNgCqPV",
      "execution_count": null,
      "outputs": [
        {
          "output_type": "execute_result",
          "data": {
            "text/plain": [
              "array([[0.31253517, 0.01651943, 0.44278756, 0.71718558, 0.24745582,\n",
              "        0.07132463, 0.68745083, 0.55615646, 0.78893565, 0.25010224]])"
            ]
          },
          "metadata": {},
          "execution_count": 109
        }
      ]
    },
    {
      "cell_type": "code",
      "source": [
        "y"
      ],
      "metadata": {
        "colab": {
          "base_uri": "https://localhost:8080/"
        },
        "id": "DrlkJsYTCsBn",
        "outputId": "376c4838-f2da-4c73-f3e5-10e5dc8c2838"
      },
      "id": "DrlkJsYTCsBn",
      "execution_count": null,
      "outputs": [
        {
          "output_type": "execute_result",
          "data": {
            "text/plain": [
              "array([[0.98898628, 0.858244  , 0.0990851 , 0.08802448, 0.7651367 ,\n",
              "        0.92273329, 0.55083108, 0.47660131, 0.64187344, 0.72116032]])"
            ]
          },
          "metadata": {},
          "execution_count": 110
        }
      ]
    },
    {
      "cell_type": "code",
      "source": [
        "d = np.sqrt((x - x.T) ** 2 + (y - y.T) ** 2)\n",
        "d"
      ],
      "metadata": {
        "colab": {
          "base_uri": "https://localhost:8080/"
        },
        "id": "vyQPkYEHCtwF",
        "outputId": "211c2db0-f7d2-40e8-fcdc-16e6ba1921b2"
      },
      "id": "vyQPkYEHCtwF",
      "execution_count": null,
      "outputs": [
        {
          "output_type": "execute_result",
          "data": {
            "text/plain": [
              "array([[0.        , 0.32360293, 0.89938301, 0.98766093, 0.2331179 ,\n",
              "        0.25014393, 0.57666432, 0.56735324, 0.58944443, 0.27500658],\n",
              "       [0.32360293, 0.        , 0.87064732, 1.0412354 , 0.24899917,\n",
              "        0.08463142, 0.73800518, 0.6609533 , 0.802149  , 0.27083734],\n",
              "       [0.89938301, 0.87064732, 0.        , 0.27462084, 0.69410318,\n",
              "        0.90353807, 0.51374561, 0.39417127, 0.64376834, 0.6512336 ],\n",
              "       [0.98766093, 1.0412354 , 0.27462084, 0.        , 0.82409162,\n",
              "        1.05540285, 0.46376083, 0.42062136, 0.55847717, 0.78678322],\n",
              "       [0.2331179 , 0.24899917, 0.69410318, 0.82409162, 0.        ,\n",
              "        0.23634484, 0.48941037, 0.4225503 , 0.55533254, 0.04405594],\n",
              "       [0.25014393, 0.08463142, 0.90353807, 1.05540285, 0.23634484,\n",
              "        0.        , 0.7196685 , 0.65885936, 0.77061523, 0.26943106],\n",
              "       [0.57666432, 0.73800518, 0.51374561, 0.46376083, 0.48941037,\n",
              "        0.7196685 , 0.        , 0.1508253 , 0.13633737, 0.46934619],\n",
              "       [0.56735324, 0.6609533 , 0.39417127, 0.42062136, 0.4225503 ,\n",
              "        0.65885936, 0.1508253 , 0.        , 0.28548385, 0.39176306],\n",
              "       [0.58944443, 0.802149  , 0.64376834, 0.55847717, 0.55533254,\n",
              "        0.77061523, 0.13633737, 0.28548385, 0.        , 0.54463552],\n",
              "       [0.27500658, 0.27083734, 0.6512336 , 0.78678322, 0.04405594,\n",
              "        0.26943106, 0.46934619, 0.39176306, 0.54463552, 0.        ]])"
            ]
          },
          "metadata": {},
          "execution_count": 111
        }
      ]
    },
    {
      "cell_type": "markdown",
      "source": [
        "* Using `scipy`"
      ],
      "metadata": {
        "id": "W-dynqaLDDnO"
      },
      "id": "W-dynqaLDDnO"
    },
    {
      "cell_type": "code",
      "source": [
        "import scipy\n",
        "import scipy.spatial\n",
        "Z = np.random.random((10, 2))\n",
        "D = scipy.spatial.distance.cdist(Z, Z)\n",
        "D"
      ],
      "metadata": {
        "colab": {
          "base_uri": "https://localhost:8080/"
        },
        "id": "iCpXwbEYDDOk",
        "outputId": "3691c3d5-fede-4954-d62a-6ee5a1251227"
      },
      "id": "iCpXwbEYDDOk",
      "execution_count": null,
      "outputs": [
        {
          "output_type": "execute_result",
          "data": {
            "text/plain": [
              "array([[0.        , 0.15256321, 0.51408175, 0.30311338, 0.14028992,\n",
              "        0.13971804, 0.41154413, 0.58963404, 0.18522988, 0.49080276],\n",
              "       [0.15256321, 0.        , 0.38099751, 0.31564341, 0.01903879,\n",
              "        0.28019769, 0.55332541, 0.71189447, 0.07743439, 0.35614853],\n",
              "       [0.51408175, 0.38099751, 0.        , 0.66146255, 0.38426164,\n",
              "        0.60012233, 0.83967856, 0.92779306, 0.32887297, 0.02585545],\n",
              "       [0.30311338, 0.31564341, 0.66146255, 0.        , 0.32509487,\n",
              "        0.41098015, 0.63578633, 0.84609419, 0.39268018, 0.63561199],\n",
              "       [0.14028992, 0.01903879, 0.38426164, 0.32509487, 0.        ,\n",
              "        0.26410932, 0.53667618, 0.69345141, 0.06839329, 0.35980571],\n",
              "       [0.13971804, 0.28019769, 0.60012233, 0.41098015, 0.26410932,\n",
              "        0.        , 0.2737735 , 0.45163684, 0.28612357, 0.57955223],\n",
              "       [0.41154413, 0.55332541, 0.83967856, 0.63578633, 0.53667618,\n",
              "        0.2737735 , 0.        , 0.22302152, 0.55034185, 0.82234648],\n",
              "       [0.58963404, 0.71189447, 0.92779306, 0.84609419, 0.69345141,\n",
              "        0.45163684, 0.22302152, 0.        , 0.68850583, 0.91536885],\n",
              "       [0.18522988, 0.07743439, 0.32887297, 0.39268018, 0.06839329,\n",
              "        0.28612357, 0.55034185, 0.68850583, 0.        , 0.30558876],\n",
              "       [0.49080276, 0.35614853, 0.02585545, 0.63561199, 0.35980571,\n",
              "        0.57955223, 0.82234648, 0.91536885, 0.30558876, 0.        ]])"
            ]
          },
          "metadata": {},
          "execution_count": 114
        }
      ]
    },
    {
      "cell_type": "markdown",
      "id": "f5c164f2",
      "metadata": {
        "id": "f5c164f2"
      },
      "source": [
        "#### 53. How to convert a float (32 bits) array into an integer (32 bits) in place?"
      ]
    },
    {
      "cell_type": "code",
      "execution_count": null,
      "id": "ea262de8",
      "metadata": {
        "id": "ea262de8",
        "colab": {
          "base_uri": "https://localhost:8080/"
        },
        "outputId": "c63a652e-e5b6-413b-be3d-7e46cab67176"
      },
      "outputs": [
        {
          "output_type": "execute_result",
          "data": {
            "text/plain": [
              "array([82, 32, 23, 20, 35, 82, 71, 26, 59, 91], dtype=int32)"
            ]
          },
          "metadata": {},
          "execution_count": 115
        }
      ],
      "source": [
        "arr_32 = (np.random.rand(10) * 100).astype(np.float32)\n",
        "copy_arr = arr_32.view(np.int32)\n",
        "copy_arr[:] = arr_32\n",
        "copy_arr"
      ]
    },
    {
      "cell_type": "markdown",
      "id": "a8b7e6f5",
      "metadata": {
        "id": "a8b7e6f5"
      },
      "source": [
        "#### 54. How to read the following file? (★★☆)\n",
        "```\n",
        "1, 2, 3, 4, 5\n",
        "6,  ,  , 7, 8\n",
        " ,  , 9,10,11\n",
        "```\n",
        "\n",
        "* [IO library](https://docs.python.org/3/library/io.html)\n",
        "* [np.genfromtxt docs](https://numpy.org/doc/stable/reference/generated/numpy.genfromtxt.html)"
      ]
    },
    {
      "cell_type": "code",
      "execution_count": null,
      "id": "bde0538a",
      "metadata": {
        "id": "bde0538a",
        "colab": {
          "base_uri": "https://localhost:8080/"
        },
        "outputId": "52fec2d8-68cb-4c3a-887d-4be305e21c04"
      },
      "outputs": [
        {
          "output_type": "execute_result",
          "data": {
            "text/plain": [
              "array([[ 1,  2,  3,  4,  5],\n",
              "       [ 6, -1, -1,  7,  8],\n",
              "       [-1, -1,  9, 10, 11]], dtype=int32)"
            ]
          },
          "metadata": {},
          "execution_count": 117
        }
      ],
      "source": [
        "from io import StringIO\n",
        "\n",
        "s = StringIO('''1, 2, 3, 4, 5\n",
        "                6,  ,  , 7, 8\n",
        "                 ,  , 9,10,11''')\n",
        "\n",
        "Z = np.genfromtxt(s, delimiter=\",\", dtype=np.int32)\n",
        "Z"
      ]
    },
    {
      "cell_type": "markdown",
      "id": "c6b32834",
      "metadata": {
        "id": "c6b32834"
      },
      "source": [
        "#### 55. What is the equivalent of enumerate for numpy arrays? (★★☆)"
      ]
    },
    {
      "cell_type": "code",
      "execution_count": null,
      "id": "ab02472a",
      "metadata": {
        "id": "ab02472a",
        "colab": {
          "base_uri": "https://localhost:8080/"
        },
        "outputId": "08f2f169-e4d7-41a2-993c-deadafd2fab3"
      },
      "outputs": [
        {
          "output_type": "stream",
          "name": "stdout",
          "text": [
            "Index=(0, 0)\tValue=0\n",
            "Index=(0, 1)\tValue=1\n",
            "Index=(0, 2)\tValue=2\n",
            "Index=(1, 0)\tValue=3\n",
            "Index=(1, 1)\tValue=4\n",
            "Index=(1, 2)\tValue=5\n",
            "Index=(2, 0)\tValue=6\n",
            "Index=(2, 1)\tValue=7\n",
            "Index=(2, 2)\tValue=8\n"
          ]
        }
      ],
      "source": [
        "arr = np.arange(9).reshape(3,3)\n",
        "for index, value in np.ndenumerate(arr):\n",
        "  print(f'Index={index}\\tValue={value}')"
      ]
    },
    {
      "cell_type": "code",
      "source": [
        "for index in np.ndindex(arr.shape):\n",
        "  print(f'Index={index}\\tValue={arr[index]}')"
      ],
      "metadata": {
        "colab": {
          "base_uri": "https://localhost:8080/"
        },
        "id": "d8MikqUFExmA",
        "outputId": "5ba4393f-719d-4ab5-bb9b-f2b1cd59399a"
      },
      "id": "d8MikqUFExmA",
      "execution_count": null,
      "outputs": [
        {
          "output_type": "stream",
          "name": "stdout",
          "text": [
            "Index=(0, 0)\tValue=0\n",
            "Index=(0, 1)\tValue=1\n",
            "Index=(0, 2)\tValue=2\n",
            "Index=(1, 0)\tValue=3\n",
            "Index=(1, 1)\tValue=4\n",
            "Index=(1, 2)\tValue=5\n",
            "Index=(2, 0)\tValue=6\n",
            "Index=(2, 1)\tValue=7\n",
            "Index=(2, 2)\tValue=8\n"
          ]
        }
      ]
    },
    {
      "cell_type": "markdown",
      "id": "a2121a05",
      "metadata": {
        "id": "a2121a05"
      },
      "source": [
        "#### 56. Generate a generic 2D Gaussian-like array (★★☆)"
      ]
    },
    {
      "cell_type": "code",
      "execution_count": null,
      "id": "18507102",
      "metadata": {
        "id": "18507102",
        "colab": {
          "base_uri": "https://localhost:8080/"
        },
        "outputId": "5dc2f5b5-8c76-480b-a395-6c2457f953e9"
      },
      "outputs": [
        {
          "output_type": "execute_result",
          "data": {
            "text/plain": [
              "array([[0.36787944, 0.44822088, 0.51979489, 0.57375342, 0.60279818,\n",
              "        0.60279818, 0.57375342, 0.51979489, 0.44822088, 0.36787944],\n",
              "       [0.44822088, 0.54610814, 0.63331324, 0.69905581, 0.73444367,\n",
              "        0.73444367, 0.69905581, 0.63331324, 0.54610814, 0.44822088],\n",
              "       [0.51979489, 0.63331324, 0.73444367, 0.81068432, 0.85172308,\n",
              "        0.85172308, 0.81068432, 0.73444367, 0.63331324, 0.51979489],\n",
              "       [0.57375342, 0.69905581, 0.81068432, 0.89483932, 0.9401382 ,\n",
              "        0.9401382 , 0.89483932, 0.81068432, 0.69905581, 0.57375342],\n",
              "       [0.60279818, 0.73444367, 0.85172308, 0.9401382 , 0.98773022,\n",
              "        0.98773022, 0.9401382 , 0.85172308, 0.73444367, 0.60279818],\n",
              "       [0.60279818, 0.73444367, 0.85172308, 0.9401382 , 0.98773022,\n",
              "        0.98773022, 0.9401382 , 0.85172308, 0.73444367, 0.60279818],\n",
              "       [0.57375342, 0.69905581, 0.81068432, 0.89483932, 0.9401382 ,\n",
              "        0.9401382 , 0.89483932, 0.81068432, 0.69905581, 0.57375342],\n",
              "       [0.51979489, 0.63331324, 0.73444367, 0.81068432, 0.85172308,\n",
              "        0.85172308, 0.81068432, 0.73444367, 0.63331324, 0.51979489],\n",
              "       [0.44822088, 0.54610814, 0.63331324, 0.69905581, 0.73444367,\n",
              "        0.73444367, 0.69905581, 0.63331324, 0.54610814, 0.44822088],\n",
              "       [0.36787944, 0.44822088, 0.51979489, 0.57375342, 0.60279818,\n",
              "        0.60279818, 0.57375342, 0.51979489, 0.44822088, 0.36787944]])"
            ]
          },
          "metadata": {},
          "execution_count": 122
        }
      ],
      "source": [
        "x, y = np.meshgrid(np.linspace(-1, 1, 10), np.linspace(-1, 1, 10))\n",
        "d = np.sqrt(x * x + y * y)\n",
        "sigma, mu = 1.0, 0.0\n",
        "g = np.exp(-((d - mu) ** 2 / (2.0 * sigma ** 2)))\n",
        "g"
      ]
    },
    {
      "cell_type": "markdown",
      "id": "97055efa",
      "metadata": {
        "id": "97055efa"
      },
      "source": [
        "#### 57. How to randomly place p elements in a 2D array? (★★☆)"
      ]
    },
    {
      "cell_type": "code",
      "execution_count": null,
      "id": "292e842f",
      "metadata": {
        "id": "292e842f",
        "colab": {
          "base_uri": "https://localhost:8080/"
        },
        "outputId": "ff5b1ce2-6168-476b-a51d-80d9d686afda"
      },
      "outputs": [
        {
          "output_type": "execute_result",
          "data": {
            "text/plain": [
              "array([[ 0.,  0.,  0.,  0.,  0.],\n",
              "       [ 0., 55.,  0.,  0.,  0.],\n",
              "       [ 0., 55.,  0.,  0.,  0.],\n",
              "       [ 0.,  0., 55.,  0.,  0.],\n",
              "       [ 0.,  0.,  0.,  0.,  0.]])"
            ]
          },
          "metadata": {},
          "execution_count": 126
        }
      ],
      "source": [
        "n = 5\n",
        "p = 3\n",
        "arr = np.zeros((n, n))\n",
        "np.put(arr, np.random.choice(range(n * n), p, replace=False), 55)\n",
        "arr"
      ]
    },
    {
      "cell_type": "markdown",
      "id": "bfd2513c",
      "metadata": {
        "id": "bfd2513c"
      },
      "source": [
        "#### 58. Subtract the mean of each row of a matrix (★★☆)"
      ]
    },
    {
      "cell_type": "code",
      "execution_count": null,
      "id": "f306ab72",
      "metadata": {
        "id": "f306ab72",
        "colab": {
          "base_uri": "https://localhost:8080/"
        },
        "outputId": "c25d636d-19a6-421f-9e9f-971ef9270351"
      },
      "outputs": [
        {
          "output_type": "execute_result",
          "data": {
            "text/plain": [
              "array([[-0.20032669, -0.02393602,  0.35358507,  0.24549156, -0.28449888,\n",
              "        -0.16813545,  0.06653681, -0.3035046 ,  0.42712047, -0.11233226],\n",
              "       [-0.15568257,  0.4516941 , -0.10500899,  0.25696248, -0.06814533,\n",
              "         0.14376227, -0.38739405, -0.39969161,  0.41696038, -0.15345668],\n",
              "       [ 0.26976937, -0.00069703,  0.19409287,  0.02360339,  0.09107017,\n",
              "        -0.43092748,  0.32792823,  0.23410978, -0.45232878, -0.25662052],\n",
              "       [ 0.05431694,  0.13711806,  0.02645734,  0.06029111, -0.51120858,\n",
              "         0.44391757, -0.22559458, -0.18139098,  0.35573419, -0.15964106],\n",
              "       [ 0.38051233,  0.32305499, -0.27058501, -0.4774295 ,  0.3493237 ,\n",
              "        -0.05164081, -0.22116317, -0.45183256,  0.28568688,  0.13407314]])"
            ]
          },
          "metadata": {},
          "execution_count": 127
        }
      ],
      "source": [
        "matrix = np.random.rand(5, 10)\n",
        "y = matrix - matrix.mean(axis=1, keepdims=True)\n",
        "y"
      ]
    },
    {
      "cell_type": "markdown",
      "id": "da9f2f9b",
      "metadata": {
        "id": "da9f2f9b"
      },
      "source": [
        "#### 59. How to sort an array by the nth column? (★★☆)"
      ]
    },
    {
      "cell_type": "code",
      "execution_count": null,
      "id": "68cde57f",
      "metadata": {
        "id": "68cde57f",
        "colab": {
          "base_uri": "https://localhost:8080/"
        },
        "outputId": "4c25c789-c90c-49c4-b780-c254e1de6e81"
      },
      "outputs": [
        {
          "output_type": "execute_result",
          "data": {
            "text/plain": [
              "array([[27, 21, 62],\n",
              "       [59, 39, 55],\n",
              "       [ 8,  8, 78]])"
            ]
          },
          "metadata": {},
          "execution_count": 130
        }
      ],
      "source": [
        "arr = np.random.randint(0, 100, (3,3))\n",
        "arr"
      ]
    },
    {
      "cell_type": "code",
      "source": [
        "arr[arr[:, 0].argsort()]"
      ],
      "metadata": {
        "colab": {
          "base_uri": "https://localhost:8080/"
        },
        "id": "yt8O284CGufg",
        "outputId": "fa497698-e940-42e2-e376-a8d105151adf"
      },
      "id": "yt8O284CGufg",
      "execution_count": null,
      "outputs": [
        {
          "output_type": "execute_result",
          "data": {
            "text/plain": [
              "array([[ 8,  8, 78],\n",
              "       [27, 21, 62],\n",
              "       [59, 39, 55]])"
            ]
          },
          "metadata": {},
          "execution_count": 131
        }
      ]
    },
    {
      "cell_type": "code",
      "source": [
        "arr[arr[:, 1].argsort()]"
      ],
      "metadata": {
        "colab": {
          "base_uri": "https://localhost:8080/"
        },
        "id": "yV4g5Wm3GxNr",
        "outputId": "1e59750b-a96a-4ccc-c1c2-0ab9f7a9616b"
      },
      "id": "yV4g5Wm3GxNr",
      "execution_count": null,
      "outputs": [
        {
          "output_type": "execute_result",
          "data": {
            "text/plain": [
              "array([[ 8,  8, 78],\n",
              "       [27, 21, 62],\n",
              "       [59, 39, 55]])"
            ]
          },
          "metadata": {},
          "execution_count": 132
        }
      ]
    },
    {
      "cell_type": "code",
      "source": [
        "arr[arr[:, 2].argsort()]"
      ],
      "metadata": {
        "colab": {
          "base_uri": "https://localhost:8080/"
        },
        "id": "Y3uyKN53Gx72",
        "outputId": "c8af1254-86e3-4914-ac60-6a63ed3da5d1"
      },
      "id": "Y3uyKN53Gx72",
      "execution_count": null,
      "outputs": [
        {
          "output_type": "execute_result",
          "data": {
            "text/plain": [
              "array([[59, 39, 55],\n",
              "       [27, 21, 62],\n",
              "       [ 8,  8, 78]])"
            ]
          },
          "metadata": {},
          "execution_count": 134
        }
      ]
    },
    {
      "cell_type": "markdown",
      "id": "5b7be45c",
      "metadata": {
        "id": "5b7be45c"
      },
      "source": [
        "#### 60. How to tell if a given 2D array has null columns? (★★☆)"
      ]
    },
    {
      "cell_type": "code",
      "execution_count": null,
      "id": "7dbe2c27",
      "metadata": {
        "id": "7dbe2c27",
        "colab": {
          "base_uri": "https://localhost:8080/"
        },
        "outputId": "de5455fa-fe40-4a21-8a4b-b4ed0eb0ad92"
      },
      "outputs": [
        {
          "output_type": "stream",
          "name": "stdout",
          "text": [
            "False\n"
          ]
        }
      ],
      "source": [
        "Z = np.random.randint(0, 5, (3, 10))\n",
        "print((~Z.any(axis=0)).any())"
      ]
    },
    {
      "cell_type": "markdown",
      "id": "7c18c02e",
      "metadata": {
        "id": "7c18c02e"
      },
      "source": [
        "#### 61. Find the nearest value from a given value in an array (★★☆)"
      ]
    },
    {
      "cell_type": "code",
      "execution_count": null,
      "id": "b78ae9c4",
      "metadata": {
        "id": "b78ae9c4"
      },
      "outputs": [],
      "source": [
        "arr = np.random.uniform(0, 1, 10)\n",
        "k = 0.5"
      ]
    },
    {
      "cell_type": "code",
      "source": [
        "arr"
      ],
      "metadata": {
        "colab": {
          "base_uri": "https://localhost:8080/"
        },
        "id": "LmYKOEmuq8T2",
        "outputId": "d09b4e0b-311e-4011-ce3c-012a0ba897a2"
      },
      "id": "LmYKOEmuq8T2",
      "execution_count": null,
      "outputs": [
        {
          "output_type": "execute_result",
          "data": {
            "text/plain": [
              "array([0.92592759, 0.78359354, 0.53989432, 0.12576788, 0.70967207,\n",
              "       0.79466498, 0.75690659, 0.21337136, 0.88837102, 0.90634703])"
            ]
          },
          "metadata": {},
          "execution_count": 4
        }
      ]
    },
    {
      "cell_type": "code",
      "source": [
        "m = arr.flat[np.abs(arr - k).argmin()]\n",
        "m"
      ],
      "metadata": {
        "colab": {
          "base_uri": "https://localhost:8080/"
        },
        "id": "U3ZhGKpDrBQf",
        "outputId": "d99e07fd-2c35-4e3f-c1c8-136a69347335"
      },
      "id": "U3ZhGKpDrBQf",
      "execution_count": null,
      "outputs": [
        {
          "output_type": "execute_result",
          "data": {
            "text/plain": [
              "0.5398943195303975"
            ]
          },
          "metadata": {},
          "execution_count": 5
        }
      ]
    },
    {
      "cell_type": "markdown",
      "id": "8174ba2c",
      "metadata": {
        "id": "8174ba2c"
      },
      "source": [
        "#### 62. Considering two arrays with shape (1,3) and (3,1), how to compute their sum using an iterator? (★★☆)"
      ]
    },
    {
      "cell_type": "code",
      "execution_count": null,
      "id": "8a18fe57",
      "metadata": {
        "id": "8a18fe57"
      },
      "outputs": [],
      "source": [
        "A = np.arange(3).reshape(3, 1)\n",
        "B = np.arange(3).reshape(1, 3)"
      ]
    },
    {
      "cell_type": "code",
      "source": [
        "it = np.nditer([A, B, None])\n",
        "it"
      ],
      "metadata": {
        "colab": {
          "base_uri": "https://localhost:8080/"
        },
        "id": "5t8yKiPkrRG8",
        "outputId": "80e496d2-b84f-461a-aa02-c24696c9ea97"
      },
      "id": "5t8yKiPkrRG8",
      "execution_count": null,
      "outputs": [
        {
          "output_type": "execute_result",
          "data": {
            "text/plain": [
              "<numpy.nditer at 0x7fc114af75d0>"
            ]
          },
          "metadata": {},
          "execution_count": 7
        }
      ]
    },
    {
      "cell_type": "code",
      "source": [
        "for x, y, z in it:\n",
        "  z[...] = x + y\n",
        "it.operands[2]"
      ],
      "metadata": {
        "colab": {
          "base_uri": "https://localhost:8080/"
        },
        "id": "_PFuB514rUtq",
        "outputId": "0ffa6314-42b1-42e6-883a-f492e98ce758"
      },
      "id": "_PFuB514rUtq",
      "execution_count": null,
      "outputs": [
        {
          "output_type": "execute_result",
          "data": {
            "text/plain": [
              "array([[0, 1, 2],\n",
              "       [1, 2, 3],\n",
              "       [2, 3, 4]])"
            ]
          },
          "metadata": {},
          "execution_count": 8
        }
      ]
    },
    {
      "cell_type": "markdown",
      "id": "9189bd7c",
      "metadata": {
        "id": "9189bd7c"
      },
      "source": [
        "#### 63. Create an array class that has a name attribute (★★☆)"
      ]
    },
    {
      "cell_type": "code",
      "execution_count": null,
      "id": "1c01ed42",
      "metadata": {
        "id": "1c01ed42"
      },
      "outputs": [],
      "source": [
        "class NamedArray(np.ndarray):\n",
        "\n",
        "  def __new__(cls, array, name=\"no name\"):\n",
        "    obj = np.asarray(array).view(cls)\n",
        "    obj.name = name\n",
        "    return obj\n",
        "\n",
        "  def __array_finalize__(self, obj):\n",
        "    if obj is None: return\n",
        "    self.info = getattr(obj, 'name', 'no name')"
      ]
    },
    {
      "cell_type": "code",
      "source": [
        "arr = NamedArray(np.arange(10), \"range_10\")\n",
        "arr.name"
      ],
      "metadata": {
        "colab": {
          "base_uri": "https://localhost:8080/",
          "height": 35
        },
        "id": "R72EIuL8r7z8",
        "outputId": "06b0d0c5-e08e-47bc-9711-8964f6acd378"
      },
      "id": "R72EIuL8r7z8",
      "execution_count": null,
      "outputs": [
        {
          "output_type": "execute_result",
          "data": {
            "text/plain": [
              "'range_10'"
            ],
            "application/vnd.google.colaboratory.intrinsic+json": {
              "type": "string"
            }
          },
          "metadata": {},
          "execution_count": 19
        }
      ]
    },
    {
      "cell_type": "markdown",
      "id": "f30162d2",
      "metadata": {
        "id": "f30162d2"
      },
      "source": [
        "#### 64. Consider a given vector, how to add 1 to each element indexed by a second vector (be careful with repeated indices)? (★★★)"
      ]
    },
    {
      "cell_type": "code",
      "execution_count": null,
      "id": "093ba36f",
      "metadata": {
        "id": "093ba36f",
        "colab": {
          "base_uri": "https://localhost:8080/"
        },
        "outputId": "e6a26e81-2178-4176-a059-054ab9bd3b7a"
      },
      "outputs": [
        {
          "output_type": "execute_result",
          "data": {
            "text/plain": [
              "array([2., 3., 2., 4., 1., 6., 5., 4., 2., 1.])"
            ]
          },
          "metadata": {},
          "execution_count": 20
        }
      ],
      "source": [
        "Z = np.ones(10)\n",
        "I = np.random.randint(0, len(Z), 20)\n",
        "Z += np.bincount(I, minlength=len(Z))\n",
        "Z"
      ]
    },
    {
      "cell_type": "markdown",
      "id": "f5b1c584",
      "metadata": {
        "id": "f5b1c584"
      },
      "source": [
        "#### 65. How to accumulate elements of a vector (X) to an array (F) based on an index list (I)? (★★★)"
      ]
    },
    {
      "cell_type": "code",
      "execution_count": null,
      "id": "c9d92a75",
      "metadata": {
        "id": "c9d92a75",
        "colab": {
          "base_uri": "https://localhost:8080/"
        },
        "outputId": "03517b3a-8fa0-4717-e43b-7eded9bfb104"
      },
      "outputs": [
        {
          "output_type": "execute_result",
          "data": {
            "text/plain": [
              "array([0., 7., 0., 6., 5., 0., 0., 0., 0., 3.])"
            ]
          },
          "metadata": {},
          "execution_count": 21
        }
      ],
      "source": [
        "X = list(range(1, 7))\n",
        "I = [1, 3, 9, 3, 4, 1]\n",
        "F = np.bincount(I, X)\n",
        "F"
      ]
    },
    {
      "cell_type": "markdown",
      "id": "994c452d",
      "metadata": {
        "id": "994c452d"
      },
      "source": [
        "#### 66. Considering a (w,h,3) image of (dtype=ubyte), compute the number of unique colors (★★☆)"
      ]
    },
    {
      "cell_type": "code",
      "execution_count": null,
      "id": "269cdaea",
      "metadata": {
        "id": "269cdaea"
      },
      "outputs": [],
      "source": [
        "w, h = 256, 256\n",
        "I = np.random.randint(0, 4, (h, w, 3)).astype(np.ubyte)\n",
        "colors = np.unique(I.reshape(-1, 3), axis=0)"
      ]
    },
    {
      "cell_type": "code",
      "source": [
        "I"
      ],
      "metadata": {
        "colab": {
          "base_uri": "https://localhost:8080/"
        },
        "id": "N8yf8DcOteDK",
        "outputId": "8ebf47b7-b392-4159-f9bf-996f0ca6f22a"
      },
      "id": "N8yf8DcOteDK",
      "execution_count": null,
      "outputs": [
        {
          "output_type": "execute_result",
          "data": {
            "text/plain": [
              "array([[[0, 0, 0],\n",
              "        [1, 1, 0],\n",
              "        [3, 0, 3],\n",
              "        ...,\n",
              "        [0, 3, 1],\n",
              "        [2, 1, 1],\n",
              "        [0, 1, 3]],\n",
              "\n",
              "       [[0, 2, 0],\n",
              "        [1, 1, 3],\n",
              "        [3, 3, 2],\n",
              "        ...,\n",
              "        [1, 2, 0],\n",
              "        [2, 0, 3],\n",
              "        [0, 1, 2]],\n",
              "\n",
              "       [[0, 2, 0],\n",
              "        [2, 3, 2],\n",
              "        [3, 1, 1],\n",
              "        ...,\n",
              "        [0, 1, 2],\n",
              "        [2, 1, 1],\n",
              "        [1, 1, 3]],\n",
              "\n",
              "       ...,\n",
              "\n",
              "       [[1, 3, 2],\n",
              "        [1, 1, 1],\n",
              "        [0, 2, 3],\n",
              "        ...,\n",
              "        [3, 3, 0],\n",
              "        [3, 0, 0],\n",
              "        [3, 0, 0]],\n",
              "\n",
              "       [[0, 2, 3],\n",
              "        [2, 2, 1],\n",
              "        [1, 1, 2],\n",
              "        ...,\n",
              "        [0, 2, 3],\n",
              "        [1, 1, 1],\n",
              "        [3, 2, 2]],\n",
              "\n",
              "       [[1, 0, 3],\n",
              "        [3, 3, 0],\n",
              "        [1, 1, 0],\n",
              "        ...,\n",
              "        [2, 3, 1],\n",
              "        [2, 1, 1],\n",
              "        [2, 0, 1]]], dtype=uint8)"
            ]
          },
          "metadata": {},
          "execution_count": 23
        }
      ]
    },
    {
      "cell_type": "code",
      "source": [
        "colors"
      ],
      "metadata": {
        "colab": {
          "base_uri": "https://localhost:8080/"
        },
        "id": "sA3embyjtgLt",
        "outputId": "b67d0309-b789-4a44-b6ba-e33b31b6de79"
      },
      "id": "sA3embyjtgLt",
      "execution_count": null,
      "outputs": [
        {
          "output_type": "execute_result",
          "data": {
            "text/plain": [
              "array([[0, 0, 0],\n",
              "       [0, 0, 1],\n",
              "       [0, 0, 2],\n",
              "       [0, 0, 3],\n",
              "       [0, 1, 0],\n",
              "       [0, 1, 1],\n",
              "       [0, 1, 2],\n",
              "       [0, 1, 3],\n",
              "       [0, 2, 0],\n",
              "       [0, 2, 1],\n",
              "       [0, 2, 2],\n",
              "       [0, 2, 3],\n",
              "       [0, 3, 0],\n",
              "       [0, 3, 1],\n",
              "       [0, 3, 2],\n",
              "       [0, 3, 3],\n",
              "       [1, 0, 0],\n",
              "       [1, 0, 1],\n",
              "       [1, 0, 2],\n",
              "       [1, 0, 3],\n",
              "       [1, 1, 0],\n",
              "       [1, 1, 1],\n",
              "       [1, 1, 2],\n",
              "       [1, 1, 3],\n",
              "       [1, 2, 0],\n",
              "       [1, 2, 1],\n",
              "       [1, 2, 2],\n",
              "       [1, 2, 3],\n",
              "       [1, 3, 0],\n",
              "       [1, 3, 1],\n",
              "       [1, 3, 2],\n",
              "       [1, 3, 3],\n",
              "       [2, 0, 0],\n",
              "       [2, 0, 1],\n",
              "       [2, 0, 2],\n",
              "       [2, 0, 3],\n",
              "       [2, 1, 0],\n",
              "       [2, 1, 1],\n",
              "       [2, 1, 2],\n",
              "       [2, 1, 3],\n",
              "       [2, 2, 0],\n",
              "       [2, 2, 1],\n",
              "       [2, 2, 2],\n",
              "       [2, 2, 3],\n",
              "       [2, 3, 0],\n",
              "       [2, 3, 1],\n",
              "       [2, 3, 2],\n",
              "       [2, 3, 3],\n",
              "       [3, 0, 0],\n",
              "       [3, 0, 1],\n",
              "       [3, 0, 2],\n",
              "       [3, 0, 3],\n",
              "       [3, 1, 0],\n",
              "       [3, 1, 1],\n",
              "       [3, 1, 2],\n",
              "       [3, 1, 3],\n",
              "       [3, 2, 0],\n",
              "       [3, 2, 1],\n",
              "       [3, 2, 2],\n",
              "       [3, 2, 3],\n",
              "       [3, 3, 0],\n",
              "       [3, 3, 1],\n",
              "       [3, 3, 2],\n",
              "       [3, 3, 3]], dtype=uint8)"
            ]
          },
          "metadata": {},
          "execution_count": 24
        }
      ]
    },
    {
      "cell_type": "code",
      "source": [
        "len(colors)"
      ],
      "metadata": {
        "colab": {
          "base_uri": "https://localhost:8080/"
        },
        "id": "9k1ZXdFTthJi",
        "outputId": "4d3209cc-9c7c-47e2-84b6-6c8898d76da7"
      },
      "id": "9k1ZXdFTthJi",
      "execution_count": null,
      "outputs": [
        {
          "output_type": "execute_result",
          "data": {
            "text/plain": [
              "64"
            ]
          },
          "metadata": {},
          "execution_count": 25
        }
      ]
    },
    {
      "cell_type": "markdown",
      "id": "4bddeb31",
      "metadata": {
        "id": "4bddeb31"
      },
      "source": [
        "#### 67. Considering a four dimensions array, how to get sum over the last two axis at once? (★★★)"
      ]
    },
    {
      "cell_type": "code",
      "execution_count": null,
      "id": "32af15f5",
      "metadata": {
        "id": "32af15f5",
        "colab": {
          "base_uri": "https://localhost:8080/"
        },
        "outputId": "e445a3dc-503b-4bf1-ff64-c93c823fd3ae"
      },
      "outputs": [
        {
          "output_type": "execute_result",
          "data": {
            "text/plain": [
              "array([[50, 66, 32, 49],\n",
              "       [53, 57, 47, 46],\n",
              "       [59, 39, 56, 48]])"
            ]
          },
          "metadata": {},
          "execution_count": 26
        }
      ],
      "source": [
        "A = np.random.randint(0, 10, (3, 4, 3, 4))\n",
        "s = A.sum(axis=(-2, -1))\n",
        "s"
      ]
    },
    {
      "cell_type": "markdown",
      "id": "c4cf083c",
      "metadata": {
        "id": "c4cf083c"
      },
      "source": [
        "#### 68. Considering a one-dimensional vector D, how to compute means of subsets of D using a vector S of same size describing subset  indices? (★★★)"
      ]
    },
    {
      "cell_type": "code",
      "execution_count": null,
      "id": "9600a2dd",
      "metadata": {
        "id": "9600a2dd"
      },
      "outputs": [],
      "source": [
        "D = np.random.uniform(0, 1, 100)\n",
        "S = np.random.randint(0, 10, 100)\n",
        "D_sums = np.bincount(S, weights=D)"
      ]
    },
    {
      "cell_type": "code",
      "source": [
        "D_sums"
      ],
      "metadata": {
        "colab": {
          "base_uri": "https://localhost:8080/"
        },
        "id": "4Nyr8b9Wt9TJ",
        "outputId": "9a271d1a-9410-4922-fd65-bfe6cbfdd83f"
      },
      "id": "4Nyr8b9Wt9TJ",
      "execution_count": null,
      "outputs": [
        {
          "output_type": "execute_result",
          "data": {
            "text/plain": [
              "array([4.85797365, 5.85975304, 1.73668888, 4.77676314, 5.5122946 ,\n",
              "       6.28008067, 3.42013061, 5.26753888, 7.72324858, 3.71485881])"
            ]
          },
          "metadata": {},
          "execution_count": 28
        }
      ]
    },
    {
      "cell_type": "code",
      "source": [
        "D_counts = np.bincount(S)"
      ],
      "metadata": {
        "id": "OdgTsqmmt-91"
      },
      "id": "OdgTsqmmt-91",
      "execution_count": null,
      "outputs": []
    },
    {
      "cell_type": "code",
      "source": [
        "D_counts"
      ],
      "metadata": {
        "colab": {
          "base_uri": "https://localhost:8080/"
        },
        "id": "PpgCAjeNuB8c",
        "outputId": "fe0e5d3b-21cd-4303-cfdf-fb37d1e2a077"
      },
      "id": "PpgCAjeNuB8c",
      "execution_count": null,
      "outputs": [
        {
          "output_type": "execute_result",
          "data": {
            "text/plain": [
              "array([11, 10,  5,  8, 13, 11,  9, 10, 15,  8])"
            ]
          },
          "metadata": {},
          "execution_count": 31
        }
      ]
    },
    {
      "cell_type": "code",
      "source": [
        "D_means = D_sums / D_counts\n",
        "D_means"
      ],
      "metadata": {
        "colab": {
          "base_uri": "https://localhost:8080/"
        },
        "id": "d9k1_CMiuFaS",
        "outputId": "48279086-4dd6-4f4a-dcc3-3f1f8934ca5c"
      },
      "id": "d9k1_CMiuFaS",
      "execution_count": null,
      "outputs": [
        {
          "output_type": "execute_result",
          "data": {
            "text/plain": [
              "array([0.44163397, 0.5859753 , 0.34733778, 0.59709539, 0.42402266,\n",
              "       0.57091642, 0.38001451, 0.52675389, 0.51488324, 0.46435735])"
            ]
          },
          "metadata": {},
          "execution_count": 32
        }
      ]
    },
    {
      "cell_type": "markdown",
      "id": "a5e316db",
      "metadata": {
        "id": "a5e316db"
      },
      "source": [
        "#### 69. How to get the diagonal of a dot product? (★★★)"
      ]
    },
    {
      "cell_type": "code",
      "execution_count": null,
      "id": "94735dbd",
      "metadata": {
        "id": "94735dbd"
      },
      "outputs": [],
      "source": [
        "A = np.random.uniform(0, 1, (5, 5))\n",
        "B = np.random.uniform(0, 1, (5, 5))"
      ]
    },
    {
      "cell_type": "code",
      "source": [
        "np.sum(A * B.T, axis=1)"
      ],
      "metadata": {
        "colab": {
          "base_uri": "https://localhost:8080/"
        },
        "id": "-mmD8p1gucY9",
        "outputId": "3031d303-3022-4909-f604-075403947ed8"
      },
      "id": "-mmD8p1gucY9",
      "execution_count": null,
      "outputs": [
        {
          "output_type": "execute_result",
          "data": {
            "text/plain": [
              "array([0.5219871 , 1.82109099, 0.92521187, 1.11239068, 1.28156439])"
            ]
          },
          "metadata": {},
          "execution_count": 35
        }
      ]
    },
    {
      "cell_type": "code",
      "source": [
        "np.einsum(\"ij, ji->i\", A, B)"
      ],
      "metadata": {
        "colab": {
          "base_uri": "https://localhost:8080/"
        },
        "id": "aFCoVV7PuUDX",
        "outputId": "5850857b-8de4-4793-c496-e3cb85a25c81"
      },
      "id": "aFCoVV7PuUDX",
      "execution_count": null,
      "outputs": [
        {
          "output_type": "execute_result",
          "data": {
            "text/plain": [
              "array([0.5219871 , 1.82109099, 0.92521187, 1.11239068, 1.28156439])"
            ]
          },
          "metadata": {},
          "execution_count": 34
        }
      ]
    },
    {
      "cell_type": "markdown",
      "id": "de727a7b",
      "metadata": {
        "id": "de727a7b"
      },
      "source": [
        "#### 70. Consider the vector [1, 2, 3, 4, 5], how to build a new vector with 3 consecutive zeros interleaved between each value? (★★★)"
      ]
    },
    {
      "cell_type": "code",
      "execution_count": null,
      "id": "982be812",
      "metadata": {
        "id": "982be812"
      },
      "outputs": [],
      "source": [
        "Z = np.array(list(range(1, 6)))\n",
        "nz = 3\n",
        "Z0 = np.zeros(len(Z) + (len(Z) - 1) * (nz))"
      ]
    },
    {
      "cell_type": "code",
      "source": [
        "Z0[::nz + 1] = Z\n",
        "Z0"
      ],
      "metadata": {
        "colab": {
          "base_uri": "https://localhost:8080/"
        },
        "id": "erZ-wVZEusIi",
        "outputId": "56317929-2d7a-4711-938d-7f443788a0fb"
      },
      "id": "erZ-wVZEusIi",
      "execution_count": null,
      "outputs": [
        {
          "output_type": "execute_result",
          "data": {
            "text/plain": [
              "array([1., 0., 0., 0., 2., 0., 0., 0., 3., 0., 0., 0., 4., 0., 0., 0., 5.])"
            ]
          },
          "metadata": {},
          "execution_count": 37
        }
      ]
    },
    {
      "cell_type": "markdown",
      "id": "a9a73d6b",
      "metadata": {
        "id": "a9a73d6b"
      },
      "source": [
        "#### 71. Consider an array of dimension (5,5,3), how to mulitply it by an array with dimensions (5,5)? (★★★)"
      ]
    },
    {
      "cell_type": "code",
      "execution_count": null,
      "id": "282a90cc",
      "metadata": {
        "id": "282a90cc",
        "colab": {
          "base_uri": "https://localhost:8080/"
        },
        "outputId": "754dd2d7-5edc-449a-fde4-75ebb01b77d9"
      },
      "outputs": [
        {
          "output_type": "execute_result",
          "data": {
            "text/plain": [
              "array([[[2., 2., 2.],\n",
              "        [2., 2., 2.],\n",
              "        [2., 2., 2.],\n",
              "        [2., 2., 2.],\n",
              "        [2., 2., 2.]],\n",
              "\n",
              "       [[2., 2., 2.],\n",
              "        [2., 2., 2.],\n",
              "        [2., 2., 2.],\n",
              "        [2., 2., 2.],\n",
              "        [2., 2., 2.]],\n",
              "\n",
              "       [[2., 2., 2.],\n",
              "        [2., 2., 2.],\n",
              "        [2., 2., 2.],\n",
              "        [2., 2., 2.],\n",
              "        [2., 2., 2.]],\n",
              "\n",
              "       [[2., 2., 2.],\n",
              "        [2., 2., 2.],\n",
              "        [2., 2., 2.],\n",
              "        [2., 2., 2.],\n",
              "        [2., 2., 2.]],\n",
              "\n",
              "       [[2., 2., 2.],\n",
              "        [2., 2., 2.],\n",
              "        [2., 2., 2.],\n",
              "        [2., 2., 2.],\n",
              "        [2., 2., 2.]]])"
            ]
          },
          "metadata": {},
          "execution_count": 38
        }
      ],
      "source": [
        "A = np.ones((5, 5, 3))\n",
        "B = 2 * np.ones((5, 5))\n",
        "A * B[:, :, None]"
      ]
    },
    {
      "cell_type": "markdown",
      "id": "a951c78f",
      "metadata": {
        "id": "a951c78f"
      },
      "source": [
        "#### 72. How to swap two rows of an array? (★★★)"
      ]
    },
    {
      "cell_type": "code",
      "execution_count": null,
      "id": "e29b3fde",
      "metadata": {
        "id": "e29b3fde",
        "colab": {
          "base_uri": "https://localhost:8080/"
        },
        "outputId": "37726a93-d0ca-45c1-8053-1a7d28f1ad70"
      },
      "outputs": [
        {
          "output_type": "execute_result",
          "data": {
            "text/plain": [
              "array([[ 5,  6,  7,  8,  9],\n",
              "       [ 0,  1,  2,  3,  4],\n",
              "       [10, 11, 12, 13, 14],\n",
              "       [15, 16, 17, 18, 19],\n",
              "       [20, 21, 22, 23, 24]])"
            ]
          },
          "metadata": {},
          "execution_count": 39
        }
      ],
      "source": [
        "A = np.arange(25).reshape(5, 5)\n",
        "A[[0, 1]] = A[[1, 0]]\n",
        "A"
      ]
    },
    {
      "cell_type": "markdown",
      "id": "43b639e8",
      "metadata": {
        "id": "43b639e8"
      },
      "source": [
        "#### 73. Consider a set of 10 triplets describing 10 triangles (with shared vertices), find the set of unique line segments composing all the  triangles (★★★)"
      ]
    },
    {
      "cell_type": "code",
      "execution_count": null,
      "id": "147e1034",
      "metadata": {
        "id": "147e1034",
        "colab": {
          "base_uri": "https://localhost:8080/"
        },
        "outputId": "f3e50985-d7fa-4326-de5f-18e2f5dd69fe"
      },
      "outputs": [
        {
          "output_type": "execute_result",
          "data": {
            "text/plain": [
              "array([( 2, 25), ( 2, 35), ( 2, 52), ( 2, 72), ( 4, 10), ( 4, 62),\n",
              "       ( 5, 17), ( 5, 61), (10, 62), (16, 17), (16, 40), (16, 94),\n",
              "       (16, 98), (17, 61), (17, 98), (23, 39), (23, 92), (25, 72),\n",
              "       (33, 75), (33, 87), (35, 52), (38, 83), (38, 91), (39, 92),\n",
              "       (40, 94), (75, 87), (83, 91), (87, 90), (87, 98), (90, 98)],\n",
              "      dtype=[('p0', '<i8'), ('p1', '<i8')])"
            ]
          },
          "metadata": {},
          "execution_count": 40
        }
      ],
      "source": [
        "faces = np.random.randint(0, 100, (10, 3))\n",
        "F = np.roll(faces.repeat(2, axis=1), -1, axis=1)\n",
        "F = F.reshape(len(F) * 3, 2)\n",
        "F = np.sort(F, axis=1)\n",
        "G = F.view(dtype=[('p0', F.dtype), ('p1', F.dtype)])\n",
        "G = np.unique(G)\n",
        "G"
      ]
    },
    {
      "cell_type": "markdown",
      "id": "d41de585",
      "metadata": {
        "id": "d41de585"
      },
      "source": [
        "#### 74. Given a sorted array C that corresponds to a bincount, how to produce an array A such that np.bincount(A) == C? (★★★)"
      ]
    },
    {
      "cell_type": "code",
      "execution_count": null,
      "id": "5f5d6e36",
      "metadata": {
        "id": "5f5d6e36",
        "colab": {
          "base_uri": "https://localhost:8080/"
        },
        "outputId": "7a9e47b9-2716-4b34-90a5-8ea3e9c2052a"
      },
      "outputs": [
        {
          "output_type": "execute_result",
          "data": {
            "text/plain": [
              "array([1, 1, 2, 3, 4, 4, 6])"
            ]
          },
          "metadata": {},
          "execution_count": 41
        }
      ],
      "source": [
        "arr = np.bincount([1, 1, 2, 3, 4, 4, 6])\n",
        "a = np.repeat(np.arange(len(arr)), arr)\n",
        "a"
      ]
    },
    {
      "cell_type": "markdown",
      "id": "b50adf7c",
      "metadata": {
        "id": "b50adf7c"
      },
      "source": [
        "#### 75. How to compute averages using a sliding window over an array? (★★★)"
      ]
    },
    {
      "cell_type": "code",
      "execution_count": null,
      "id": "e631a9d2",
      "metadata": {
        "id": "e631a9d2"
      },
      "outputs": [],
      "source": [
        "def moving_average(a, n=3):\n",
        "  ret = np.cumsum(a, dtype=float)\n",
        "  ret[n:] = ret[n:] - ret[:-n]\n",
        "  return ret[n - 1:] / n"
      ]
    },
    {
      "cell_type": "code",
      "source": [
        "arr = np.arange(20)\n",
        "moving_average(arr, 3)"
      ],
      "metadata": {
        "colab": {
          "base_uri": "https://localhost:8080/"
        },
        "id": "OnEX564iwuC2",
        "outputId": "2823b6d6-7e8e-4448-a48d-5a7b1bd263fa"
      },
      "id": "OnEX564iwuC2",
      "execution_count": null,
      "outputs": [
        {
          "output_type": "execute_result",
          "data": {
            "text/plain": [
              "array([ 1.,  2.,  3.,  4.,  5.,  6.,  7.,  8.,  9., 10., 11., 12., 13.,\n",
              "       14., 15., 16., 17., 18.])"
            ]
          },
          "metadata": {},
          "execution_count": 43
        }
      ]
    },
    {
      "cell_type": "markdown",
      "id": "1ab4c50d",
      "metadata": {
        "id": "1ab4c50d"
      },
      "source": [
        "#### 76. Consider a one-dimensional array Z, build a two-dimensional array whose first row is (Z[0],Z[1],Z[2]) and each subsequent row is  shifted by 1 (last row should be (Z[-3],Z[-2],Z[-1]) (★★★)"
      ]
    },
    {
      "cell_type": "code",
      "execution_count": null,
      "id": "3ccfe2c0",
      "metadata": {
        "id": "3ccfe2c0"
      },
      "outputs": [],
      "source": [
        "from numpy.lib import stride_tricks\n",
        "\n",
        "def rolling(a, window):\n",
        "  shape = (a.size - window + 1, window)\n",
        "  strides = (a.strides[0], a.strides[0])\n",
        "  return stride_tricks.as_strided(a, shape=shape, strides=strides)"
      ]
    },
    {
      "cell_type": "code",
      "source": [
        "Z = rolling(np.arange(10), 3)\n",
        "Z"
      ],
      "metadata": {
        "colab": {
          "base_uri": "https://localhost:8080/"
        },
        "id": "6Oikq_EFxTLQ",
        "outputId": "cf407511-3e11-4b11-9976-c82bfda27fcf"
      },
      "id": "6Oikq_EFxTLQ",
      "execution_count": null,
      "outputs": [
        {
          "output_type": "execute_result",
          "data": {
            "text/plain": [
              "array([[0, 1, 2],\n",
              "       [1, 2, 3],\n",
              "       [2, 3, 4],\n",
              "       [3, 4, 5],\n",
              "       [4, 5, 6],\n",
              "       [5, 6, 7],\n",
              "       [6, 7, 8],\n",
              "       [7, 8, 9]])"
            ]
          },
          "metadata": {},
          "execution_count": 47
        }
      ]
    },
    {
      "cell_type": "markdown",
      "id": "5b4fe59d",
      "metadata": {
        "id": "5b4fe59d"
      },
      "source": [
        "#### 77. How to negate a boolean, or to change the sign of a float inplace? (★★★)"
      ]
    },
    {
      "cell_type": "code",
      "execution_count": null,
      "id": "3c2373ff",
      "metadata": {
        "id": "3c2373ff",
        "colab": {
          "base_uri": "https://localhost:8080/"
        },
        "outputId": "ef06dbb8-fed6-45ea-f841-067c1e909683"
      },
      "outputs": [
        {
          "output_type": "execute_result",
          "data": {
            "text/plain": [
              "array([-0.82721761, -0.98392928,  0.60938463, -0.44240207,  0.79821474,\n",
              "        0.4982981 , -0.70383246, -0.42274805, -0.89819837, -0.15209958,\n",
              "        0.98421815, -0.17961526,  0.40639334, -0.23348676,  0.67418928,\n",
              "       -0.72111329,  0.10771102,  0.96200806,  0.65192348, -0.3169166 ,\n",
              "       -0.5990237 , -0.33260942, -0.29358243, -0.01580816,  0.94196647,\n",
              "       -0.60471858,  0.58603222, -0.88141267,  0.17395041, -0.73835009,\n",
              "        0.68630432, -0.72603166,  0.86516259,  0.53647357, -0.08676496,\n",
              "       -0.89585484,  0.3093073 ,  0.08088174, -0.6560397 , -0.9452602 ,\n",
              "       -0.56752632, -0.94224063, -0.25614883, -0.31503627,  0.53882198,\n",
              "       -0.60757933,  0.46012443,  0.29744285, -0.75209831, -0.55824047,\n",
              "       -0.21853208,  0.99652175,  0.96756333, -0.30357215,  0.83091575,\n",
              "        0.30078729, -0.21485187, -0.20451103, -0.58378   , -0.60958271,\n",
              "        0.21070976,  0.57512531,  0.34700492, -0.31591647,  0.87385717,\n",
              "       -0.0356031 , -0.28382166, -0.51772192,  0.49200891,  0.15653897,\n",
              "       -0.60123322,  0.19835814,  0.70258105, -0.46697585,  0.18685677,\n",
              "        0.39396375,  0.27724633,  0.3674127 , -0.39683911,  0.3572235 ,\n",
              "       -0.32816117,  0.95361883,  0.68403434,  0.42700874, -0.35234488,\n",
              "       -0.39455413, -0.6507849 ,  0.88069655,  0.43283344, -0.64546841,\n",
              "       -0.2654196 ,  0.25391285, -0.26531348,  0.37747446, -0.1471429 ,\n",
              "       -0.54876958, -0.90950033,  0.09518552, -0.33081452,  0.24726125])"
            ]
          },
          "metadata": {},
          "execution_count": 49
        }
      ],
      "source": [
        "Z = np.random.randint(0,2,100)\n",
        "np.logical_not(Z, out=Z)\n",
        "\n",
        "Z = np.random.uniform(-1.0,1.0,100)\n",
        "np.negative(Z, out=Z)"
      ]
    },
    {
      "cell_type": "markdown",
      "id": "119ab5af",
      "metadata": {
        "id": "119ab5af"
      },
      "source": [
        "#### 78. Consider 2 sets of points P0,P1 describing lines (2d) and a point p, how to compute distance from p to each line i (P0[i],P1[i])? (★★★)"
      ]
    },
    {
      "cell_type": "code",
      "execution_count": null,
      "id": "1d8d06dc",
      "metadata": {
        "id": "1d8d06dc"
      },
      "outputs": [],
      "source": [
        "def distance(P0, P1, p):\n",
        "  T = P1 - P0\n",
        "  L = (T ** 2).sum(axis=1)\n",
        "  U = -((P0[:, 0] - p[..., 0]) * T[:, 0] + (P0[:, 1] - p[..., 1]) * T[:, 1]) / L\n",
        "  U = U.reshape(len(U), 1)\n",
        "  D = P0 + U * T - p\n",
        "  return np.sqrt((D ** 2).sum(axis=1))"
      ]
    },
    {
      "cell_type": "code",
      "source": [
        "P0 = np.random.uniform(-10, 10, (10, 2))\n",
        "P1 = np.random.uniform(-10, 10, (10, 2))\n",
        "p = np.random.uniform(-10, 10, (1, 2))"
      ],
      "metadata": {
        "id": "l07HNJTpyE1Q"
      },
      "id": "l07HNJTpyE1Q",
      "execution_count": null,
      "outputs": []
    },
    {
      "cell_type": "code",
      "source": [
        "distance(P0, P1, p)"
      ],
      "metadata": {
        "colab": {
          "base_uri": "https://localhost:8080/"
        },
        "id": "19-zitaFyNP6",
        "outputId": "67775dc8-7051-491b-ec27-fb2fe4131921"
      },
      "id": "19-zitaFyNP6",
      "execution_count": null,
      "outputs": [
        {
          "output_type": "execute_result",
          "data": {
            "text/plain": [
              "array([3.00978925, 6.07811412, 0.55593167, 5.03348542, 8.1655467 ,\n",
              "       4.42821544, 3.31155059, 5.6739805 , 8.35135091, 4.74542669])"
            ]
          },
          "metadata": {},
          "execution_count": 52
        }
      ]
    },
    {
      "cell_type": "markdown",
      "id": "e5e7f323",
      "metadata": {
        "id": "e5e7f323"
      },
      "source": [
        "#### 79. Consider 2 sets of points P0,P1 describing lines (2d) and a set of points P, how to compute distance from each point j (P[j]) to each line i (P0[i],P1[i])? (★★★)"
      ]
    },
    {
      "cell_type": "code",
      "execution_count": null,
      "id": "d0ce77e2",
      "metadata": {
        "id": "d0ce77e2",
        "colab": {
          "base_uri": "https://localhost:8080/"
        },
        "outputId": "6ae46e39-225e-4d39-9a17-9f2ca0f78025"
      },
      "outputs": [
        {
          "output_type": "execute_result",
          "data": {
            "text/plain": [
              "array([[ 8.04456288, 11.21466023,  5.75307446,  2.06727347,  3.52394562,\n",
              "         0.954132  ,  1.73651637,  2.07314328,  5.62987495,  1.45286252],\n",
              "       [13.73064748,  9.88044448,  3.28577384,  1.11952478,  0.33726513,\n",
              "         6.66221834,  7.29026083,  2.42367982, 10.85393427,  4.27273432],\n",
              "       [ 9.19878466, 12.44254609,  6.68720675,  3.3802587 ,  4.23140459,\n",
              "         2.06457067,  3.04244332,  3.62119162,  5.88671618,  0.59635765],\n",
              "       [ 4.20756132,  3.96605947,  0.38429946,  5.47827619,  1.6894931 ,\n",
              "         2.63537231,  2.98210867,  6.1936616 ,  6.47400498,  3.65415044],\n",
              "       [ 6.38050585,  4.85697281,  9.28674149, 14.19050706, 10.41951659,\n",
              "         0.18638872,  1.85023225, 14.25179588, 12.92779455,  0.22977181],\n",
              "       [ 4.455254  , 14.72011007,  9.86049715,  5.34058556,  7.94216441,\n",
              "         2.73480459,  1.4519353 ,  4.47631704,  0.90422558,  5.61041083],\n",
              "       [11.98386102,  2.60833737,  3.31149236,  6.30539324,  5.62563797,\n",
              "         5.15598404,  4.66883889,  5.25411382, 13.36806347,  4.08092805],\n",
              "       [ 0.14830914,  1.84150932,  5.09542885, 11.59173683,  5.5233047 ,\n",
              "         6.49270041,  7.75232947, 13.10551284,  6.36924304,  6.36256417],\n",
              "       [13.09336673,  3.72092598,  2.47839615,  5.11130266,  5.00678905,\n",
              "         6.22558324,  5.91610296,  3.83277992, 13.65126885,  4.91806712],\n",
              "       [11.63094019, 12.50134152,  6.23456314,  3.60715404,  3.43718192,\n",
              "         4.48587157,  5.49299428,  4.39145242,  7.78372122,  1.72428322]])"
            ]
          },
          "metadata": {},
          "execution_count": 53
        }
      ],
      "source": [
        "P0 = np.random.uniform(-10, 10, (10,2))\n",
        "P1 = np.random.uniform(-10,10,(10,2))\n",
        "p = np.random.uniform(-10, 10, (10,2))\n",
        "np.array([distance(P0,P1,p_i) for p_i in p])"
      ]
    },
    {
      "cell_type": "markdown",
      "id": "9b9d03eb",
      "metadata": {
        "id": "9b9d03eb"
      },
      "source": [
        "#### 80. Consider an arbitrary array, write a function that extract a subpart with a fixed shape and centered on a given element (pad with a `fill` value when necessary) (★★★)"
      ]
    },
    {
      "cell_type": "code",
      "execution_count": null,
      "id": "ec2b7ae3",
      "metadata": {
        "id": "ec2b7ae3"
      },
      "outputs": [],
      "source": [
        "Z = np.random.randint(0,10,(10,10))\n",
        "shape = (5,5)\n",
        "fill  = 0\n",
        "position = (1,1)"
      ]
    },
    {
      "cell_type": "code",
      "source": [
        "R = np.ones(shape, dtype=Z.dtype)*fill\n",
        "P  = np.array(list(position)).astype(int)\n",
        "Rs = np.array(list(R.shape)).astype(int)\n",
        "Zs = np.array(list(Z.shape)).astype(int)"
      ],
      "metadata": {
        "id": "ACAXjR99yYCe"
      },
      "id": "ACAXjR99yYCe",
      "execution_count": null,
      "outputs": []
    },
    {
      "cell_type": "code",
      "source": [
        "R_start = np.zeros((len(shape),)).astype(int)\n",
        "R_stop  = np.array(list(shape)).astype(int)\n",
        "Z_start = (P-Rs//2)\n",
        "Z_stop  = (P+Rs//2)+Rs%2"
      ],
      "metadata": {
        "id": "cIjbEmqVyZ4h"
      },
      "id": "cIjbEmqVyZ4h",
      "execution_count": null,
      "outputs": []
    },
    {
      "cell_type": "code",
      "source": [
        "R_start = (R_start - np.minimum(Z_start,0)).tolist()\n",
        "Z_start = (np.maximum(Z_start,0)).tolist()\n",
        "R_stop = np.maximum(R_start, (R_stop - np.maximum(Z_stop-Zs,0))).tolist()\n",
        "Z_stop = (np.minimum(Z_stop,Zs)).tolist()"
      ],
      "metadata": {
        "id": "8agJ35WTybk8"
      },
      "id": "8agJ35WTybk8",
      "execution_count": null,
      "outputs": []
    },
    {
      "cell_type": "code",
      "source": [
        "r = [slice(start,stop) for start,stop in zip(R_start,R_stop)]\n",
        "z = [slice(start,stop) for start,stop in zip(Z_start,Z_stop)]\n",
        "R[r] = Z[z]"
      ],
      "metadata": {
        "colab": {
          "base_uri": "https://localhost:8080/"
        },
        "id": "oQ9FB_tAydNL",
        "outputId": "f4ef1a28-a209-4fe8-e145-0377c6c28642"
      },
      "id": "oQ9FB_tAydNL",
      "execution_count": null,
      "outputs": [
        {
          "output_type": "stream",
          "name": "stderr",
          "text": [
            "/usr/local/lib/python3.7/dist-packages/ipykernel_launcher.py:3: FutureWarning: Using a non-tuple sequence for multidimensional indexing is deprecated; use `arr[tuple(seq)]` instead of `arr[seq]`. In the future this will be interpreted as an array index, `arr[np.array(seq)]`, which will result either in an error or a different result.\n",
            "  This is separate from the ipykernel package so we can avoid doing imports until\n"
          ]
        }
      ]
    },
    {
      "cell_type": "code",
      "source": [
        "print(Z, '\\n\\n', R)"
      ],
      "metadata": {
        "colab": {
          "base_uri": "https://localhost:8080/"
        },
        "id": "AgcPvrfWyezw",
        "outputId": "67379042-a758-4e35-c7b3-180b2502bcac"
      },
      "id": "AgcPvrfWyezw",
      "execution_count": null,
      "outputs": [
        {
          "output_type": "stream",
          "name": "stdout",
          "text": [
            "[[1 4 9 1 8 7 8 0 9 5]\n",
            " [2 0 6 2 2 9 9 2 4 7]\n",
            " [8 3 3 4 7 1 1 7 6 4]\n",
            " [5 9 8 5 5 7 1 2 1 3]\n",
            " [2 0 9 4 2 3 2 3 5 7]\n",
            " [7 8 0 9 4 0 7 6 8 3]\n",
            " [4 8 7 9 3 3 9 2 7 4]\n",
            " [9 6 2 6 3 4 7 6 4 1]\n",
            " [3 9 3 6 7 1 8 9 6 7]\n",
            " [0 9 4 8 1 7 0 7 2 1]] \n",
            "\n",
            " [[0 0 0 0 0]\n",
            " [0 1 4 9 1]\n",
            " [0 2 0 6 2]\n",
            " [0 8 3 3 4]\n",
            " [0 5 9 8 5]]\n"
          ]
        }
      ]
    },
    {
      "cell_type": "markdown",
      "id": "27794913",
      "metadata": {
        "id": "27794913"
      },
      "source": [
        "#### 81. Consider an array Z = [1,2,3,4,5,6,7,8,9,10,11,12,13,14], how to generate an array R = [[1,2,3,4], [2,3,4,5], [3,4,5,6], ..., [11,12,13,14]]? (★★★)"
      ]
    },
    {
      "cell_type": "code",
      "execution_count": 6,
      "id": "f3e7878b",
      "metadata": {
        "id": "f3e7878b",
        "colab": {
          "base_uri": "https://localhost:8080/"
        },
        "outputId": "97908d5a-1ba3-4146-a939-5243c1f7bc8a"
      },
      "outputs": [
        {
          "output_type": "stream",
          "name": "stdout",
          "text": [
            "[[ 1  2  3  4]\n",
            " [ 2  3  4  5]\n",
            " [ 3  4  5  6]\n",
            " [ 4  5  6  7]\n",
            " [ 5  6  7  8]\n",
            " [ 6  7  8  9]\n",
            " [ 7  8  9 10]\n",
            " [ 8  9 10 11]\n",
            " [ 9 10 11 12]\n",
            " [10 11 12 13]\n",
            " [11 12 13 14]]\n"
          ]
        }
      ],
      "source": [
        "from numpy.lib import stride_tricks\n",
        "Z = np.arange(1,15,dtype=np.uint32)\n",
        "R = stride_tricks.as_strided(Z,(11,4),(4,4))\n",
        "print(R)"
      ]
    },
    {
      "cell_type": "markdown",
      "id": "fae786f5",
      "metadata": {
        "id": "fae786f5"
      },
      "source": [
        "#### 82. Compute a matrix rank (★★★)"
      ]
    },
    {
      "cell_type": "code",
      "execution_count": 7,
      "id": "64b9615b",
      "metadata": {
        "id": "64b9615b",
        "colab": {
          "base_uri": "https://localhost:8080/"
        },
        "outputId": "92cc6829-8058-4b9c-8a06-00d7d00e080a"
      },
      "outputs": [
        {
          "output_type": "execute_result",
          "data": {
            "text/plain": [
              "5"
            ]
          },
          "metadata": {},
          "execution_count": 7
        }
      ],
      "source": [
        "matrix = np.random.uniform(0, 1, (5, 5))\n",
        "U, S, V = np.linalg.svd(matrix)\n",
        "rank = np.sum(S > 1e-10)\n",
        "rank"
      ]
    },
    {
      "cell_type": "markdown",
      "id": "c85aa0b9",
      "metadata": {
        "id": "c85aa0b9"
      },
      "source": [
        "#### 83. How to find the most frequent value in an array?"
      ]
    },
    {
      "cell_type": "code",
      "execution_count": 10,
      "id": "056be85b",
      "metadata": {
        "id": "056be85b",
        "colab": {
          "base_uri": "https://localhost:8080/"
        },
        "outputId": "f5277dd8-f0e8-4e25-abc3-3c36fd706888"
      },
      "outputs": [
        {
          "output_type": "execute_result",
          "data": {
            "text/plain": [
              "array([0, 4, 3, 2, 4, 6, 2, 5, 1, 7, 7, 4, 2, 3, 4, 6, 9, 3, 8, 6, 3, 3,\n",
              "       8, 2, 5, 7, 8, 1, 5, 7, 7, 9, 5, 5, 7, 5, 9, 2, 6, 2, 0, 3, 5, 8,\n",
              "       6, 6, 4, 6, 0, 0])"
            ]
          },
          "metadata": {},
          "execution_count": 10
        }
      ],
      "source": [
        "arr = np.random.randint(0, 10, 50)\n",
        "arr"
      ]
    },
    {
      "cell_type": "code",
      "source": [
        "np.bincount(arr).argmax()"
      ],
      "metadata": {
        "colab": {
          "base_uri": "https://localhost:8080/"
        },
        "id": "QQHijwEdMl0B",
        "outputId": "28cc0c03-5e33-44fa-c29c-f454d9ce933e"
      },
      "id": "QQHijwEdMl0B",
      "execution_count": 11,
      "outputs": [
        {
          "output_type": "execute_result",
          "data": {
            "text/plain": [
              "5"
            ]
          },
          "metadata": {},
          "execution_count": 11
        }
      ]
    },
    {
      "cell_type": "markdown",
      "id": "0ff2344d",
      "metadata": {
        "id": "0ff2344d"
      },
      "source": [
        "#### 84. Extract all the contiguous 3x3 blocks from a random 10x10 matrix (★★★)"
      ]
    },
    {
      "cell_type": "code",
      "execution_count": 12,
      "id": "d58b1318",
      "metadata": {
        "id": "d58b1318"
      },
      "outputs": [],
      "source": [
        "matrix = np.random.randint(0, 5, (10, 10))"
      ]
    },
    {
      "cell_type": "code",
      "source": [
        "n = 3\n",
        "i = 1 + (matrix.shape[0] - 3)\n",
        "j = 1 + (matrix.shape[1] - 3)"
      ],
      "metadata": {
        "id": "KkvkqQU0MsmX"
      },
      "id": "KkvkqQU0MsmX",
      "execution_count": 13,
      "outputs": []
    },
    {
      "cell_type": "code",
      "source": [
        "C = stride_tricks.as_strided(matrix, shape=(i, j, n, n), strides=matrix.strides + matrix.strides)\n",
        "C"
      ],
      "metadata": {
        "colab": {
          "base_uri": "https://localhost:8080/"
        },
        "id": "JX5yFKKuMzEX",
        "outputId": "0cc1af07-8749-4907-dbfd-af9a0ca732a1"
      },
      "id": "JX5yFKKuMzEX",
      "execution_count": 14,
      "outputs": [
        {
          "output_type": "execute_result",
          "data": {
            "text/plain": [
              "array([[[[4, 1, 0],\n",
              "         [2, 2, 3],\n",
              "         [3, 4, 0]],\n",
              "\n",
              "        [[1, 0, 0],\n",
              "         [2, 3, 2],\n",
              "         [4, 0, 3]],\n",
              "\n",
              "        [[0, 0, 0],\n",
              "         [3, 2, 4],\n",
              "         [0, 3, 2]],\n",
              "\n",
              "        [[0, 0, 0],\n",
              "         [2, 4, 1],\n",
              "         [3, 2, 2]],\n",
              "\n",
              "        [[0, 0, 2],\n",
              "         [4, 1, 1],\n",
              "         [2, 2, 1]],\n",
              "\n",
              "        [[0, 2, 3],\n",
              "         [1, 1, 0],\n",
              "         [2, 1, 1]],\n",
              "\n",
              "        [[2, 3, 0],\n",
              "         [1, 0, 2],\n",
              "         [1, 1, 0]],\n",
              "\n",
              "        [[3, 0, 4],\n",
              "         [0, 2, 2],\n",
              "         [1, 0, 1]]],\n",
              "\n",
              "\n",
              "       [[[2, 2, 3],\n",
              "         [3, 4, 0],\n",
              "         [2, 1, 0]],\n",
              "\n",
              "        [[2, 3, 2],\n",
              "         [4, 0, 3],\n",
              "         [1, 0, 1]],\n",
              "\n",
              "        [[3, 2, 4],\n",
              "         [0, 3, 2],\n",
              "         [0, 1, 4]],\n",
              "\n",
              "        [[2, 4, 1],\n",
              "         [3, 2, 2],\n",
              "         [1, 4, 3]],\n",
              "\n",
              "        [[4, 1, 1],\n",
              "         [2, 2, 1],\n",
              "         [4, 3, 4]],\n",
              "\n",
              "        [[1, 1, 0],\n",
              "         [2, 1, 1],\n",
              "         [3, 4, 4]],\n",
              "\n",
              "        [[1, 0, 2],\n",
              "         [1, 1, 0],\n",
              "         [4, 4, 0]],\n",
              "\n",
              "        [[0, 2, 2],\n",
              "         [1, 0, 1],\n",
              "         [4, 0, 2]]],\n",
              "\n",
              "\n",
              "       [[[3, 4, 0],\n",
              "         [2, 1, 0],\n",
              "         [3, 2, 3]],\n",
              "\n",
              "        [[4, 0, 3],\n",
              "         [1, 0, 1],\n",
              "         [2, 3, 3]],\n",
              "\n",
              "        [[0, 3, 2],\n",
              "         [0, 1, 4],\n",
              "         [3, 3, 1]],\n",
              "\n",
              "        [[3, 2, 2],\n",
              "         [1, 4, 3],\n",
              "         [3, 1, 0]],\n",
              "\n",
              "        [[2, 2, 1],\n",
              "         [4, 3, 4],\n",
              "         [1, 0, 3]],\n",
              "\n",
              "        [[2, 1, 1],\n",
              "         [3, 4, 4],\n",
              "         [0, 3, 0]],\n",
              "\n",
              "        [[1, 1, 0],\n",
              "         [4, 4, 0],\n",
              "         [3, 0, 1]],\n",
              "\n",
              "        [[1, 0, 1],\n",
              "         [4, 0, 2],\n",
              "         [0, 1, 3]]],\n",
              "\n",
              "\n",
              "       [[[2, 1, 0],\n",
              "         [3, 2, 3],\n",
              "         [4, 0, 1]],\n",
              "\n",
              "        [[1, 0, 1],\n",
              "         [2, 3, 3],\n",
              "         [0, 1, 1]],\n",
              "\n",
              "        [[0, 1, 4],\n",
              "         [3, 3, 1],\n",
              "         [1, 1, 2]],\n",
              "\n",
              "        [[1, 4, 3],\n",
              "         [3, 1, 0],\n",
              "         [1, 2, 3]],\n",
              "\n",
              "        [[4, 3, 4],\n",
              "         [1, 0, 3],\n",
              "         [2, 3, 4]],\n",
              "\n",
              "        [[3, 4, 4],\n",
              "         [0, 3, 0],\n",
              "         [3, 4, 3]],\n",
              "\n",
              "        [[4, 4, 0],\n",
              "         [3, 0, 1],\n",
              "         [4, 3, 1]],\n",
              "\n",
              "        [[4, 0, 2],\n",
              "         [0, 1, 3],\n",
              "         [3, 1, 1]]],\n",
              "\n",
              "\n",
              "       [[[3, 2, 3],\n",
              "         [4, 0, 1],\n",
              "         [1, 4, 1]],\n",
              "\n",
              "        [[2, 3, 3],\n",
              "         [0, 1, 1],\n",
              "         [4, 1, 1]],\n",
              "\n",
              "        [[3, 3, 1],\n",
              "         [1, 1, 2],\n",
              "         [1, 1, 0]],\n",
              "\n",
              "        [[3, 1, 0],\n",
              "         [1, 2, 3],\n",
              "         [1, 0, 2]],\n",
              "\n",
              "        [[1, 0, 3],\n",
              "         [2, 3, 4],\n",
              "         [0, 2, 0]],\n",
              "\n",
              "        [[0, 3, 0],\n",
              "         [3, 4, 3],\n",
              "         [2, 0, 0]],\n",
              "\n",
              "        [[3, 0, 1],\n",
              "         [4, 3, 1],\n",
              "         [0, 0, 4]],\n",
              "\n",
              "        [[0, 1, 3],\n",
              "         [3, 1, 1],\n",
              "         [0, 4, 3]]],\n",
              "\n",
              "\n",
              "       [[[4, 0, 1],\n",
              "         [1, 4, 1],\n",
              "         [3, 2, 4]],\n",
              "\n",
              "        [[0, 1, 1],\n",
              "         [4, 1, 1],\n",
              "         [2, 4, 4]],\n",
              "\n",
              "        [[1, 1, 2],\n",
              "         [1, 1, 0],\n",
              "         [4, 4, 3]],\n",
              "\n",
              "        [[1, 2, 3],\n",
              "         [1, 0, 2],\n",
              "         [4, 3, 1]],\n",
              "\n",
              "        [[2, 3, 4],\n",
              "         [0, 2, 0],\n",
              "         [3, 1, 0]],\n",
              "\n",
              "        [[3, 4, 3],\n",
              "         [2, 0, 0],\n",
              "         [1, 0, 1]],\n",
              "\n",
              "        [[4, 3, 1],\n",
              "         [0, 0, 4],\n",
              "         [0, 1, 4]],\n",
              "\n",
              "        [[3, 1, 1],\n",
              "         [0, 4, 3],\n",
              "         [1, 4, 0]]],\n",
              "\n",
              "\n",
              "       [[[1, 4, 1],\n",
              "         [3, 2, 4],\n",
              "         [4, 0, 4]],\n",
              "\n",
              "        [[4, 1, 1],\n",
              "         [2, 4, 4],\n",
              "         [0, 4, 1]],\n",
              "\n",
              "        [[1, 1, 0],\n",
              "         [4, 4, 3],\n",
              "         [4, 1, 4]],\n",
              "\n",
              "        [[1, 0, 2],\n",
              "         [4, 3, 1],\n",
              "         [1, 4, 4]],\n",
              "\n",
              "        [[0, 2, 0],\n",
              "         [3, 1, 0],\n",
              "         [4, 4, 0]],\n",
              "\n",
              "        [[2, 0, 0],\n",
              "         [1, 0, 1],\n",
              "         [4, 0, 3]],\n",
              "\n",
              "        [[0, 0, 4],\n",
              "         [0, 1, 4],\n",
              "         [0, 3, 2]],\n",
              "\n",
              "        [[0, 4, 3],\n",
              "         [1, 4, 0],\n",
              "         [3, 2, 1]]],\n",
              "\n",
              "\n",
              "       [[[3, 2, 4],\n",
              "         [4, 0, 4],\n",
              "         [2, 3, 1]],\n",
              "\n",
              "        [[2, 4, 4],\n",
              "         [0, 4, 1],\n",
              "         [3, 1, 2]],\n",
              "\n",
              "        [[4, 4, 3],\n",
              "         [4, 1, 4],\n",
              "         [1, 2, 4]],\n",
              "\n",
              "        [[4, 3, 1],\n",
              "         [1, 4, 4],\n",
              "         [2, 4, 1]],\n",
              "\n",
              "        [[3, 1, 0],\n",
              "         [4, 4, 0],\n",
              "         [4, 1, 3]],\n",
              "\n",
              "        [[1, 0, 1],\n",
              "         [4, 0, 3],\n",
              "         [1, 3, 0]],\n",
              "\n",
              "        [[0, 1, 4],\n",
              "         [0, 3, 2],\n",
              "         [3, 0, 4]],\n",
              "\n",
              "        [[1, 4, 0],\n",
              "         [3, 2, 1],\n",
              "         [0, 4, 3]]]])"
            ]
          },
          "metadata": {},
          "execution_count": 14
        }
      ]
    },
    {
      "cell_type": "markdown",
      "id": "1a18b263",
      "metadata": {
        "id": "1a18b263"
      },
      "source": [
        "#### 85. Create a 2D array subclass such that Z[i,j] == Z[j,i] (★★★)"
      ]
    },
    {
      "cell_type": "code",
      "execution_count": 15,
      "id": "87f17adc",
      "metadata": {
        "id": "87f17adc"
      },
      "outputs": [],
      "source": [
        "class Symetric(np.ndarray):\n",
        "  def __setitem__(self, index, value):\n",
        "    i, j = index\n",
        "    super(Symetric, self).__setitem__((i, j), value)\n",
        "    super(Symetric, self).__setitem__((j, i), value)"
      ]
    },
    {
      "cell_type": "code",
      "source": [
        "def symetric(Z):\n",
        "  return np.asarray(Z + Z.T - np.diag(Z.diagonal())).view(Symetric)"
      ],
      "metadata": {
        "id": "cU9GReg4NMo6"
      },
      "id": "cU9GReg4NMo6",
      "execution_count": 16,
      "outputs": []
    },
    {
      "cell_type": "code",
      "source": [
        "S = symetric(np.random.randint(0, 10, (5, 5)))\n",
        "S"
      ],
      "metadata": {
        "colab": {
          "base_uri": "https://localhost:8080/"
        },
        "id": "toUPgdWHNZ_g",
        "outputId": "81b9af74-f4a5-4110-cfab-504697f5868b"
      },
      "id": "toUPgdWHNZ_g",
      "execution_count": 17,
      "outputs": [
        {
          "output_type": "execute_result",
          "data": {
            "text/plain": [
              "Symetric([[ 1,  3,  9,  9, 12],\n",
              "          [ 3,  0,  3,  1, 12],\n",
              "          [ 9,  3,  4, 10,  7],\n",
              "          [ 9,  1, 10,  1,  6],\n",
              "          [12, 12,  7,  6,  8]])"
            ]
          },
          "metadata": {},
          "execution_count": 17
        }
      ]
    },
    {
      "cell_type": "code",
      "source": [
        "S[2, 3] = 42\n",
        "S"
      ],
      "metadata": {
        "colab": {
          "base_uri": "https://localhost:8080/"
        },
        "id": "O64-AAElNfYh",
        "outputId": "4633200a-ce82-4192-acce-65f6883ef4c4"
      },
      "id": "O64-AAElNfYh",
      "execution_count": 18,
      "outputs": [
        {
          "output_type": "execute_result",
          "data": {
            "text/plain": [
              "Symetric([[ 1,  3,  9,  9, 12],\n",
              "          [ 3,  0,  3,  1, 12],\n",
              "          [ 9,  3,  4, 42,  7],\n",
              "          [ 9,  1, 42,  1,  6],\n",
              "          [12, 12,  7,  6,  8]])"
            ]
          },
          "metadata": {},
          "execution_count": 18
        }
      ]
    },
    {
      "cell_type": "markdown",
      "id": "f85f2cad",
      "metadata": {
        "id": "f85f2cad"
      },
      "source": [
        "#### 86. Consider a set of p matrices wich shape (n,n) and a set of p vectors with shape (n,1). How to compute the sum of of the p matrix products at once? (result has shape (n,1)) (★★★)\n",
        "\n",
        "It works, because:\n",
        "  - M is (p,n,n)\n",
        "  - V is (p,n,1)\n",
        "  - Thus, summing over the paired axes 0 and 0 (of M and V independently) and 2 and 1, to remain with a (n,1) vector."
      ]
    },
    {
      "cell_type": "code",
      "execution_count": 19,
      "id": "8d230557",
      "metadata": {
        "id": "8d230557"
      },
      "outputs": [],
      "source": [
        "p, n = 10, 20\n",
        "M = np.ones((p, n, n))\n",
        "V = np.ones((p, n, 1))"
      ]
    },
    {
      "cell_type": "code",
      "source": [
        "S = np.tensordot(M, V, axes=[[0, 2], [0, 1]])\n",
        "S"
      ],
      "metadata": {
        "colab": {
          "base_uri": "https://localhost:8080/"
        },
        "id": "hSAJjpcKNt1N",
        "outputId": "57d3f984-fcb4-484b-bb09-91a12d64cc01"
      },
      "id": "hSAJjpcKNt1N",
      "execution_count": 20,
      "outputs": [
        {
          "output_type": "execute_result",
          "data": {
            "text/plain": [
              "array([[200.],\n",
              "       [200.],\n",
              "       [200.],\n",
              "       [200.],\n",
              "       [200.],\n",
              "       [200.],\n",
              "       [200.],\n",
              "       [200.],\n",
              "       [200.],\n",
              "       [200.],\n",
              "       [200.],\n",
              "       [200.],\n",
              "       [200.],\n",
              "       [200.],\n",
              "       [200.],\n",
              "       [200.],\n",
              "       [200.],\n",
              "       [200.],\n",
              "       [200.],\n",
              "       [200.]])"
            ]
          },
          "metadata": {},
          "execution_count": 20
        }
      ]
    },
    {
      "cell_type": "markdown",
      "id": "5afb72c8",
      "metadata": {
        "id": "5afb72c8"
      },
      "source": [
        "#### 87. Consider a 16x16 array, how to get the block-sum (block size is 4x4)? (★★★)"
      ]
    },
    {
      "cell_type": "code",
      "execution_count": 21,
      "id": "e86f47a9",
      "metadata": {
        "id": "e86f47a9"
      },
      "outputs": [],
      "source": [
        "Z = np.ones((16, 16))\n",
        "k = 4\n",
        "S = np.add.reduceat(np.add.reduceat(Z, np.arange(0, Z.shape[0], k), axis=0),\n",
        "                                       np.arange(0, Z.shape[1], k), axis=1)"
      ]
    },
    {
      "cell_type": "code",
      "source": [
        "S"
      ],
      "metadata": {
        "colab": {
          "base_uri": "https://localhost:8080/"
        },
        "id": "ZuO2eoexObIW",
        "outputId": "1cdc1837-7eed-4897-d75a-0dbd33d5c0d9"
      },
      "id": "ZuO2eoexObIW",
      "execution_count": 22,
      "outputs": [
        {
          "output_type": "execute_result",
          "data": {
            "text/plain": [
              "array([[16., 16., 16., 16.],\n",
              "       [16., 16., 16., 16.],\n",
              "       [16., 16., 16., 16.],\n",
              "       [16., 16., 16., 16.]])"
            ]
          },
          "metadata": {},
          "execution_count": 22
        }
      ]
    },
    {
      "cell_type": "markdown",
      "id": "6094d37c",
      "metadata": {
        "id": "6094d37c"
      },
      "source": [
        "#### 88. How to implement the Game of Life using numpy arrays? (★★★)"
      ]
    },
    {
      "cell_type": "code",
      "execution_count": 23,
      "id": "a93e715f",
      "metadata": {
        "id": "a93e715f"
      },
      "outputs": [],
      "source": [
        "def iterate(Z):\n",
        "  N = (Z[0:-2, 0:-2] + Z[0:-2, 1:-1] + Z[0:-2, 2:] +\n",
        "       Z[1:-1, 0:-2]                 + Z[1:-1, 2:] +\n",
        "       Z[2:  , 0:-2] + Z[2:  , 1:-1] + Z[2:  , 2:])\n",
        "  \n",
        "  birth = (N == 3) & (Z[1:-1, 1:-1] == 0)\n",
        "  survive = ((N == 2) | (N == 3)) * (Z[1:-1, 1:-1] == 1)\n",
        "  Z[...] = 0\n",
        "  Z[1:-1, 1:-1][birth | survive] = 1\n",
        "  return Z"
      ]
    },
    {
      "cell_type": "code",
      "source": [
        "Z = np.random.randint(0, 2, (50, 50))\n",
        "Z"
      ],
      "metadata": {
        "colab": {
          "base_uri": "https://localhost:8080/"
        },
        "id": "TBOmUn8ePmJh",
        "outputId": "5f1c8136-c570-41ca-e2fc-8e8186b4484a"
      },
      "id": "TBOmUn8ePmJh",
      "execution_count": 24,
      "outputs": [
        {
          "output_type": "execute_result",
          "data": {
            "text/plain": [
              "array([[1, 1, 1, ..., 1, 1, 1],\n",
              "       [0, 0, 1, ..., 1, 1, 1],\n",
              "       [0, 1, 0, ..., 1, 1, 0],\n",
              "       ...,\n",
              "       [0, 0, 1, ..., 1, 1, 1],\n",
              "       [0, 1, 0, ..., 0, 0, 1],\n",
              "       [0, 0, 1, ..., 1, 1, 1]])"
            ]
          },
          "metadata": {},
          "execution_count": 24
        }
      ]
    },
    {
      "cell_type": "code",
      "source": [
        "for i in range(100):\n",
        "  Z = iterate(Z)"
      ],
      "metadata": {
        "id": "BKUIlDyxPx5O"
      },
      "id": "BKUIlDyxPx5O",
      "execution_count": 25,
      "outputs": []
    },
    {
      "cell_type": "code",
      "source": [
        "Z"
      ],
      "metadata": {
        "colab": {
          "base_uri": "https://localhost:8080/"
        },
        "id": "gqFuZN5tPvan",
        "outputId": "72570d5e-db18-4c77-ed69-5ad955cb842e"
      },
      "id": "gqFuZN5tPvan",
      "execution_count": 26,
      "outputs": [
        {
          "output_type": "execute_result",
          "data": {
            "text/plain": [
              "array([[0, 0, 0, ..., 0, 0, 0],\n",
              "       [0, 0, 0, ..., 0, 0, 0],\n",
              "       [0, 0, 0, ..., 0, 0, 0],\n",
              "       ...,\n",
              "       [0, 0, 0, ..., 0, 0, 0],\n",
              "       [0, 0, 0, ..., 0, 0, 0],\n",
              "       [0, 0, 0, ..., 0, 0, 0]])"
            ]
          },
          "metadata": {},
          "execution_count": 26
        }
      ]
    },
    {
      "cell_type": "markdown",
      "id": "a173cf96",
      "metadata": {
        "id": "a173cf96"
      },
      "source": [
        "#### 89. How to get the n largest values of an array (★★★)"
      ]
    },
    {
      "cell_type": "code",
      "execution_count": 27,
      "id": "b7c2ff35",
      "metadata": {
        "id": "b7c2ff35"
      },
      "outputs": [],
      "source": [
        "Z = np.arange(10000)\n",
        "np.random.shuffle(Z)\n",
        "n = 5"
      ]
    },
    {
      "cell_type": "code",
      "source": [
        "Z[np.argpartition(-Z, n)[:n]]"
      ],
      "metadata": {
        "colab": {
          "base_uri": "https://localhost:8080/"
        },
        "id": "vILBHwEXP9Cz",
        "outputId": "7640d9f7-ab3c-467d-e17c-1fb29652a836"
      },
      "id": "vILBHwEXP9Cz",
      "execution_count": 28,
      "outputs": [
        {
          "output_type": "execute_result",
          "data": {
            "text/plain": [
              "array([9997, 9999, 9998, 9996, 9995])"
            ]
          },
          "metadata": {},
          "execution_count": 28
        }
      ]
    },
    {
      "cell_type": "markdown",
      "id": "15db2d01",
      "metadata": {
        "id": "15db2d01"
      },
      "source": [
        "#### 90. Given an arbitrary number of vectors, build the cartesian product (every combinations of every item) (★★★)"
      ]
    },
    {
      "cell_type": "code",
      "execution_count": 29,
      "id": "a9a4633d",
      "metadata": {
        "id": "a9a4633d"
      },
      "outputs": [],
      "source": [
        "def cartesian(arrays):\n",
        "  arrays = [np.asarray(a) for a in arrays]\n",
        "  shape = (len(x) for x in arrays)\n",
        "  \n",
        "  ix = np.indices(shape, dtype=int)\n",
        "  ix = ix.reshape(len(arrays), -1).T\n",
        "\n",
        "  for n, arr, in enumerate(arrays):\n",
        "    ix[:, n] = arrays[n][ix[:, n]]\n",
        "\n",
        "  return ix"
      ]
    },
    {
      "cell_type": "code",
      "source": [
        "cartesian(([1, 2, 3], [4, 5], [6, 7]))"
      ],
      "metadata": {
        "colab": {
          "base_uri": "https://localhost:8080/"
        },
        "id": "RKPADfdGQbWt",
        "outputId": "55026115-b9da-4082-ee33-5d9465315dd2"
      },
      "id": "RKPADfdGQbWt",
      "execution_count": 30,
      "outputs": [
        {
          "output_type": "execute_result",
          "data": {
            "text/plain": [
              "array([[1, 4, 6],\n",
              "       [1, 4, 7],\n",
              "       [1, 5, 6],\n",
              "       [1, 5, 7],\n",
              "       [2, 4, 6],\n",
              "       [2, 4, 7],\n",
              "       [2, 5, 6],\n",
              "       [2, 5, 7],\n",
              "       [3, 4, 6],\n",
              "       [3, 4, 7],\n",
              "       [3, 5, 6],\n",
              "       [3, 5, 7]])"
            ]
          },
          "metadata": {},
          "execution_count": 30
        }
      ]
    },
    {
      "cell_type": "markdown",
      "id": "5d94d1ef",
      "metadata": {
        "id": "5d94d1ef"
      },
      "source": [
        "#### 91. How to create a record array from a regular array? (★★★)"
      ]
    },
    {
      "cell_type": "code",
      "execution_count": 31,
      "id": "b1dae380",
      "metadata": {
        "id": "b1dae380"
      },
      "outputs": [],
      "source": [
        "Z = np.array([\n",
        "    (\"Hello\", 2.5, 3),\n",
        "    (\"World\", 3.6, 2)\n",
        "])"
      ]
    },
    {
      "cell_type": "code",
      "source": [
        "R = np.core.records.fromarrays(Z.T, \n",
        "                               names='col1, col2, col3',\n",
        "                               formats='S8, f8, i8')"
      ],
      "metadata": {
        "id": "GB3YOlzLQuAU"
      },
      "id": "GB3YOlzLQuAU",
      "execution_count": 32,
      "outputs": []
    },
    {
      "cell_type": "code",
      "source": [
        "R"
      ],
      "metadata": {
        "colab": {
          "base_uri": "https://localhost:8080/"
        },
        "id": "GJPWgB3nQ3uO",
        "outputId": "2c779637-713e-4106-a31e-b1dc02ddfa9f"
      },
      "id": "GJPWgB3nQ3uO",
      "execution_count": 33,
      "outputs": [
        {
          "output_type": "execute_result",
          "data": {
            "text/plain": [
              "rec.array([(b'Hello', 2.5, 3), (b'World', 3.6, 2)],\n",
              "          dtype=[('col1', 'S8'), ('col2', '<f8'), ('col3', '<i8')])"
            ]
          },
          "metadata": {},
          "execution_count": 33
        }
      ]
    },
    {
      "cell_type": "markdown",
      "id": "114ccc36",
      "metadata": {
        "id": "114ccc36"
      },
      "source": [
        "#### 92. Consider a large vector Z, compute Z to the power of 3 using 3 different methods (★★★)"
      ]
    },
    {
      "cell_type": "code",
      "execution_count": 34,
      "id": "877c65d6",
      "metadata": {
        "id": "877c65d6"
      },
      "outputs": [],
      "source": [
        "x = np.random.rand(int(5e7))"
      ]
    },
    {
      "cell_type": "code",
      "source": [
        "%timeit np.power(x, 3)\n",
        "%timeit x * x * x\n",
        "%timeit np.einsum('i,i,i->i', x, x, x)"
      ],
      "metadata": {
        "colab": {
          "base_uri": "https://localhost:8080/"
        },
        "id": "1ewe8hVDQ94p",
        "outputId": "2b49243f-d552-498f-9c8a-be404e4aed1b"
      },
      "id": "1ewe8hVDQ94p",
      "execution_count": 35,
      "outputs": [
        {
          "output_type": "stream",
          "name": "stdout",
          "text": [
            "3.45 s ± 10.7 ms per loop (mean ± std. dev. of 7 runs, 1 loop each)\n",
            "197 ms ± 3 ms per loop (mean ± std. dev. of 7 runs, 10 loops each)\n",
            "155 ms ± 2 ms per loop (mean ± std. dev. of 7 runs, 10 loops each)\n"
          ]
        }
      ]
    },
    {
      "cell_type": "markdown",
      "id": "d614fee4",
      "metadata": {
        "id": "d614fee4"
      },
      "source": [
        "#### 93. Consider two arrays A and B of shape (8,3) and (2,2). How to find rows of A that contain elements of each row of B regardless of the order of the elements in B? (★★★)"
      ]
    },
    {
      "cell_type": "code",
      "execution_count": 36,
      "id": "e6807a84",
      "metadata": {
        "id": "e6807a84"
      },
      "outputs": [],
      "source": [
        "A = np.random.randint(0, 5, (8, 3))\n",
        "B = np.random.randint(0, 5, (2, 2))"
      ]
    },
    {
      "cell_type": "code",
      "source": [
        "C = (A[..., np.newaxis, np.newaxis] == B)\n",
        "C"
      ],
      "metadata": {
        "colab": {
          "base_uri": "https://localhost:8080/"
        },
        "id": "M9uV3XGiRffr",
        "outputId": "ba75eff7-cbea-4c2a-e648-2f3eba89e7e2"
      },
      "id": "M9uV3XGiRffr",
      "execution_count": 37,
      "outputs": [
        {
          "output_type": "execute_result",
          "data": {
            "text/plain": [
              "array([[[[False, False],\n",
              "         [ True, False]],\n",
              "\n",
              "        [[False, False],\n",
              "         [False, False]],\n",
              "\n",
              "        [[False, False],\n",
              "         [False, False]]],\n",
              "\n",
              "\n",
              "       [[[False, False],\n",
              "         [False,  True]],\n",
              "\n",
              "        [[False, False],\n",
              "         [ True, False]],\n",
              "\n",
              "        [[False, False],\n",
              "         [False, False]]],\n",
              "\n",
              "\n",
              "       [[[False, False],\n",
              "         [False,  True]],\n",
              "\n",
              "        [[False, False],\n",
              "         [False, False]],\n",
              "\n",
              "        [[False, False],\n",
              "         [ True, False]]],\n",
              "\n",
              "\n",
              "       [[[False, False],\n",
              "         [False, False]],\n",
              "\n",
              "        [[False, False],\n",
              "         [False, False]],\n",
              "\n",
              "        [[False, False],\n",
              "         [False, False]]],\n",
              "\n",
              "\n",
              "       [[[ True,  True],\n",
              "         [False, False]],\n",
              "\n",
              "        [[False, False],\n",
              "         [ True, False]],\n",
              "\n",
              "        [[ True,  True],\n",
              "         [False, False]]],\n",
              "\n",
              "\n",
              "       [[[False, False],\n",
              "         [False, False]],\n",
              "\n",
              "        [[ True,  True],\n",
              "         [False, False]],\n",
              "\n",
              "        [[False, False],\n",
              "         [False, False]]],\n",
              "\n",
              "\n",
              "       [[[False, False],\n",
              "         [ True, False]],\n",
              "\n",
              "        [[False, False],\n",
              "         [False, False]],\n",
              "\n",
              "        [[False, False],\n",
              "         [False, False]]],\n",
              "\n",
              "\n",
              "       [[[False, False],\n",
              "         [False, False]],\n",
              "\n",
              "        [[False, False],\n",
              "         [ True, False]],\n",
              "\n",
              "        [[False, False],\n",
              "         [False, False]]]])"
            ]
          },
          "metadata": {},
          "execution_count": 37
        }
      ]
    },
    {
      "cell_type": "code",
      "source": [
        "rows = np.where(C.any((3,1)).all(1))[0]\n",
        "rows"
      ],
      "metadata": {
        "colab": {
          "base_uri": "https://localhost:8080/"
        },
        "id": "aFT49uHZRk4J",
        "outputId": "06bd8cf0-3f33-4a1e-f7c6-22d97ac896b4"
      },
      "id": "aFT49uHZRk4J",
      "execution_count": 41,
      "outputs": [
        {
          "output_type": "execute_result",
          "data": {
            "text/plain": [
              "array([1, 2, 3, 5, 7])"
            ]
          },
          "metadata": {},
          "execution_count": 41
        }
      ]
    },
    {
      "cell_type": "markdown",
      "id": "b0eedca6",
      "metadata": {
        "id": "b0eedca6"
      },
      "source": [
        "#### 94. Considering a 10x3 matrix, extract rows with unequal values (e.g. [2,2,3]) (★★★)"
      ]
    },
    {
      "cell_type": "code",
      "execution_count": 42,
      "id": "fc136ce2",
      "metadata": {
        "id": "fc136ce2",
        "colab": {
          "base_uri": "https://localhost:8080/"
        },
        "outputId": "84783158-ae59-40a6-c46e-0808dd650160"
      },
      "outputs": [
        {
          "output_type": "execute_result",
          "data": {
            "text/plain": [
              "array([[2, 1, 1],\n",
              "       [4, 4, 0],\n",
              "       [0, 1, 3],\n",
              "       [0, 2, 0],\n",
              "       [1, 1, 2],\n",
              "       [4, 4, 3],\n",
              "       [1, 1, 0],\n",
              "       [3, 0, 0],\n",
              "       [3, 2, 3],\n",
              "       [3, 4, 0]])"
            ]
          },
          "metadata": {},
          "execution_count": 42
        }
      ],
      "source": [
        "Z = np.random.randint(0, 5, (10, 3))\n",
        "Z"
      ]
    },
    {
      "cell_type": "code",
      "source": [
        "E = np.all(Z[:, 1:] == Z[:, :-1], axis=1)\n",
        "U = Z[~E]\n",
        "U"
      ],
      "metadata": {
        "colab": {
          "base_uri": "https://localhost:8080/"
        },
        "id": "nEuG3PWgSIDU",
        "outputId": "d42fdc9c-9b69-4135-81ff-a9946b70dfa9"
      },
      "id": "nEuG3PWgSIDU",
      "execution_count": 43,
      "outputs": [
        {
          "output_type": "execute_result",
          "data": {
            "text/plain": [
              "array([[2, 1, 1],\n",
              "       [4, 4, 0],\n",
              "       [0, 1, 3],\n",
              "       [0, 2, 0],\n",
              "       [1, 1, 2],\n",
              "       [4, 4, 3],\n",
              "       [1, 1, 0],\n",
              "       [3, 0, 0],\n",
              "       [3, 2, 3],\n",
              "       [3, 4, 0]])"
            ]
          },
          "metadata": {},
          "execution_count": 43
        }
      ]
    },
    {
      "cell_type": "markdown",
      "id": "a65ec1cf",
      "metadata": {
        "id": "a65ec1cf"
      },
      "source": [
        "#### 95. Convert a vector of ints into a matrix binary representation (★★★)"
      ]
    },
    {
      "cell_type": "code",
      "execution_count": 44,
      "id": "323cdf4c",
      "metadata": {
        "id": "323cdf4c",
        "colab": {
          "base_uri": "https://localhost:8080/"
        },
        "outputId": "8d176871-1ac0-46bd-f4e8-d0f977834d02"
      },
      "outputs": [
        {
          "output_type": "execute_result",
          "data": {
            "text/plain": [
              "array([[0, 0, 0, 0, 0, 0, 0, 0],\n",
              "       [0, 0, 0, 0, 0, 0, 0, 1],\n",
              "       [0, 0, 0, 0, 0, 0, 1, 0],\n",
              "       [0, 0, 0, 0, 0, 0, 1, 1],\n",
              "       [0, 0, 0, 0, 1, 1, 1, 1],\n",
              "       [0, 0, 0, 1, 0, 0, 0, 0],\n",
              "       [0, 0, 1, 0, 0, 0, 0, 0],\n",
              "       [0, 1, 0, 0, 0, 0, 0, 0],\n",
              "       [1, 0, 0, 0, 0, 0, 0, 0]])"
            ]
          },
          "metadata": {},
          "execution_count": 44
        }
      ],
      "source": [
        "I = np.array([0, 1, 2, 3, 15, 16, 32, 64, 128])\n",
        "B = ((I.reshape(-1, 1) & (2 ** np.arange(8))) != 0).astype(int)\n",
        "B[:, ::-1]"
      ]
    },
    {
      "cell_type": "markdown",
      "id": "75b9397f",
      "metadata": {
        "id": "75b9397f"
      },
      "source": [
        "#### 96. Given a two dimensional array, how to extract unique rows? (★★★)"
      ]
    },
    {
      "cell_type": "code",
      "execution_count": 47,
      "id": "9bb56a47",
      "metadata": {
        "id": "9bb56a47",
        "colab": {
          "base_uri": "https://localhost:8080/"
        },
        "outputId": "77d5993f-b4e2-4642-cd76-be002828431f"
      },
      "outputs": [
        {
          "output_type": "execute_result",
          "data": {
            "text/plain": [
              "array([[0, 1, 1],\n",
              "       [1, 0, 0],\n",
              "       [1, 0, 1],\n",
              "       [1, 1, 0],\n",
              "       [1, 1, 1]])"
            ]
          },
          "metadata": {},
          "execution_count": 47
        }
      ],
      "source": [
        "Z = np.random.randint(0,2,(6,3))\n",
        "np.unique(Z, axis=0)"
      ]
    },
    {
      "cell_type": "markdown",
      "id": "82aaf21b",
      "metadata": {
        "id": "82aaf21b"
      },
      "source": [
        "#### 97. Considering 2 vectors A & B, write the einsum equivalent of inner, outer, sum, and mul function (★★★)"
      ]
    },
    {
      "cell_type": "code",
      "execution_count": 48,
      "id": "cedcefd9",
      "metadata": {
        "id": "cedcefd9"
      },
      "outputs": [],
      "source": [
        "A = np.random.uniform(0, 1, 10)\n",
        "B = np.random.uniform(0, 1, 10)"
      ]
    },
    {
      "cell_type": "code",
      "source": [
        "np.einsum('i->', A)"
      ],
      "metadata": {
        "colab": {
          "base_uri": "https://localhost:8080/"
        },
        "id": "9Yqg_mZ7S4z7",
        "outputId": "ecea4355-8aa0-4589-fcc8-2ca195f0b1a3"
      },
      "id": "9Yqg_mZ7S4z7",
      "execution_count": 49,
      "outputs": [
        {
          "output_type": "execute_result",
          "data": {
            "text/plain": [
              "5.647078654709999"
            ]
          },
          "metadata": {},
          "execution_count": 49
        }
      ]
    },
    {
      "cell_type": "code",
      "source": [
        "np.einsum('i,i->i', A, B)"
      ],
      "metadata": {
        "colab": {
          "base_uri": "https://localhost:8080/"
        },
        "id": "hR7BdrVFS9kp",
        "outputId": "e92319cb-e3b4-4db5-a0f8-df9f3671c591"
      },
      "id": "hR7BdrVFS9kp",
      "execution_count": 50,
      "outputs": [
        {
          "output_type": "execute_result",
          "data": {
            "text/plain": [
              "array([0.06609352, 0.78932581, 0.00669521, 0.70853404, 0.07157981,\n",
              "       0.38519347, 0.17764127, 0.07973218, 0.84591577, 0.21863714])"
            ]
          },
          "metadata": {},
          "execution_count": 50
        }
      ]
    },
    {
      "cell_type": "code",
      "source": [
        "np.einsum('i,i', A, B)"
      ],
      "metadata": {
        "colab": {
          "base_uri": "https://localhost:8080/"
        },
        "id": "kScvayc0TA6M",
        "outputId": "a265f133-f8d3-40b0-820e-2a6808edae47"
      },
      "id": "kScvayc0TA6M",
      "execution_count": 51,
      "outputs": [
        {
          "output_type": "execute_result",
          "data": {
            "text/plain": [
              "3.3493482470011866"
            ]
          },
          "metadata": {},
          "execution_count": 51
        }
      ]
    },
    {
      "cell_type": "code",
      "source": [
        "np.einsum('i,j->ij', A, B)"
      ],
      "metadata": {
        "colab": {
          "base_uri": "https://localhost:8080/"
        },
        "id": "LPp7nr6ETEi3",
        "outputId": "c96074e4-c03c-4adf-f2a6-65c3b26e2ab8"
      },
      "id": "LPp7nr6ETEi3",
      "execution_count": 52,
      "outputs": [
        {
          "output_type": "execute_result",
          "data": {
            "text/plain": [
              "array([[6.60935248e-02, 1.92077936e-01, 2.09563268e-01, 1.64360854e-01,\n",
              "        9.58291772e-02, 9.33437516e-02, 1.11453370e-01, 2.19951400e-02,\n",
              "        2.07307421e-01, 1.73022016e-01],\n",
              "       [2.71604985e-01, 7.89325811e-01, 8.61180101e-01, 6.75425128e-01,\n",
              "        3.93800790e-01, 3.83587172e-01, 4.58006907e-01, 9.03869130e-02,\n",
              "        8.51909915e-01, 7.11017339e-01],\n",
              "       [2.11158216e-03, 6.13658215e-03, 6.69521047e-03, 5.25106582e-03,\n",
              "        3.06158859e-03, 2.98218323e-03, 3.56075650e-03, 7.02709463e-04,\n",
              "        6.62313978e-03, 5.52777604e-03],\n",
              "       [2.84918891e-01, 8.28018066e-01, 9.03394609e-01, 7.08534044e-01,\n",
              "        4.13104657e-01, 4.02390375e-01, 4.80458119e-01, 9.48176227e-02,\n",
              "        8.93670004e-01, 7.45870962e-01],\n",
              "       [4.93687038e-02, 1.43473037e-01, 1.56533744e-01, 1.22769702e-01,\n",
              "        7.15798148e-02, 6.97233207e-02, 8.32503400e-02, 1.64293182e-02,\n",
              "        1.54848734e-01, 1.29239176e-01],\n",
              "       [2.72742352e-01, 7.92631173e-01, 8.64786358e-01, 6.78253522e-01,\n",
              "        3.95449861e-01, 3.85193473e-01, 4.59924847e-01, 9.07654151e-02,\n",
              "        8.55477353e-01, 7.13994778e-01],\n",
              "       [1.05343945e-01, 3.06145688e-01, 3.34014891e-01, 2.61968490e-01,\n",
              "        1.52738466e-01, 1.48777041e-01, 1.77641271e-01, 3.50572138e-02,\n",
              "        3.30419383e-01, 2.75773185e-01],\n",
              "       [2.39588428e-01, 6.96280777e-01, 7.59664946e-01, 5.95806607e-01,\n",
              "        3.47379898e-01, 3.38370253e-01, 4.04017455e-01, 7.97321830e-02,\n",
              "        7.51487522e-01, 6.27203239e-01],\n",
              "       [2.69693939e-01, 7.83772018e-01, 8.55120732e-01, 6.70672754e-01,\n",
              "        3.91029959e-01, 3.80888206e-01, 4.54784315e-01, 8.97509396e-02,\n",
              "        8.45915772e-01, 7.06014534e-01],\n",
              "       [8.35182703e-02, 2.42716923e-01, 2.64812048e-01, 2.07692574e-01,\n",
              "        1.21093362e-01, 1.17952684e-01, 1.40836681e-01, 2.77938883e-02,\n",
              "        2.61961475e-01, 2.18637144e-01]])"
            ]
          },
          "metadata": {},
          "execution_count": 52
        }
      ]
    },
    {
      "cell_type": "markdown",
      "id": "7741e17f",
      "metadata": {
        "id": "7741e17f"
      },
      "source": [
        "#### 98. Considering a path described by two vectors (X,Y), how to sample it using equidistant samples (★★★)?"
      ]
    },
    {
      "cell_type": "code",
      "execution_count": 53,
      "id": "0b2432fe",
      "metadata": {
        "id": "0b2432fe"
      },
      "outputs": [],
      "source": [
        "phi = np.arange(0, 10 * np.pi, 0.1)\n",
        "a = 1\n",
        "x = a * phi * np.cos(phi)\n",
        "y = a * phi * np.sin(phi)"
      ]
    },
    {
      "cell_type": "code",
      "source": [
        "dr = (np.diff(x) ** 2 + np.diff(y) ** 2) **.5\n",
        "dr"
      ],
      "metadata": {
        "colab": {
          "base_uri": "https://localhost:8080/"
        },
        "id": "8_-npx-bTTA1",
        "outputId": "2fbf329e-41b8-4106-b15b-4bf76705f555"
      },
      "id": "8_-npx-bTTA1",
      "execution_count": 54,
      "outputs": [
        {
          "output_type": "execute_result",
          "data": {
            "text/plain": [
              "array([0.1       , 0.10099422, 0.10295387, 0.10582533, 0.10953691,\n",
              "       0.11400658, 0.11914907, 0.12488128, 0.1311259 , 0.13781329,\n",
              "       0.14488215, 0.15227936, 0.15995938, 0.16788341, 0.17601848,\n",
              "       0.18433667, 0.19281427, 0.20143115, 0.21017019, 0.21901677,\n",
              "       0.22795836, 0.2369842 , 0.24608504, 0.25525285, 0.26448065,\n",
              "       0.2737624 , 0.28309278, 0.29246713, 0.30188136, 0.31133186,\n",
              "       0.32081541, 0.33032917, 0.33987061, 0.34943745, 0.35902767,\n",
              "       0.36863944, 0.37827112, 0.38792122, 0.39758841, 0.40727146,\n",
              "       0.41696928, 0.42668085, 0.43640526, 0.44614167, 0.4558893 ,\n",
              "       0.46564746, 0.4754155 , 0.48519281, 0.49497885, 0.50477312,\n",
              "       0.51457514, 0.52438447, 0.53420072, 0.54402351, 0.55385249,\n",
              "       0.56368734, 0.57352776, 0.58337346, 0.59322418, 0.60307968,\n",
              "       0.61293972, 0.62280409, 0.63267259, 0.64254503, 0.65242122,\n",
              "       0.662301  , 0.67218422, 0.68207071, 0.69196035, 0.701853  ,\n",
              "       0.71174853, 0.72164683, 0.73154777, 0.74145127, 0.75135721,\n",
              "       0.7612655 , 0.77117605, 0.78108877, 0.79100358, 0.80092041,\n",
              "       0.81083918, 0.82075982, 0.83068226, 0.84060644, 0.8505323 ,\n",
              "       0.86045978, 0.87038883, 0.88031938, 0.8902514 , 0.90018483,\n",
              "       0.91011962, 0.92005574, 0.92999314, 0.93993178, 0.94987161,\n",
              "       0.95981261, 0.96975474, 0.97969796, 0.98964224, 0.99958755,\n",
              "       1.00953386, 1.01948114, 1.02942935, 1.03937848, 1.0493285 ,\n",
              "       1.05927938, 1.0692311 , 1.07918364, 1.08913696, 1.09909106,\n",
              "       1.10904591, 1.11900149, 1.12895779, 1.13891477, 1.14887243,\n",
              "       1.15883075, 1.16878971, 1.17874929, 1.18870948, 1.19867026,\n",
              "       1.20863162, 1.21859355, 1.22855603, 1.23851904, 1.24848258,\n",
              "       1.25844664, 1.26841119, 1.27837623, 1.28834175, 1.29830773,\n",
              "       1.30827417, 1.31824106, 1.32820838, 1.33817612, 1.34814428,\n",
              "       1.35811285, 1.36808181, 1.37805117, 1.38802091, 1.39799101,\n",
              "       1.40796149, 1.41793232, 1.4279035 , 1.43787502, 1.44784688,\n",
              "       1.45781906, 1.46779157, 1.47776439, 1.48773753, 1.49771096,\n",
              "       1.50768469, 1.51765871, 1.52763302, 1.53760761, 1.54758247,\n",
              "       1.5575576 , 1.56753299, 1.57750864, 1.58748455, 1.59746071,\n",
              "       1.60743711, 1.61741375, 1.62739062, 1.63736773, 1.64734506,\n",
              "       1.65732262, 1.66730039, 1.67727838, 1.68725659, 1.697235  ,\n",
              "       1.70721361, 1.71719242, 1.72717143, 1.73715064, 1.74713003,\n",
              "       1.75710961, 1.76708938, 1.77706932, 1.78704944, 1.79702974,\n",
              "       1.80701021, 1.81699085, 1.82697165, 1.83695262, 1.84693375,\n",
              "       1.85691504, 1.86689648, 1.87687808, 1.88685982, 1.89684172,\n",
              "       1.90682376, 1.91680594, 1.92678827, 1.93677073, 1.94675334,\n",
              "       1.95673607, 1.96671894, 1.97670195, 1.98668508, 1.99666833,\n",
              "       2.00665172, 2.01663522, 2.02661885, 2.0366026 , 2.04658647,\n",
              "       2.05657045, 2.06655454, 2.07653875, 2.08652307, 2.09650751,\n",
              "       2.10649204, 2.11647669, 2.12646144, 2.13644629, 2.14643125,\n",
              "       2.15641631, 2.16640146, 2.17638672, 2.18637207, 2.19635752,\n",
              "       2.20634306, 2.21632869, 2.22631442, 2.23630023, 2.24628613,\n",
              "       2.25627213, 2.26625821, 2.27624437, 2.28623062, 2.29621695,\n",
              "       2.30620337, 2.31618986, 2.32617644, 2.3361631 , 2.34614983,\n",
              "       2.35613664, 2.36612353, 2.37611049, 2.38609753, 2.39608464,\n",
              "       2.40607182, 2.41605907, 2.4260464 , 2.43603379, 2.44602126,\n",
              "       2.45600879, 2.46599639, 2.47598405, 2.48597178, 2.49595958,\n",
              "       2.50594744, 2.51593536, 2.52592335, 2.5359114 , 2.54589951,\n",
              "       2.55588768, 2.56587591, 2.57586419, 2.58585254, 2.59584094,\n",
              "       2.6058294 , 2.61581792, 2.62580649, 2.63579512, 2.64578381,\n",
              "       2.65577254, 2.66576133, 2.67575017, 2.68573907, 2.69572801,\n",
              "       2.70571701, 2.71570606, 2.72569515, 2.7356843 , 2.74567349,\n",
              "       2.75566273, 2.76565202, 2.77564136, 2.78563075, 2.79562018,\n",
              "       2.80560965, 2.81559917, 2.82558874, 2.83557835, 2.845568  ,\n",
              "       2.8555577 , 2.86554744, 2.87553722, 2.88552704, 2.89551691,\n",
              "       2.90550681, 2.91549676, 2.92548675, 2.93547677, 2.94546684,\n",
              "       2.95545695, 2.96544709, 2.97543727, 2.98542749, 2.99541775,\n",
              "       3.00540804, 3.01539837, 3.02538874, 3.03537915, 3.04536958,\n",
              "       3.05536006, 3.06535057, 3.07534111, 3.08533169, 3.0953223 ,\n",
              "       3.10531295, 3.11530363, 3.12529434, 3.13528508])"
            ]
          },
          "metadata": {},
          "execution_count": 54
        }
      ]
    },
    {
      "cell_type": "code",
      "source": [
        "r = np.zeros_like(x)\n",
        "r[1:] = np.cumsum(dr)\n",
        "r"
      ],
      "metadata": {
        "colab": {
          "base_uri": "https://localhost:8080/"
        },
        "id": "uc1vldYZTZjC",
        "outputId": "db3dd9b1-30c0-4885-ceef-cb615232c81c"
      },
      "id": "uc1vldYZTZjC",
      "execution_count": 55,
      "outputs": [
        {
          "output_type": "execute_result",
          "data": {
            "text/plain": [
              "array([0.00000000e+00, 1.00000000e-01, 2.00994225e-01, 3.03948099e-01,\n",
              "       4.09773428e-01, 5.19310334e-01, 6.33316917e-01, 7.52465988e-01,\n",
              "       8.77347271e-01, 1.00847317e+00, 1.14628646e+00, 1.29116861e+00,\n",
              "       1.44344797e+00, 1.60340735e+00, 1.77129076e+00, 1.94730924e+00,\n",
              "       2.13164591e+00, 2.32446017e+00, 2.52589132e+00, 2.73606151e+00,\n",
              "       2.95507828e+00, 3.18303664e+00, 3.42002084e+00, 3.66610588e+00,\n",
              "       3.92135873e+00, 4.18583938e+00, 4.45960178e+00, 4.74269456e+00,\n",
              "       5.03516168e+00, 5.33704304e+00, 5.64837490e+00, 5.96919031e+00,\n",
              "       6.29951948e+00, 6.63939009e+00, 6.98882753e+00, 7.34785520e+00,\n",
              "       7.71649464e+00, 8.09476576e+00, 8.48268698e+00, 8.88027538e+00,\n",
              "       9.28754684e+00, 9.70451612e+00, 1.01311970e+01, 1.05676022e+01,\n",
              "       1.10137439e+01, 1.14696332e+01, 1.19352807e+01, 1.24106962e+01,\n",
              "       1.28958890e+01, 1.33908678e+01, 1.38956409e+01, 1.44102161e+01,\n",
              "       1.49346005e+01, 1.54688013e+01, 1.60128248e+01, 1.65666773e+01,\n",
              "       1.71303646e+01, 1.77038924e+01, 1.82872658e+01, 1.88804900e+01,\n",
              "       1.94835697e+01, 2.00965094e+01, 2.07193135e+01, 2.13519861e+01,\n",
              "       2.19945311e+01, 2.26469523e+01, 2.33092533e+01, 2.39814376e+01,\n",
              "       2.46635083e+01, 2.53554686e+01, 2.60573216e+01, 2.67690702e+01,\n",
              "       2.74907170e+01, 2.82222648e+01, 2.89637160e+01, 2.97150732e+01,\n",
              "       3.04763387e+01, 3.12475148e+01, 3.20286035e+01, 3.28196071e+01,\n",
              "       3.36205275e+01, 3.44313667e+01, 3.52521266e+01, 3.60828088e+01,\n",
              "       3.69234153e+01, 3.77739476e+01, 3.86344073e+01, 3.95047962e+01,\n",
              "       4.03851155e+01, 4.12753669e+01, 4.21755518e+01, 4.30856714e+01,\n",
              "       4.40057271e+01, 4.49357203e+01, 4.58756521e+01, 4.68255237e+01,\n",
              "       4.77853363e+01, 4.87550910e+01, 4.97347890e+01, 5.07244312e+01,\n",
              "       5.17240188e+01, 5.27335526e+01, 5.37530338e+01, 5.47824631e+01,\n",
              "       5.58218416e+01, 5.68711701e+01, 5.79304495e+01, 5.89996806e+01,\n",
              "       6.00788642e+01, 6.11680012e+01, 6.22670923e+01, 6.33761382e+01,\n",
              "       6.44951397e+01, 6.56240975e+01, 6.67630122e+01, 6.79118847e+01,\n",
              "       6.90707154e+01, 7.02395051e+01, 7.14182544e+01, 7.26069639e+01,\n",
              "       7.38056341e+01, 7.50142658e+01, 7.62328593e+01, 7.74614153e+01,\n",
              "       7.86999344e+01, 7.99484170e+01, 8.12068636e+01, 8.24752748e+01,\n",
              "       8.37536510e+01, 8.50419928e+01, 8.63403005e+01, 8.76485747e+01,\n",
              "       8.89668157e+01, 9.02950241e+01, 9.16332002e+01, 9.29813445e+01,\n",
              "       9.43394574e+01, 9.57075392e+01, 9.70855903e+01, 9.84736112e+01,\n",
              "       9.98716023e+01, 1.01279564e+02, 1.02697496e+02, 1.04125400e+02,\n",
              "       1.05563275e+02, 1.07011121e+02, 1.08468941e+02, 1.09936732e+02,\n",
              "       1.11414496e+02, 1.12902234e+02, 1.14399945e+02, 1.15907630e+02,\n",
              "       1.17425288e+02, 1.18952921e+02, 1.20490529e+02, 1.22038111e+02,\n",
              "       1.23595669e+02, 1.25163202e+02, 1.26740711e+02, 1.28328195e+02,\n",
              "       1.29925656e+02, 1.31533093e+02, 1.33150507e+02, 1.34777897e+02,\n",
              "       1.36415265e+02, 1.38062610e+02, 1.39719933e+02, 1.41387233e+02,\n",
              "       1.43064512e+02, 1.44751768e+02, 1.46449003e+02, 1.48156217e+02,\n",
              "       1.49873409e+02, 1.51600581e+02, 1.53337731e+02, 1.55084861e+02,\n",
              "       1.56841971e+02, 1.58609060e+02, 1.60386130e+02, 1.62173179e+02,\n",
              "       1.63970209e+02, 1.65777219e+02, 1.67594210e+02, 1.69421182e+02,\n",
              "       1.71258134e+02, 1.73105068e+02, 1.74961983e+02, 1.76828879e+02,\n",
              "       1.78705758e+02, 1.80592617e+02, 1.82489459e+02, 1.84396283e+02,\n",
              "       1.86313089e+02, 1.88239877e+02, 1.90176648e+02, 1.92123401e+02,\n",
              "       1.94080137e+02, 1.96046856e+02, 1.98023558e+02, 2.00010243e+02,\n",
              "       2.02006911e+02, 2.04013563e+02, 2.06030198e+02, 2.08056817e+02,\n",
              "       2.10093420e+02, 2.12140006e+02, 2.14196577e+02, 2.16263131e+02,\n",
              "       2.18339670e+02, 2.20426193e+02, 2.22522701e+02, 2.24629193e+02,\n",
              "       2.26745669e+02, 2.28872131e+02, 2.31008577e+02, 2.33155008e+02,\n",
              "       2.35311425e+02, 2.37477826e+02, 2.39654213e+02, 2.41840585e+02,\n",
              "       2.44036942e+02, 2.46243285e+02, 2.48459614e+02, 2.50685929e+02,\n",
              "       2.52922229e+02, 2.55168515e+02, 2.57424787e+02, 2.59691045e+02,\n",
              "       2.61967290e+02, 2.64253520e+02, 2.66549737e+02, 2.68855941e+02,\n",
              "       2.71172130e+02, 2.73498307e+02, 2.75834470e+02, 2.78180620e+02,\n",
              "       2.80536756e+02, 2.82902880e+02, 2.85278991e+02, 2.87665088e+02,\n",
              "       2.90061173e+02, 2.92467244e+02, 2.94883304e+02, 2.97309350e+02,\n",
              "       2.99745384e+02, 3.02191405e+02, 3.04647414e+02, 3.07113410e+02,\n",
              "       3.09589394e+02, 3.12075366e+02, 3.14571326e+02, 3.17077273e+02,\n",
              "       3.19593208e+02, 3.22119132e+02, 3.24655043e+02, 3.27200943e+02,\n",
              "       3.29756830e+02, 3.32322706e+02, 3.34898570e+02, 3.37484423e+02,\n",
              "       3.40080264e+02, 3.42686093e+02, 3.45301911e+02, 3.47927718e+02,\n",
              "       3.50563513e+02, 3.53209297e+02, 3.55865069e+02, 3.58530831e+02,\n",
              "       3.61206581e+02, 3.63892320e+02, 3.66588048e+02, 3.69293765e+02,\n",
              "       3.72009471e+02, 3.74735166e+02, 3.77470850e+02, 3.80216524e+02,\n",
              "       3.82972187e+02, 3.85737839e+02, 3.88513480e+02, 3.91299111e+02,\n",
              "       3.94094731e+02, 3.96900341e+02, 3.99715940e+02, 4.02541528e+02,\n",
              "       4.05377107e+02, 4.08222675e+02, 4.11078232e+02, 4.13943780e+02,\n",
              "       4.16819317e+02, 4.19704844e+02, 4.22600361e+02, 4.25505868e+02,\n",
              "       4.28421365e+02, 4.31346851e+02, 4.34282328e+02, 4.37227795e+02,\n",
              "       4.40183252e+02, 4.43148699e+02, 4.46124136e+02, 4.49109564e+02,\n",
              "       4.52104982e+02, 4.55110390e+02, 4.58125788e+02, 4.61151177e+02,\n",
              "       4.64186556e+02, 4.67231925e+02, 4.70287286e+02, 4.73352636e+02,\n",
              "       4.76427977e+02, 4.79513309e+02, 4.82608631e+02, 4.85713944e+02,\n",
              "       4.88829248e+02, 4.91954542e+02, 4.95089827e+02])"
            ]
          },
          "metadata": {},
          "execution_count": 55
        }
      ]
    },
    {
      "cell_type": "code",
      "source": [
        "r_int = np.linspace(0, r.max(), 200)\n",
        "r_int"
      ],
      "metadata": {
        "colab": {
          "base_uri": "https://localhost:8080/"
        },
        "id": "OqV5b4W2Tebg",
        "outputId": "6aacd364-461c-4b68-8b5c-38399b182f84"
      },
      "id": "OqV5b4W2Tebg",
      "execution_count": 56,
      "outputs": [
        {
          "output_type": "execute_result",
          "data": {
            "text/plain": [
              "array([  0.        ,   2.48788858,   4.97577716,   7.46366574,\n",
              "         9.95155432,  12.43944289,  14.92733147,  17.41522005,\n",
              "        19.90310863,  22.39099721,  24.87888579,  27.36677437,\n",
              "        29.85466295,  32.34255152,  34.8304401 ,  37.31832868,\n",
              "        39.80621726,  42.29410584,  44.78199442,  47.269883  ,\n",
              "        49.75777158,  52.24566016,  54.73354873,  57.22143731,\n",
              "        59.70932589,  62.19721447,  64.68510305,  67.17299163,\n",
              "        69.66088021,  72.14876879,  74.63665736,  77.12454594,\n",
              "        79.61243452,  82.1003231 ,  84.58821168,  87.07610026,\n",
              "        89.56398884,  92.05187742,  94.539766  ,  97.02765457,\n",
              "        99.51554315, 102.00343173, 104.49132031, 106.97920889,\n",
              "       109.46709747, 111.95498605, 114.44287463, 116.9307632 ,\n",
              "       119.41865178, 121.90654036, 124.39442894, 126.88231752,\n",
              "       129.3702061 , 131.85809468, 134.34598326, 136.83387184,\n",
              "       139.32176041, 141.80964899, 144.29753757, 146.78542615,\n",
              "       149.27331473, 151.76120331, 154.24909189, 156.73698047,\n",
              "       159.22486904, 161.71275762, 164.2006462 , 166.68853478,\n",
              "       169.17642336, 171.66431194, 174.15220052, 176.6400891 ,\n",
              "       179.12797768, 181.61586625, 184.10375483, 186.59164341,\n",
              "       189.07953199, 191.56742057, 194.05530915, 196.54319773,\n",
              "       199.03108631, 201.51897488, 204.00686346, 206.49475204,\n",
              "       208.98264062, 211.4705292 , 213.95841778, 216.44630636,\n",
              "       218.93419494, 221.42208352, 223.90997209, 226.39786067,\n",
              "       228.88574925, 231.37363783, 233.86152641, 236.34941499,\n",
              "       238.83730357, 241.32519215, 243.81308072, 246.3009693 ,\n",
              "       248.78885788, 251.27674646, 253.76463504, 256.25252362,\n",
              "       258.7404122 , 261.22830078, 263.71618936, 266.20407793,\n",
              "       268.69196651, 271.17985509, 273.66774367, 276.15563225,\n",
              "       278.64352083, 281.13140941, 283.61929799, 286.10718656,\n",
              "       288.59507514, 291.08296372, 293.5708523 , 296.05874088,\n",
              "       298.54662946, 301.03451804, 303.52240662, 306.0102952 ,\n",
              "       308.49818377, 310.98607235, 313.47396093, 315.96184951,\n",
              "       318.44973809, 320.93762667, 323.42551525, 325.91340383,\n",
              "       328.4012924 , 330.88918098, 333.37706956, 335.86495814,\n",
              "       338.35284672, 340.8407353 , 343.32862388, 345.81651246,\n",
              "       348.30440104, 350.79228961, 353.28017819, 355.76806677,\n",
              "       358.25595535, 360.74384393, 363.23173251, 365.71962109,\n",
              "       368.20750967, 370.69539824, 373.18328682, 375.6711754 ,\n",
              "       378.15906398, 380.64695256, 383.13484114, 385.62272972,\n",
              "       388.1106183 , 390.59850688, 393.08639545, 395.57428403,\n",
              "       398.06217261, 400.55006119, 403.03794977, 405.52583835,\n",
              "       408.01372693, 410.50161551, 412.98950408, 415.47739266,\n",
              "       417.96528124, 420.45316982, 422.9410584 , 425.42894698,\n",
              "       427.91683556, 430.40472414, 432.89261272, 435.38050129,\n",
              "       437.86838987, 440.35627845, 442.84416703, 445.33205561,\n",
              "       447.81994419, 450.30783277, 452.79572135, 455.28360992,\n",
              "       457.7714985 , 460.25938708, 462.74727566, 465.23516424,\n",
              "       467.72305282, 470.2109414 , 472.69882998, 475.18671856,\n",
              "       477.67460713, 480.16249571, 482.65038429, 485.13827287,\n",
              "       487.62616145, 490.11405003, 492.60193861, 495.08982719])"
            ]
          },
          "metadata": {},
          "execution_count": 56
        }
      ]
    },
    {
      "cell_type": "code",
      "source": [
        "x_int = np.interp(r_int, r, x)\n",
        "x_int"
      ],
      "metadata": {
        "colab": {
          "base_uri": "https://localhost:8080/"
        },
        "id": "qKEdBqBeTjh0",
        "outputId": "009b1395-8180-4c04-96c3-65237c9ce435"
      },
      "id": "qKEdBqBeTjh0",
      "execution_count": 57,
      "outputs": [
        {
          "output_type": "execute_result",
          "data": {
            "text/plain": [
              "array([ 0.00000000e+00, -3.73131229e-01, -2.59817608e+00, -3.26212050e+00,\n",
              "       -2.18442687e+00, -2.98929946e-02,  2.42923642e+00,  4.54913599e+00,\n",
              "        5.92318348e+00,  6.35117933e+00,  5.82369277e+00,  4.46259540e+00,\n",
              "        2.47320794e+00,  1.09577220e-01, -2.36575300e+00, -4.71261671e+00,\n",
              "       -6.72701769e+00, -8.25541575e+00, -9.18486120e+00, -9.46381505e+00,\n",
              "       -9.11085788e+00, -8.12875279e+00, -6.63306046e+00, -4.69271059e+00,\n",
              "       -2.44736165e+00, -2.05444585e-02,  2.46101146e+00,  4.86841760e+00,\n",
              "        7.08937968e+00,  9.02539126e+00,  1.05948609e+01,  1.17357250e+01,\n",
              "        1.24068974e+01,  1.25885805e+01,  1.22815267e+01,  1.15053927e+01,\n",
              "        1.02963689e+01,  8.70429550e+00,  6.78948686e+00,  4.61716636e+00,\n",
              "        2.25853448e+00, -1.98731680e-01, -2.68040566e+00, -5.11543300e+00,\n",
              "       -7.41973991e+00, -9.53891040e+00, -1.14237629e+01, -1.29919305e+01,\n",
              "       -1.42355069e+01, -1.51243232e+01, -1.56061571e+01, -1.57219415e+01,\n",
              "       -1.54217066e+01, -1.47579136e+01, -1.37255236e+01, -1.23634834e+01,\n",
              "       -1.07024632e+01, -8.78327367e+00, -6.65029558e+00, -4.35514246e+00,\n",
              "       -1.94290275e+00,  5.28038914e-01,  3.00985904e+00,  5.45450275e+00,\n",
              "        7.80093594e+00,  1.00179639e+01,  1.20595602e+01,  1.38732623e+01,\n",
              "        1.54564938e+01,  1.67497894e+01,  1.77435802e+01,  1.84439878e+01,\n",
              "        1.87990820e+01,  1.88271003e+01,  1.85472755e+01,  1.79378850e+01,\n",
              "        1.70105456e+01,  1.58085777e+01,  1.43501808e+01,  1.26222364e+01,\n",
              "        1.06905445e+01,  8.58498641e+00,  6.33562529e+00,  3.96179025e+00,\n",
              "        1.51802643e+00, -9.61699044e-01, -3.44349301e+00, -5.88951759e+00,\n",
              "       -8.26006582e+00, -1.05270865e+01, -1.26610269e+01, -1.46343020e+01,\n",
              "       -1.64206033e+01, -1.79708499e+01, -1.92894561e+01, -2.03605967e+01,\n",
              "       -2.11716587e+01, -2.17133504e+01, -2.19797677e+01, -2.19626531e+01,\n",
              "       -2.16476737e+01, -2.10622561e+01, -2.02145809e+01, -1.91158467e+01,\n",
              "       -1.77800930e+01, -1.62239930e+01, -1.44666197e+01, -1.25291882e+01,\n",
              "       -1.04347777e+01, -8.20773276e+00, -5.86978851e+00, -3.45563299e+00,\n",
              "       -9.92556869e-01,  1.49191203e+00,  3.97031733e+00,  6.41557503e+00,\n",
              "        8.80126359e+00,  1.11019001e+01,  1.32931995e+01,  1.53523150e+01,\n",
              "        1.72580567e+01,  1.89910866e+01,  2.05340895e+01,  2.18719167e+01,\n",
              "        2.29917039e+01,  2.38829603e+01,  2.45376309e+01,  2.49501314e+01,\n",
              "        2.51173551e+01,  2.50386548e+01,  2.47157984e+01,  2.41529019e+01,\n",
              "        2.33563391e+01,  2.23346314e+01,  2.10983193e+01,  1.96598169e+01,\n",
              "        1.80332532e+01,  1.62343003e+01,  1.42799934e+01,  1.21885425e+01,\n",
              "        9.97914013e+00,  7.67176574e+00,  5.28699023e+00,  2.84441658e+00,\n",
              "        3.68190102e-01, -2.11846865e+00, -4.59426061e+00, -7.03829202e+00,\n",
              "       -9.43024209e+00, -1.17505186e+01, -1.39803999e+01, -1.61021634e+01,\n",
              "       -1.80991985e+01, -1.99561058e+01, -2.16587804e+01, -2.31850397e+01,\n",
              "       -2.45166960e+01, -2.56568097e+01, -2.65976904e+01, -2.73332424e+01,\n",
              "       -2.78589555e+01, -2.81718833e+01, -2.82706110e+01, -2.81552119e+01,\n",
              "       -2.78066635e+01, -2.72341677e+01, -2.64578863e+01, -2.54844118e+01,\n",
              "       -2.43214986e+01, -2.29779690e+01, -2.14636172e+01, -1.97837046e+01,\n",
              "       -1.79341987e+01, -1.59545785e+01, -1.38585628e+01, -1.16602783e+01,\n",
              "       -9.37416511e+00, -7.01488958e+00, -4.59184632e+00, -2.12995331e+00,\n",
              "        3.50691071e-01,  2.83498918e+00,  5.30813450e+00,  7.75565814e+00,\n",
              "        1.01522531e+01,  1.24813227e+01,  1.47337756e+01,  1.68973642e+01,\n",
              "        1.89604991e+01,  2.09071945e+01,  2.26943693e+01,  2.43420179e+01,\n",
              "        2.58422998e+01,  2.71881423e+01,  2.83731992e+01,  2.93376609e+01,\n",
              "        3.01222558e+01,  3.07280750e+01,  3.11531219e+01,  3.13960177e+01])"
            ]
          },
          "metadata": {},
          "execution_count": 57
        }
      ]
    },
    {
      "cell_type": "code",
      "source": [
        "y_int = np.interp(r_int, r, y)\n",
        "y_int"
      ],
      "metadata": {
        "colab": {
          "base_uri": "https://localhost:8080/"
        },
        "id": "JNVO-SzQTnek",
        "outputId": "c24e3a2c-d8de-4502-9ef7-23243bab327f"
      },
      "id": "JNVO-SzQTnek",
      "execution_count": 59,
      "outputs": [
        {
          "output_type": "execute_result",
          "data": {
            "text/plain": [
              "array([ 0.00000000e+00,  1.74026724e+00,  9.81816584e-01, -1.34251287e+00,\n",
              "       -3.53191891e+00, -4.70449474e+00, -4.59573427e+00, -3.33831870e+00,\n",
              "       -1.28956083e+00,  1.14234685e+00,  3.55645601e+00,  5.62188218e+00,\n",
              "        7.09389488e+00,  7.82951803e+00,  7.78700678e+00,  6.99685666e+00,\n",
              "        5.55535240e+00,  3.60417006e+00,  1.30506373e+00, -1.15819722e+00,\n",
              "       -3.61328132e+00, -5.89130465e+00, -7.87065053e+00, -9.41689057e+00,\n",
              "       -1.04714836e+01, -1.09903787e+01, -1.09354306e+01, -1.03330912e+01,\n",
              "       -9.22690166e+00, -7.67489830e+00, -5.75257980e+00, -3.54832201e+00,\n",
              "       -1.15854355e+00,  1.31709956e+00,  3.78023622e+00,  6.13780326e+00,\n",
              "        8.30540149e+00,  1.02098724e+01,  1.17910419e+01,  1.29972950e+01,\n",
              "        1.37774249e+01,  1.41319792e+01,  1.40585758e+01,  1.35636816e+01,\n",
              "        1.26345244e+01,  1.13409083e+01,  9.72216360e+00,  7.79464305e+00,\n",
              "        5.64544223e+00,  3.32503222e+00,  8.88107041e-01, -1.59329248e+00,\n",
              "       -4.05992507e+00, -6.45313746e+00, -8.71327144e+00, -1.07900854e+01,\n",
              "       -1.26380653e+01, -1.42147006e+01, -1.54892299e+01, -1.64390858e+01,\n",
              "       -1.70351433e+01, -1.72938948e+01, -1.71685631e+01, -1.67219979e+01,\n",
              "       -1.59044166e+01, -1.47824153e+01, -1.33665280e+01, -1.16678134e+01,\n",
              "       -9.75246391e+00, -7.63091465e+00, -5.35345831e+00, -2.96905840e+00,\n",
              "       -5.09631905e-01,  1.97507060e+00,  4.44430515e+00,  6.85344809e+00,\n",
              "        9.15903461e+00,  1.13337844e+01,  1.33467125e+01,  1.51336120e+01,\n",
              "        1.66966787e+01,  1.80162922e+01,  1.90746708e+01,  1.98127969e+01,\n",
              "        2.02634499e+01,  2.04221761e+01,  2.02877631e+01,  1.98449702e+01,\n",
              "        1.90974465e+01,  1.80799531e+01,  1.68069397e+01,  1.52959771e+01,\n",
              "        1.35665801e+01,  1.16227312e+01,  9.51601869e+00,  7.27388893e+00,\n",
              "        4.92519240e+00,  2.49981337e+00,  2.82932820e-02, -2.45817963e+00,\n",
              "       -4.92460367e+00, -7.34030894e+00, -9.67635928e+00, -1.19050601e+01,\n",
              "       -1.40002645e+01, -1.59376556e+01, -1.76950019e+01, -1.92523833e+01,\n",
              "       -2.05923861e+01, -2.16995543e+01, -2.25478860e+01, -2.31432552e+01,\n",
              "       -2.34800725e+01, -2.35556687e+01, -2.33702741e+01, -2.29269662e+01,\n",
              "       -2.22315865e+01, -2.12926288e+01, -2.01211000e+01, -1.87303570e+01,\n",
              "       -1.71359212e+01, -1.53552740e+01, -1.34076356e+01, -1.13137308e+01,\n",
              "       -9.09554383e+00, -6.77606668e+00, -4.37904252e+00, -1.92870828e+00,\n",
              "        5.50461201e-01,  3.03400451e+00,  5.49771780e+00,  7.91788934e+00,\n",
              "        1.02715222e+01,  1.25365431e+01,  1.46919953e+01,  1.67182148e+01,\n",
              "        1.85969872e+01,  2.03116866e+01,  2.18473923e+01,  2.31909872e+01,\n",
              "        2.43312337e+01,  2.52588296e+01,  2.59664444e+01,  2.64391214e+01,\n",
              "        2.66748505e+01,  2.66796333e+01,  2.64545680e+01,  2.60026765e+01,\n",
              "        2.53288265e+01,  2.44396400e+01,  2.33433894e+01,  2.20498837e+01,\n",
              "        2.05703459e+01,  1.89172843e+01,  1.71043584e+01,  1.51396391e+01,\n",
              "        1.30387952e+01,  1.08294252e+01,  8.52903617e+00,  6.15551380e+00,\n",
              "        3.72697869e+00,  1.26164946e+00, -1.22228693e+00, -3.70679651e+00,\n",
              "       -6.17014862e+00, -8.59028675e+00, -1.09516293e+01, -1.32379536e+01,\n",
              "       -1.54338179e+01, -1.75246263e+01, -1.94966815e+01, -2.13317519e+01,\n",
              "       -2.29952001e+01, -2.44987532e+01, -2.58335652e+01, -2.69919481e+01,\n",
              "       -2.79673583e+01, -2.87543764e+01, -2.93186910e+01, -2.96679958e+01,\n",
              "       -2.98181354e+01, -2.97693731e+01, -2.95229769e+01, -2.90811595e+01,\n",
              "       -2.84133854e+01, -2.75430665e+01, -2.64934034e+01, -2.52713717e+01,\n",
              "       -2.38845608e+01, -2.23353782e+01, -2.06051319e+01, -1.87442619e+01,\n",
              "       -1.67635423e+01, -1.46739620e+01, -1.24866789e+01, -1.01933401e+01,\n",
              "       -7.83474328e+00, -5.42495146e+00, -2.97607515e+00, -5.00072086e-01])"
            ]
          },
          "metadata": {},
          "execution_count": 59
        }
      ]
    },
    {
      "cell_type": "markdown",
      "id": "340d6f36",
      "metadata": {
        "id": "340d6f36"
      },
      "source": [
        "#### 99. Given an integer n and a 2D array X, select from X the rows which can be interpreted as draws from a multinomial distribution with n degrees, i.e., the rows which only contain integers and which sum to n. (★★★)"
      ]
    },
    {
      "cell_type": "code",
      "execution_count": 62,
      "id": "a75323ae",
      "metadata": {
        "id": "a75323ae",
        "colab": {
          "base_uri": "https://localhost:8080/"
        },
        "outputId": "a6c36e0d-1ee5-458c-ad3d-13a06eb916fd"
      },
      "outputs": [
        {
          "output_type": "execute_result",
          "data": {
            "text/plain": [
              "array([[1. , 0. , 3. , 8. ],\n",
              "       [2. , 0. , 1. , 1. ],\n",
              "       [1.5, 2.5, 1. , 0. ]], dtype=float32)"
            ]
          },
          "metadata": {},
          "execution_count": 62
        }
      ],
      "source": [
        "X = np.asarray([\n",
        "    [1, 0, 3, 8],\n",
        "    [2, 0, 1, 1],\n",
        "    [1.5, 2.5, 1, 0]\n",
        "], dtype='float32')\n",
        "X"
      ]
    },
    {
      "cell_type": "code",
      "source": [
        "n = 4\n",
        "M = np.logical_and.reduce(np.mod(X, 1) == 0, axis=-1)\n",
        "M &= (X.sum(axis=-1) == n)\n",
        "M"
      ],
      "metadata": {
        "colab": {
          "base_uri": "https://localhost:8080/"
        },
        "id": "Absi3O2NUCQR",
        "outputId": "bf1ab949-f642-4f82-e89d-f64206dc19ce"
      },
      "id": "Absi3O2NUCQR",
      "execution_count": 63,
      "outputs": [
        {
          "output_type": "execute_result",
          "data": {
            "text/plain": [
              "array([False,  True, False])"
            ]
          },
          "metadata": {},
          "execution_count": 63
        }
      ]
    },
    {
      "cell_type": "code",
      "source": [
        "X[M]"
      ],
      "metadata": {
        "colab": {
          "base_uri": "https://localhost:8080/"
        },
        "id": "0kykE3cHUL7X",
        "outputId": "7284b97c-c818-4607-935d-9ac807a9f8fb"
      },
      "id": "0kykE3cHUL7X",
      "execution_count": 64,
      "outputs": [
        {
          "output_type": "execute_result",
          "data": {
            "text/plain": [
              "array([[2., 0., 1., 1.]], dtype=float32)"
            ]
          },
          "metadata": {},
          "execution_count": 64
        }
      ]
    },
    {
      "cell_type": "markdown",
      "id": "19721849",
      "metadata": {
        "id": "19721849"
      },
      "source": [
        "#### 100. Compute bootstrapped 95% confidence intervals for the mean of a 1D array X (i.e., resample the elements of an array with replacement N times, compute the mean of each sample, and then compute percentiles over the means). (★★★)"
      ]
    },
    {
      "cell_type": "code",
      "execution_count": 74,
      "id": "87309c6f",
      "metadata": {
        "id": "87309c6f",
        "colab": {
          "base_uri": "https://localhost:8080/"
        },
        "outputId": "eb2862b9-3e25-434e-ef2d-61ce0e1eaf04"
      },
      "outputs": [
        {
          "output_type": "execute_result",
          "data": {
            "text/plain": [
              "array([0.00345793, 0.39063449])"
            ]
          },
          "metadata": {},
          "execution_count": 74
        }
      ],
      "source": [
        "X = np.random.randn(100)\n",
        "N = 1000\n",
        "idx = np.random.randint(0, X.size, (N, X.size))\n",
        "means = X[idx].mean(axis=1)\n",
        "confint = np.percentile(means, [2.5, 97.5])\n",
        "confint"
      ]
    }
  ],
  "metadata": {
    "kernelspec": {
      "display_name": "Python 3 (ipykernel)",
      "language": "python",
      "name": "python3"
    },
    "language_info": {
      "codemirror_mode": {
        "name": "ipython",
        "version": 3
      },
      "file_extension": ".py",
      "mimetype": "text/x-python",
      "name": "python",
      "nbconvert_exporter": "python",
      "pygments_lexer": "ipython3",
      "version": "3.9.7"
    },
    "colab": {
      "provenance": [],
      "collapsed_sections": [],
      "include_colab_link": true
    }
  },
  "nbformat": 4,
  "nbformat_minor": 5
}
