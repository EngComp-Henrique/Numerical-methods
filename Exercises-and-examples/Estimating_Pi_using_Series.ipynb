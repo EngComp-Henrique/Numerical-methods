{
  "nbformat": 4,
  "nbformat_minor": 0,
  "metadata": {
    "colab": {
      "provenance": [],
      "authorship_tag": "ABX9TyN2mbpTYjqf+e5/8FkPQj54",
      "include_colab_link": true
    },
    "kernelspec": {
      "name": "python3",
      "display_name": "Python 3"
    },
    "language_info": {
      "name": "python"
    }
  },
  "cells": [
    {
      "cell_type": "markdown",
      "metadata": {
        "id": "view-in-github",
        "colab_type": "text"
      },
      "source": [
        "<a href=\"https://colab.research.google.com/github/EngComp-Henrique/Numerical-methods/blob/main/Estimating_Pi_using_Series.ipynb\" target=\"_parent\"><img src=\"https://colab.research.google.com/assets/colab-badge.svg\" alt=\"Open In Colab\"/></a>"
      ]
    },
    {
      "cell_type": "markdown",
      "source": [
        "## Errors, approximation an $\\pi$\n",
        "\n",
        "> The purpose of this jupyter notebook is study $\\pi$ and the usage of series to approximate this number.\n",
        "\n",
        "## Material\n",
        "* [Machin](http://personalpages.to.infn.it/~zaninett/pdf/machin.pdf)\n",
        "* [Approximation of π](https://en.wikipedia.org/wiki/Approximations_of_%CF%80)"
      ],
      "metadata": {
        "id": "b-LfHNZzXeyE"
      }
    },
    {
      "cell_type": "markdown",
      "source": [
        "## First approximation of $\\pi$\n",
        "\n",
        "* Euler proved that:\n",
        "\n",
        "$$ \n",
        "\\sum_{n = 1}^{∞}\\dfrac{1}{n^2}=\\dfrac{\\pi^{2}}{6}\n",
        "$$"
      ],
      "metadata": {
        "id": "JFFfvZ-WOsYC"
      }
    },
    {
      "cell_type": "code",
      "source": [
        "import numpy as np"
      ],
      "metadata": {
        "id": "59fv9i6MPhVC"
      },
      "execution_count": null,
      "outputs": []
    },
    {
      "cell_type": "markdown",
      "source": [
        "1. Use a For loop in Python to find the sum of the first 20 terms of this series. Give your answer to three decimal places."
      ],
      "metadata": {
        "id": "Lx-uKmUtP98l"
      }
    },
    {
      "cell_type": "code",
      "execution_count": null,
      "metadata": {
        "id": "joFcuzGnOihl"
      },
      "outputs": [],
      "source": [
        "def Euler_formulas(n: int):\n",
        "    arr = np.zeros(n)\n",
        "    for i in range(1, n + 1):\n",
        "        k = 1 / i ** 2\n",
        "        arr[i - 1] = k\n",
        "    return arr.sum()"
      ]
    },
    {
      "cell_type": "code",
      "source": [
        "for n in range(1, 21):\n",
        "    print(\"n = {}\\t->\\t Euler Term = {}\".format(n, Euler_formulas(n)))"
      ],
      "metadata": {
        "colab": {
          "base_uri": "https://localhost:8080/"
        },
        "id": "Q6u28o1WP4oc",
        "outputId": "c64deced-963d-4381-faa8-a2af6d4f592a"
      },
      "execution_count": null,
      "outputs": [
        {
          "output_type": "stream",
          "name": "stdout",
          "text": [
            "n = 1\t->\t Euler Term = 1.0\n",
            "n = 2\t->\t Euler Term = 1.25\n",
            "n = 3\t->\t Euler Term = 1.3611111111111112\n",
            "n = 4\t->\t Euler Term = 1.4236111111111112\n",
            "n = 5\t->\t Euler Term = 1.4636111111111112\n",
            "n = 6\t->\t Euler Term = 1.4913888888888889\n",
            "n = 7\t->\t Euler Term = 1.511797052154195\n",
            "n = 8\t->\t Euler Term = 1.527422052154195\n",
            "n = 9\t->\t Euler Term = 1.5397677311665408\n",
            "n = 10\t->\t Euler Term = 1.5497677311665408\n",
            "n = 11\t->\t Euler Term = 1.558032193976458\n",
            "n = 12\t->\t Euler Term = 1.5649766384209025\n",
            "n = 13\t->\t Euler Term = 1.5708937981842162\n",
            "n = 14\t->\t Euler Term = 1.5759958390005426\n",
            "n = 15\t->\t Euler Term = 1.580440283444987\n",
            "n = 16\t->\t Euler Term = 1.584346533444987\n",
            "n = 17\t->\t Euler Term = 1.587806741057444\n",
            "n = 18\t->\t Euler Term = 1.5908931608105303\n",
            "n = 19\t->\t Euler Term = 1.5936632439130234\n",
            "n = 20\t->\t Euler Term = 1.5961632439130233\n"
          ]
        }
      ]
    },
    {
      "cell_type": "markdown",
      "source": [
        "Now use your answer to estimate $\\pi$"
      ],
      "metadata": {
        "id": "ojtA-0KIQh9X"
      }
    },
    {
      "cell_type": "code",
      "source": [
        "def calculate_pi(n):\n",
        "    s = Euler_formulas(n)\n",
        "    return np.sqrt(s * 6)"
      ],
      "metadata": {
        "id": "GNhVhFq6QRxz"
      },
      "execution_count": null,
      "outputs": []
    },
    {
      "cell_type": "code",
      "source": [
        "for i in range(20):\n",
        "    print(\"n = {}\\t->\\t pi = {}\".format(i, calculate_pi(i)))"
      ],
      "metadata": {
        "colab": {
          "base_uri": "https://localhost:8080/"
        },
        "id": "LjkmioczQ7vh",
        "outputId": "08c233ec-0cba-4688-bafb-25ef2303ef51"
      },
      "execution_count": null,
      "outputs": [
        {
          "output_type": "stream",
          "name": "stdout",
          "text": [
            "n = 0\t->\t pi = 0.0\n",
            "n = 1\t->\t pi = 2.449489742783178\n",
            "n = 2\t->\t pi = 2.7386127875258306\n",
            "n = 3\t->\t pi = 2.8577380332470415\n",
            "n = 4\t->\t pi = 2.9226129861250305\n",
            "n = 5\t->\t pi = 2.9633877010385707\n",
            "n = 6\t->\t pi = 2.9913764947484185\n",
            "n = 7\t->\t pi = 3.011773947846214\n",
            "n = 8\t->\t pi = 3.027297856657843\n",
            "n = 9\t->\t pi = 3.0395075895610533\n",
            "n = 10\t->\t pi = 3.04936163598207\n",
            "n = 11\t->\t pi = 3.0574815067075627\n",
            "n = 12\t->\t pi = 3.064287817833928\n",
            "n = 13\t->\t pi = 3.0700753718932203\n",
            "n = 14\t->\t pi = 3.0750569155713614\n",
            "n = 15\t->\t pi = 3.079389826032086\n",
            "n = 16\t->\t pi = 3.0831930203394537\n",
            "n = 17\t->\t pi = 3.086558025753714\n",
            "n = 18\t->\t pi = 3.089556434969781\n",
            "n = 19\t->\t pi = 3.092245052300697\n"
          ]
        }
      ]
    },
    {
      "cell_type": "markdown",
      "source": [
        "Repeat those steps to estimate $\\pi$ using the first 100 terms of the series."
      ],
      "metadata": {
        "id": "SHJGxS1YSBJC"
      }
    },
    {
      "cell_type": "code",
      "source": [
        "for n in range(1, 101):\n",
        "    print(\"n = {}\\t->\\t Euler Term = {}\".format(n, Euler_formulas(n)))"
      ],
      "metadata": {
        "colab": {
          "base_uri": "https://localhost:8080/"
        },
        "id": "V6lTSrQXRBji",
        "outputId": "9adcdbb5-7a5c-4447-ff72-dcc244187d7d"
      },
      "execution_count": null,
      "outputs": [
        {
          "output_type": "stream",
          "name": "stdout",
          "text": [
            "n = 1\t->\t Euler Term = 1.0\n",
            "n = 2\t->\t Euler Term = 1.25\n",
            "n = 3\t->\t Euler Term = 1.3611111111111112\n",
            "n = 4\t->\t Euler Term = 1.4236111111111112\n",
            "n = 5\t->\t Euler Term = 1.4636111111111112\n",
            "n = 6\t->\t Euler Term = 1.4913888888888889\n",
            "n = 7\t->\t Euler Term = 1.511797052154195\n",
            "n = 8\t->\t Euler Term = 1.527422052154195\n",
            "n = 9\t->\t Euler Term = 1.5397677311665408\n",
            "n = 10\t->\t Euler Term = 1.5497677311665408\n",
            "n = 11\t->\t Euler Term = 1.558032193976458\n",
            "n = 12\t->\t Euler Term = 1.5649766384209025\n",
            "n = 13\t->\t Euler Term = 1.5708937981842162\n",
            "n = 14\t->\t Euler Term = 1.5759958390005426\n",
            "n = 15\t->\t Euler Term = 1.580440283444987\n",
            "n = 16\t->\t Euler Term = 1.584346533444987\n",
            "n = 17\t->\t Euler Term = 1.587806741057444\n",
            "n = 18\t->\t Euler Term = 1.5908931608105303\n",
            "n = 19\t->\t Euler Term = 1.5936632439130234\n",
            "n = 20\t->\t Euler Term = 1.5961632439130233\n",
            "n = 21\t->\t Euler Term = 1.5984308176091684\n",
            "n = 22\t->\t Euler Term = 1.6004969333116477\n",
            "n = 23\t->\t Euler Term = 1.6023872924798896\n",
            "n = 24\t->\t Euler Term = 1.604123403591001\n",
            "n = 25\t->\t Euler Term = 1.605723403591001\n",
            "n = 26\t->\t Euler Term = 1.6072026935318295\n",
            "n = 27\t->\t Euler Term = 1.6085744356443124\n",
            "n = 28\t->\t Euler Term = 1.609849945848394\n",
            "n = 29\t->\t Euler Term = 1.6110390064904867\n",
            "n = 30\t->\t Euler Term = 1.6121501176015978\n",
            "n = 31\t->\t Euler Term = 1.6131907003279244\n",
            "n = 32\t->\t Euler Term = 1.6141672628279247\n",
            "n = 33\t->\t Euler Term = 1.615085536473471\n",
            "n = 34\t->\t Euler Term = 1.6159505883765852\n",
            "n = 35\t->\t Euler Term = 1.6167669149071975\n",
            "n = 36\t->\t Euler Term = 1.617538519845469\n",
            "n = 37\t->\t Euler Term = 1.6182689800353887\n",
            "n = 38\t->\t Euler Term = 1.6189615008110119\n",
            "n = 39\t->\t Euler Term = 1.6196189630069355\n",
            "n = 40\t->\t Euler Term = 1.6202439630069356\n",
            "n = 41\t->\t Euler Term = 1.620838847004556\n",
            "n = 42\t->\t Euler Term = 1.6214057404285924\n",
            "n = 43\t->\t Euler Term = 1.6219465733112317\n",
            "n = 44\t->\t Euler Term = 1.6224631022368516\n",
            "n = 45\t->\t Euler Term = 1.6229569293973454\n",
            "n = 46\t->\t Euler Term = 1.623429519189406\n",
            "n = 47\t->\t Euler Term = 1.6238822127158885\n",
            "n = 48\t->\t Euler Term = 1.6243162404936662\n",
            "n = 49\t->\t Euler Term = 1.6247327336215296\n",
            "n = 50\t->\t Euler Term = 1.6251327336215295\n",
            "n = 51\t->\t Euler Term = 1.6255172011340246\n",
            "n = 52\t->\t Euler Term = 1.6258870236192318\n",
            "n = 53\t->\t Euler Term = 1.6262430221952375\n",
            "n = 54\t->\t Euler Term = 1.6265859577233583\n",
            "n = 55\t->\t Euler Term = 1.626916536235755\n",
            "n = 56\t->\t Euler Term = 1.6272354137867755\n",
            "n = 57\t->\t Euler Term = 1.6275432007981636\n",
            "n = 58\t->\t Euler Term = 1.6278404659586867\n",
            "n = 59\t->\t Euler Term = 1.6281277397305913\n",
            "n = 60\t->\t Euler Term = 1.6284055175083691\n",
            "n = 61\t->\t Euler Term = 1.628674262469401\n",
            "n = 62\t->\t Euler Term = 1.6289344081509827\n",
            "n = 63\t->\t Euler Term = 1.6291863607838877\n",
            "n = 64\t->\t Euler Term = 1.6294305014088877\n",
            "n = 65\t->\t Euler Term = 1.6296671877994202\n",
            "n = 66\t->\t Euler Term = 1.6298967562108069\n",
            "n = 67\t->\t Euler Term = 1.6301195229740058\n",
            "n = 68\t->\t Euler Term = 1.6303357859497842\n",
            "n = 69\t->\t Euler Term = 1.6305458258573666\n",
            "n = 70\t->\t Euler Term = 1.6307499074900196\n",
            "n = 71\t->\t Euler Term = 1.6309482808286428\n",
            "n = 72\t->\t Euler Term = 1.631141182063211\n",
            "n = 73\t->\t Euler Term = 1.6313288345308408\n",
            "n = 74\t->\t Euler Term = 1.6315114495783207\n",
            "n = 75\t->\t Euler Term = 1.6316892273560986\n",
            "n = 76\t->\t Euler Term = 1.6318623575500044\n",
            "n = 77\t->\t Euler Term = 1.6320310200563293\n",
            "n = 78\t->\t Euler Term = 1.6321953856053102\n",
            "n = 79\t->\t Euler Term = 1.6323556163375645\n",
            "n = 80\t->\t Euler Term = 1.6325118663375648\n",
            "n = 81\t->\t Euler Term = 1.6326642821278408\n",
            "n = 82\t->\t Euler Term = 1.6328130031272459\n",
            "n = 83\t->\t Euler Term = 1.6329581620762952\n",
            "n = 84\t->\t Euler Term = 1.6330998854323042\n",
            "n = 85\t->\t Euler Term = 1.6332382937368024\n",
            "n = 86\t->\t Euler Term = 1.6333735019574622\n",
            "n = 87\t->\t Euler Term = 1.6335056198065836\n",
            "n = 88\t->\t Euler Term = 1.6336347520379884\n",
            "n = 89\t->\t Euler Term = 1.633760998724013\n",
            "n = 90\t->\t Euler Term = 1.6338844555141363\n",
            "n = 91\t->\t Euler Term = 1.634005213876653\n",
            "n = 92\t->\t Euler Term = 1.6341233613246682\n",
            "n = 93\t->\t Euler Term = 1.6342389816275933\n",
            "n = 94\t->\t Euler Term = 1.634352155009214\n",
            "n = 95\t->\t Euler Term = 1.6344629583333137\n",
            "n = 96\t->\t Euler Term = 1.634571465277758\n",
            "n = 97\t->\t Euler Term = 1.6346777464978666\n",
            "n = 98\t->\t Euler Term = 1.6347818697798324\n",
            "n = 99\t->\t Euler Term = 1.6348839001848932\n",
            "n = 100\t->\t Euler Term = 1.6349839001848931\n"
          ]
        }
      ]
    },
    {
      "cell_type": "code",
      "source": [
        "for i in range(100):\n",
        "    print(\"n = {}\\t->\\t pi = {}\".format(i, calculate_pi(i)))"
      ],
      "metadata": {
        "colab": {
          "base_uri": "https://localhost:8080/"
        },
        "id": "pNivRDAjSIit",
        "outputId": "73d7552a-81c7-4445-fdf2-b0d7342501b1"
      },
      "execution_count": null,
      "outputs": [
        {
          "output_type": "stream",
          "name": "stdout",
          "text": [
            "n = 0\t->\t pi = 0.0\n",
            "n = 1\t->\t pi = 2.449489742783178\n",
            "n = 2\t->\t pi = 2.7386127875258306\n",
            "n = 3\t->\t pi = 2.8577380332470415\n",
            "n = 4\t->\t pi = 2.9226129861250305\n",
            "n = 5\t->\t pi = 2.9633877010385707\n",
            "n = 6\t->\t pi = 2.9913764947484185\n",
            "n = 7\t->\t pi = 3.011773947846214\n",
            "n = 8\t->\t pi = 3.027297856657843\n",
            "n = 9\t->\t pi = 3.0395075895610533\n",
            "n = 10\t->\t pi = 3.04936163598207\n",
            "n = 11\t->\t pi = 3.0574815067075627\n",
            "n = 12\t->\t pi = 3.064287817833928\n",
            "n = 13\t->\t pi = 3.0700753718932203\n",
            "n = 14\t->\t pi = 3.0750569155713614\n",
            "n = 15\t->\t pi = 3.079389826032086\n",
            "n = 16\t->\t pi = 3.0831930203394537\n",
            "n = 17\t->\t pi = 3.086558025753714\n",
            "n = 18\t->\t pi = 3.089556434969781\n",
            "n = 19\t->\t pi = 3.092245052300697\n",
            "n = 20\t->\t pi = 3.094669524113704\n",
            "n = 21\t->\t pi = 3.0968669499439283\n",
            "n = 22\t->\t pi = 3.098867793222209\n",
            "n = 23\t->\t pi = 3.100697301395178\n",
            "n = 24\t->\t pi = 3.1023765763598083\n",
            "n = 25\t->\t pi = 3.103923391700576\n",
            "n = 26\t->\t pi = 3.1053528239462547\n",
            "n = 27\t->\t pi = 3.106677745416456\n",
            "n = 28\t->\t pi = 3.107909212813393\n",
            "n = 29\t->\t pi = 3.1090567764103185\n",
            "n = 30\t->\t pi = 3.1101287281412624\n",
            "n = 31\t->\t pi = 3.1111323022281687\n",
            "n = 32\t->\t pi = 3.1120738386110873\n",
            "n = 33\t->\t pi = 3.1129589169857073\n",
            "n = 34\t->\t pi = 3.113792467435733\n",
            "n = 35\t->\t pi = 3.1145788622931327\n",
            "n = 36\t->\t pi = 3.115321992840036\n",
            "n = 37\t->\t pi = 3.1160253336923196\n",
            "n = 38\t->\t pi = 3.1166919971126554\n",
            "n = 39\t->\t pi = 3.117324779043982\n",
            "n = 40\t->\t pi = 3.117926198299378\n",
            "n = 41\t->\t pi = 3.1184985300665664\n",
            "n = 42\t->\t pi = 3.119043834666572\n",
            "n = 43\t->\t pi = 3.1195639823326897\n",
            "n = 44\t->\t pi = 3.120060674637772\n",
            "n = 45\t->\t pi = 3.120535463087076\n",
            "n = 46\t->\t pi = 3.12098976530466\n",
            "n = 47\t->\t pi = 3.12142487916902\n",
            "n = 48\t->\t pi = 3.1218419951948237\n",
            "n = 49\t->\t pi = 3.1222422074094727\n",
            "n = 50\t->\t pi = 3.122626522933727\n",
            "n = 51\t->\t pi = 3.122995870443019\n",
            "n = 52\t->\t pi = 3.12335110765911\n",
            "n = 53\t->\t pi = 3.1236930279992983\n",
            "n = 54\t->\t pi = 3.1240223664916598\n",
            "n = 55\t->\t pi = 3.124339805049145\n",
            "n = 56\t->\t pi = 3.1246459771821598\n",
            "n = 57\t->\t pi = 3.124941472218157\n",
            "n = 58\t->\t pi = 3.1252268390873836\n",
            "n = 59\t->\t pi = 3.1255025897259383\n",
            "n = 60\t->\t pi = 3.1257692021405252\n",
            "n = 61\t->\t pi = 3.126027123173503\n",
            "n = 62\t->\t pi = 3.126276771001873\n",
            "n = 63\t->\t pi = 3.1265185373995985\n",
            "n = 64\t->\t pi = 3.126752789789005\n",
            "n = 65\t->\t pi = 3.1269798731038425\n",
            "n = 66\t->\t pi = 3.127200111483888\n",
            "n = 67\t->\t pi = 3.127413809818591\n",
            "n = 68\t->\t pi = 3.1276212551552187\n",
            "n = 69\t->\t pi = 3.1278227179851803\n",
            "n = 70\t->\t pi = 3.1280184534206503\n",
            "n = 71\t->\t pi = 3.1282087022722536\n",
            "n = 72\t->\t pi = 3.1283936920373794\n",
            "n = 73\t->\t pi = 3.128573637807658\n",
            "n = 74\t->\t pi = 3.1287487431032113\n",
            "n = 75\t->\t pi = 3.128919200640469\n",
            "n = 76\t->\t pi = 3.1290851930396566\n",
            "n = 77\t->\t pi = 3.1292468934774025\n",
            "n = 78\t->\t pi = 3.1294044662893707\n",
            "n = 79\t->\t pi = 3.1295580675273285\n",
            "n = 80\t->\t pi = 3.1297078454746203\n",
            "n = 81\t->\t pi = 3.129853941123618\n",
            "n = 82\t->\t pi = 3.129996488618394\n",
            "n = 83\t->\t pi = 3.1301356156655213\n",
            "n = 84\t->\t pi = 3.1302714439156594\n",
            "n = 85\t->\t pi = 3.1304040893183127\n",
            "n = 86\t->\t pi = 3.130533662451943\n",
            "n = 87\t->\t pi = 3.1306602688314014\n",
            "n = 88\t->\t pi = 3.130784009194491\n",
            "n = 89\t->\t pi = 3.1309049797692805\n",
            "n = 90\t->\t pi = 3.1310232725236675\n",
            "n = 91\t->\t pi = 3.1311389753985557\n",
            "n = 92\t->\t pi = 3.1312521725258744\n",
            "n = 93\t->\t pi = 3.131362944432593\n",
            "n = 94\t->\t pi = 3.1314713682317588\n",
            "n = 95\t->\t pi = 3.1315775178015124\n",
            "n = 96\t->\t pi = 3.131681463952959\n",
            "n = 97\t->\t pi = 3.131783274587691\n",
            "n = 98\t->\t pi = 3.1318830148457004\n",
            "n = 99\t->\t pi = 3.1319807472443633\n"
          ]
        }
      ]
    },
    {
      "cell_type": "markdown",
      "source": [
        "##  Gregory-Leibnitz sequence"
      ],
      "metadata": {
        "id": "R8D2S7-tUaGZ"
      }
    },
    {
      "cell_type": "code",
      "source": [
        "import numpy as np"
      ],
      "metadata": {
        "id": "eIvV-0u8Vq-q"
      },
      "execution_count": null,
      "outputs": []
    },
    {
      "cell_type": "code",
      "source": [
        "def arctg(n: int):\n",
        "    if n == 0:\n",
        "        n += 1\n",
        "    NEG_ONE = -1\n",
        "    f1 = 1\n",
        "    arr_1 = np.zeros(n)\n",
        "    arr_1[0] = f1\n",
        "    for i in range(0, n):\n",
        "        t1 = (NEG_ONE ** i) * ((f1 ** (2 * i + 1)) / (2 * i + 1))\n",
        "        arr_1[i] = t1\n",
        "    return arr_1.sum()"
      ],
      "metadata": {
        "id": "zQ3yh1c_SKm6"
      },
      "execution_count": null,
      "outputs": []
    },
    {
      "cell_type": "code",
      "source": [
        "def calculate_pi(n: int):\n",
        "    sum_1 = arctg(n)\n",
        "    return 4 * sum_1"
      ],
      "metadata": {
        "id": "6j-OQYCaVycQ"
      },
      "execution_count": null,
      "outputs": []
    },
    {
      "cell_type": "code",
      "source": [
        "print(\"n = {:<12}-> pi = {:>12}\".format(10, calculate_pi(10)))\n",
        "print(\"n = {:<12}-> pi = {:>12}\".format(100, calculate_pi(100)))\n",
        "print(\"n = {:<12}-> pi = {:>12}\".format(1000, calculate_pi(1000)))\n",
        "print(\"n = {:<12}-> pi = {:>12}\".format(2000, calculate_pi(2000)))\n",
        "print(\"n = {:<12}-> pi = {:>12}\".format(3000, calculate_pi(3000)))\n",
        "print(\"n = {:<12}-> pi = {:>12}\".format(6000, calculate_pi(6000)))\n",
        "print(\"n = {:<12}-> pi = {:>12}\".format(10000, calculate_pi(10000)))"
      ],
      "metadata": {
        "colab": {
          "base_uri": "https://localhost:8080/"
        },
        "id": "k5d9n1O1V3CK",
        "outputId": "449b1ebf-15ea-41ce-a163-605a3bb16f76"
      },
      "execution_count": null,
      "outputs": [
        {
          "output_type": "stream",
          "name": "stdout",
          "text": [
            "n = 10          -> pi = 3.0418396189294024\n",
            "n = 100         -> pi = 3.131592903558552\n",
            "n = 1000        -> pi = 3.140592653839792\n",
            "n = 2000        -> pi = 3.141092653621042\n",
            "n = 3000        -> pi = 3.141259320265719\n",
            "n = 6000        -> pi = 3.141425986924284\n",
            "n = 10000       -> pi = 3.1414926535900416\n"
          ]
        }
      ]
    },
    {
      "cell_type": "markdown",
      "source": [
        "# Rounding, Errors and Floating Point\n",
        "\n",
        "## Approximation of $\\pi$\n",
        "* Mach formula:\n",
        "$$\n",
        "\\dfrac{\\pi}{4} = 4.\\arctan\\Bigg(\\dfrac{1}{5}\\Bigg) - \\arctan\\Bigg(\\dfrac{1}{239}\\Bigg)\n",
        "$$\n",
        "\n",
        "* We can estimate the value of $\\pi$ through a Taylor series:\n",
        "\n",
        "$$\n",
        "\\arctan(x)=\\sum_{n = 0}^{∞}(-1)^{n} \\, \\dfrac{x^{(2n + 1)}}{2n + 1}\n",
        "$$"
      ],
      "metadata": {
        "id": "uyE-lD9qZzCp"
      }
    },
    {
      "cell_type": "code",
      "source": [
        "def arctg(n: int):\n",
        "    if n == 0:\n",
        "        n += 1\n",
        "    NEG_ONE = -1\n",
        "    f1, f2 = 1 / 5, 1 / 239\n",
        "    arr_1, arr_2 = np.zeros(n), np.zeros(n)\n",
        "    arr_1[0] = f1\n",
        "    arr_2[0] = f2\n",
        "    for i in range(0, n):\n",
        "        t1 = (NEG_ONE ** i) * ((f1 ** (2 * i + 1)) / (2 * i + 1))\n",
        "        t2 = (NEG_ONE ** i) * ((f2 ** (2 * i + 1)) / (2 * i + 1))\n",
        "        arr_1[i] = t1\n",
        "        arr_2[i] = t2\n",
        "    return arr_1.sum(), arr_2.sum()"
      ],
      "metadata": {
        "id": "sVAhLIvXWU7x"
      },
      "execution_count": null,
      "outputs": []
    },
    {
      "cell_type": "code",
      "source": [
        "def pi_app(n: int):\n",
        "    sum_1, sum_2 = arctg(n)\n",
        "    return 16 * sum_1 - 4 * sum_2"
      ],
      "metadata": {
        "id": "ZaoRCVXqZ0p5"
      },
      "execution_count": null,
      "outputs": []
    },
    {
      "cell_type": "code",
      "source": [
        "for n in range(20):\n",
        "    print(\"n = {} ----> pi = {}\".format(n, pi_app(n)))"
      ],
      "metadata": {
        "colab": {
          "base_uri": "https://localhost:8080/"
        },
        "id": "Z_lM0vdTZ3AO",
        "outputId": "6a6da43a-df60-4022-fecc-3c61734cf942"
      },
      "execution_count": null,
      "outputs": [
        {
          "output_type": "stream",
          "name": "stdout",
          "text": [
            "n = 0 ----> pi = 3.18326359832636\n",
            "n = 1 ----> pi = 3.18326359832636\n",
            "n = 2 ----> pi = 3.1405970293260603\n",
            "n = 3 ----> pi = 3.1416210293250346\n",
            "n = 4 ----> pi = 3.1415917721821773\n",
            "n = 5 ----> pi = 3.1415926824043994\n",
            "n = 6 ----> pi = 3.1415926526153086\n",
            "n = 7 ----> pi = 3.141592653623555\n",
            "n = 8 ----> pi = 3.141592653588602\n",
            "n = 9 ----> pi = 3.1415926535898357\n",
            "n = 10 ----> pi = 3.141592653589792\n",
            "n = 11 ----> pi = 3.1415926535897936\n",
            "n = 12 ----> pi = 3.1415926535897936\n",
            "n = 13 ----> pi = 3.1415926535897936\n",
            "n = 14 ----> pi = 3.1415926535897936\n",
            "n = 15 ----> pi = 3.1415926535897936\n",
            "n = 16 ----> pi = 3.141592653589793\n",
            "n = 17 ----> pi = 3.141592653589793\n",
            "n = 18 ----> pi = 3.141592653589793\n",
            "n = 19 ----> pi = 3.141592653589793\n"
          ]
        }
      ]
    },
    {
      "cell_type": "code",
      "source": [],
      "metadata": {
        "id": "ZOQDGOq-Z4jG"
      },
      "execution_count": null,
      "outputs": []
    }
  ]
}
